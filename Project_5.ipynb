{
 "cells": [
  {
   "cell_type": "markdown",
   "metadata": {},
   "source": [
    "We have a dataset containing all the information for videogame sales from the first years of game releases all the way to 2016. We are looking at all the trends in sales, reviews, and overall performance of games and platforms. By analyzing this data, our goal is to create a strategy for a game release in the year 2017. We can understand what platforms are growing and shrinking, what types of games do well and in what parts of the world, what genres are successful and what genres fail, and whether we should prioritize our release according to what we find in the data. "
   ]
  },
  {
   "cell_type": "markdown",
   "metadata": {},
   "source": []
  },
  {
   "cell_type": "code",
   "execution_count": 1,
   "metadata": {},
   "outputs": [],
   "source": [
    "import pandas as pd"
   ]
  },
  {
   "cell_type": "code",
   "execution_count": 2,
   "metadata": {},
   "outputs": [],
   "source": [
    "import matplotlib.pyplot as plt"
   ]
  },
  {
   "cell_type": "code",
   "execution_count": 3,
   "metadata": {},
   "outputs": [],
   "source": [
    "import seaborn as sns"
   ]
  },
  {
   "cell_type": "code",
   "execution_count": 4,
   "metadata": {},
   "outputs": [],
   "source": [
    "from scipy import stats as st"
   ]
  },
  {
   "cell_type": "code",
   "execution_count": 5,
   "metadata": {},
   "outputs": [],
   "source": [
    "data = pd.read_csv('/datasets/games.csv')"
   ]
  },
  {
   "cell_type": "code",
   "execution_count": 6,
   "metadata": {},
   "outputs": [
    {
     "data": {
      "text/html": [
       "<div>\n",
       "<style scoped>\n",
       "    .dataframe tbody tr th:only-of-type {\n",
       "        vertical-align: middle;\n",
       "    }\n",
       "\n",
       "    .dataframe tbody tr th {\n",
       "        vertical-align: top;\n",
       "    }\n",
       "\n",
       "    .dataframe thead th {\n",
       "        text-align: right;\n",
       "    }\n",
       "</style>\n",
       "<table border=\"1\" class=\"dataframe\">\n",
       "  <thead>\n",
       "    <tr style=\"text-align: right;\">\n",
       "      <th></th>\n",
       "      <th>Name</th>\n",
       "      <th>Platform</th>\n",
       "      <th>Year_of_Release</th>\n",
       "      <th>Genre</th>\n",
       "      <th>NA_sales</th>\n",
       "      <th>EU_sales</th>\n",
       "      <th>JP_sales</th>\n",
       "      <th>Other_sales</th>\n",
       "      <th>Critic_Score</th>\n",
       "      <th>User_Score</th>\n",
       "      <th>Rating</th>\n",
       "    </tr>\n",
       "  </thead>\n",
       "  <tbody>\n",
       "    <tr>\n",
       "      <th>0</th>\n",
       "      <td>Wii Sports</td>\n",
       "      <td>Wii</td>\n",
       "      <td>2006.0</td>\n",
       "      <td>Sports</td>\n",
       "      <td>41.36</td>\n",
       "      <td>28.96</td>\n",
       "      <td>3.77</td>\n",
       "      <td>8.45</td>\n",
       "      <td>76.0</td>\n",
       "      <td>8</td>\n",
       "      <td>E</td>\n",
       "    </tr>\n",
       "    <tr>\n",
       "      <th>1</th>\n",
       "      <td>Super Mario Bros.</td>\n",
       "      <td>NES</td>\n",
       "      <td>1985.0</td>\n",
       "      <td>Platform</td>\n",
       "      <td>29.08</td>\n",
       "      <td>3.58</td>\n",
       "      <td>6.81</td>\n",
       "      <td>0.77</td>\n",
       "      <td>NaN</td>\n",
       "      <td>NaN</td>\n",
       "      <td>NaN</td>\n",
       "    </tr>\n",
       "    <tr>\n",
       "      <th>2</th>\n",
       "      <td>Mario Kart Wii</td>\n",
       "      <td>Wii</td>\n",
       "      <td>2008.0</td>\n",
       "      <td>Racing</td>\n",
       "      <td>15.68</td>\n",
       "      <td>12.76</td>\n",
       "      <td>3.79</td>\n",
       "      <td>3.29</td>\n",
       "      <td>82.0</td>\n",
       "      <td>8.3</td>\n",
       "      <td>E</td>\n",
       "    </tr>\n",
       "    <tr>\n",
       "      <th>3</th>\n",
       "      <td>Wii Sports Resort</td>\n",
       "      <td>Wii</td>\n",
       "      <td>2009.0</td>\n",
       "      <td>Sports</td>\n",
       "      <td>15.61</td>\n",
       "      <td>10.93</td>\n",
       "      <td>3.28</td>\n",
       "      <td>2.95</td>\n",
       "      <td>80.0</td>\n",
       "      <td>8</td>\n",
       "      <td>E</td>\n",
       "    </tr>\n",
       "    <tr>\n",
       "      <th>4</th>\n",
       "      <td>Pokemon Red/Pokemon Blue</td>\n",
       "      <td>GB</td>\n",
       "      <td>1996.0</td>\n",
       "      <td>Role-Playing</td>\n",
       "      <td>11.27</td>\n",
       "      <td>8.89</td>\n",
       "      <td>10.22</td>\n",
       "      <td>1.00</td>\n",
       "      <td>NaN</td>\n",
       "      <td>NaN</td>\n",
       "      <td>NaN</td>\n",
       "    </tr>\n",
       "    <tr>\n",
       "      <th>...</th>\n",
       "      <td>...</td>\n",
       "      <td>...</td>\n",
       "      <td>...</td>\n",
       "      <td>...</td>\n",
       "      <td>...</td>\n",
       "      <td>...</td>\n",
       "      <td>...</td>\n",
       "      <td>...</td>\n",
       "      <td>...</td>\n",
       "      <td>...</td>\n",
       "      <td>...</td>\n",
       "    </tr>\n",
       "    <tr>\n",
       "      <th>16710</th>\n",
       "      <td>Samurai Warriors: Sanada Maru</td>\n",
       "      <td>PS3</td>\n",
       "      <td>2016.0</td>\n",
       "      <td>Action</td>\n",
       "      <td>0.00</td>\n",
       "      <td>0.00</td>\n",
       "      <td>0.01</td>\n",
       "      <td>0.00</td>\n",
       "      <td>NaN</td>\n",
       "      <td>NaN</td>\n",
       "      <td>NaN</td>\n",
       "    </tr>\n",
       "    <tr>\n",
       "      <th>16711</th>\n",
       "      <td>LMA Manager 2007</td>\n",
       "      <td>X360</td>\n",
       "      <td>2006.0</td>\n",
       "      <td>Sports</td>\n",
       "      <td>0.00</td>\n",
       "      <td>0.01</td>\n",
       "      <td>0.00</td>\n",
       "      <td>0.00</td>\n",
       "      <td>NaN</td>\n",
       "      <td>NaN</td>\n",
       "      <td>NaN</td>\n",
       "    </tr>\n",
       "    <tr>\n",
       "      <th>16712</th>\n",
       "      <td>Haitaka no Psychedelica</td>\n",
       "      <td>PSV</td>\n",
       "      <td>2016.0</td>\n",
       "      <td>Adventure</td>\n",
       "      <td>0.00</td>\n",
       "      <td>0.00</td>\n",
       "      <td>0.01</td>\n",
       "      <td>0.00</td>\n",
       "      <td>NaN</td>\n",
       "      <td>NaN</td>\n",
       "      <td>NaN</td>\n",
       "    </tr>\n",
       "    <tr>\n",
       "      <th>16713</th>\n",
       "      <td>Spirits &amp; Spells</td>\n",
       "      <td>GBA</td>\n",
       "      <td>2003.0</td>\n",
       "      <td>Platform</td>\n",
       "      <td>0.01</td>\n",
       "      <td>0.00</td>\n",
       "      <td>0.00</td>\n",
       "      <td>0.00</td>\n",
       "      <td>NaN</td>\n",
       "      <td>NaN</td>\n",
       "      <td>NaN</td>\n",
       "    </tr>\n",
       "    <tr>\n",
       "      <th>16714</th>\n",
       "      <td>Winning Post 8 2016</td>\n",
       "      <td>PSV</td>\n",
       "      <td>2016.0</td>\n",
       "      <td>Simulation</td>\n",
       "      <td>0.00</td>\n",
       "      <td>0.00</td>\n",
       "      <td>0.01</td>\n",
       "      <td>0.00</td>\n",
       "      <td>NaN</td>\n",
       "      <td>NaN</td>\n",
       "      <td>NaN</td>\n",
       "    </tr>\n",
       "  </tbody>\n",
       "</table>\n",
       "<p>16715 rows × 11 columns</p>\n",
       "</div>"
      ],
      "text/plain": [
       "                                Name Platform  Year_of_Release         Genre  \\\n",
       "0                         Wii Sports      Wii           2006.0        Sports   \n",
       "1                  Super Mario Bros.      NES           1985.0      Platform   \n",
       "2                     Mario Kart Wii      Wii           2008.0        Racing   \n",
       "3                  Wii Sports Resort      Wii           2009.0        Sports   \n",
       "4           Pokemon Red/Pokemon Blue       GB           1996.0  Role-Playing   \n",
       "...                              ...      ...              ...           ...   \n",
       "16710  Samurai Warriors: Sanada Maru      PS3           2016.0        Action   \n",
       "16711               LMA Manager 2007     X360           2006.0        Sports   \n",
       "16712        Haitaka no Psychedelica      PSV           2016.0     Adventure   \n",
       "16713               Spirits & Spells      GBA           2003.0      Platform   \n",
       "16714            Winning Post 8 2016      PSV           2016.0    Simulation   \n",
       "\n",
       "       NA_sales  EU_sales  JP_sales  Other_sales  Critic_Score User_Score  \\\n",
       "0         41.36     28.96      3.77         8.45          76.0          8   \n",
       "1         29.08      3.58      6.81         0.77           NaN        NaN   \n",
       "2         15.68     12.76      3.79         3.29          82.0        8.3   \n",
       "3         15.61     10.93      3.28         2.95          80.0          8   \n",
       "4         11.27      8.89     10.22         1.00           NaN        NaN   \n",
       "...         ...       ...       ...          ...           ...        ...   \n",
       "16710      0.00      0.00      0.01         0.00           NaN        NaN   \n",
       "16711      0.00      0.01      0.00         0.00           NaN        NaN   \n",
       "16712      0.00      0.00      0.01         0.00           NaN        NaN   \n",
       "16713      0.01      0.00      0.00         0.00           NaN        NaN   \n",
       "16714      0.00      0.00      0.01         0.00           NaN        NaN   \n",
       "\n",
       "      Rating  \n",
       "0          E  \n",
       "1        NaN  \n",
       "2          E  \n",
       "3          E  \n",
       "4        NaN  \n",
       "...      ...  \n",
       "16710    NaN  \n",
       "16711    NaN  \n",
       "16712    NaN  \n",
       "16713    NaN  \n",
       "16714    NaN  \n",
       "\n",
       "[16715 rows x 11 columns]"
      ]
     },
     "execution_count": 6,
     "metadata": {},
     "output_type": "execute_result"
    }
   ],
   "source": [
    "data"
   ]
  },
  {
   "cell_type": "code",
   "execution_count": 7,
   "metadata": {},
   "outputs": [],
   "source": [
    "data.columns = data.columns.str.lower()"
   ]
  },
  {
   "cell_type": "markdown",
   "metadata": {},
   "source": [
    "Converted column names to lowercase"
   ]
  },
  {
   "cell_type": "code",
   "execution_count": 8,
   "metadata": {},
   "outputs": [
    {
     "data": {
      "text/html": [
       "<div>\n",
       "<style scoped>\n",
       "    .dataframe tbody tr th:only-of-type {\n",
       "        vertical-align: middle;\n",
       "    }\n",
       "\n",
       "    .dataframe tbody tr th {\n",
       "        vertical-align: top;\n",
       "    }\n",
       "\n",
       "    .dataframe thead th {\n",
       "        text-align: right;\n",
       "    }\n",
       "</style>\n",
       "<table border=\"1\" class=\"dataframe\">\n",
       "  <thead>\n",
       "    <tr style=\"text-align: right;\">\n",
       "      <th></th>\n",
       "      <th>name</th>\n",
       "      <th>platform</th>\n",
       "      <th>year_of_release</th>\n",
       "      <th>genre</th>\n",
       "      <th>na_sales</th>\n",
       "      <th>eu_sales</th>\n",
       "      <th>jp_sales</th>\n",
       "      <th>other_sales</th>\n",
       "      <th>critic_score</th>\n",
       "      <th>user_score</th>\n",
       "      <th>rating</th>\n",
       "    </tr>\n",
       "  </thead>\n",
       "  <tbody>\n",
       "    <tr>\n",
       "      <th>0</th>\n",
       "      <td>Wii Sports</td>\n",
       "      <td>Wii</td>\n",
       "      <td>2006.0</td>\n",
       "      <td>Sports</td>\n",
       "      <td>41.36</td>\n",
       "      <td>28.96</td>\n",
       "      <td>3.77</td>\n",
       "      <td>8.45</td>\n",
       "      <td>76.0</td>\n",
       "      <td>8</td>\n",
       "      <td>E</td>\n",
       "    </tr>\n",
       "    <tr>\n",
       "      <th>1</th>\n",
       "      <td>Super Mario Bros.</td>\n",
       "      <td>NES</td>\n",
       "      <td>1985.0</td>\n",
       "      <td>Platform</td>\n",
       "      <td>29.08</td>\n",
       "      <td>3.58</td>\n",
       "      <td>6.81</td>\n",
       "      <td>0.77</td>\n",
       "      <td>NaN</td>\n",
       "      <td>NaN</td>\n",
       "      <td>NaN</td>\n",
       "    </tr>\n",
       "    <tr>\n",
       "      <th>2</th>\n",
       "      <td>Mario Kart Wii</td>\n",
       "      <td>Wii</td>\n",
       "      <td>2008.0</td>\n",
       "      <td>Racing</td>\n",
       "      <td>15.68</td>\n",
       "      <td>12.76</td>\n",
       "      <td>3.79</td>\n",
       "      <td>3.29</td>\n",
       "      <td>82.0</td>\n",
       "      <td>8.3</td>\n",
       "      <td>E</td>\n",
       "    </tr>\n",
       "    <tr>\n",
       "      <th>3</th>\n",
       "      <td>Wii Sports Resort</td>\n",
       "      <td>Wii</td>\n",
       "      <td>2009.0</td>\n",
       "      <td>Sports</td>\n",
       "      <td>15.61</td>\n",
       "      <td>10.93</td>\n",
       "      <td>3.28</td>\n",
       "      <td>2.95</td>\n",
       "      <td>80.0</td>\n",
       "      <td>8</td>\n",
       "      <td>E</td>\n",
       "    </tr>\n",
       "    <tr>\n",
       "      <th>4</th>\n",
       "      <td>Pokemon Red/Pokemon Blue</td>\n",
       "      <td>GB</td>\n",
       "      <td>1996.0</td>\n",
       "      <td>Role-Playing</td>\n",
       "      <td>11.27</td>\n",
       "      <td>8.89</td>\n",
       "      <td>10.22</td>\n",
       "      <td>1.00</td>\n",
       "      <td>NaN</td>\n",
       "      <td>NaN</td>\n",
       "      <td>NaN</td>\n",
       "    </tr>\n",
       "    <tr>\n",
       "      <th>...</th>\n",
       "      <td>...</td>\n",
       "      <td>...</td>\n",
       "      <td>...</td>\n",
       "      <td>...</td>\n",
       "      <td>...</td>\n",
       "      <td>...</td>\n",
       "      <td>...</td>\n",
       "      <td>...</td>\n",
       "      <td>...</td>\n",
       "      <td>...</td>\n",
       "      <td>...</td>\n",
       "    </tr>\n",
       "    <tr>\n",
       "      <th>16710</th>\n",
       "      <td>Samurai Warriors: Sanada Maru</td>\n",
       "      <td>PS3</td>\n",
       "      <td>2016.0</td>\n",
       "      <td>Action</td>\n",
       "      <td>0.00</td>\n",
       "      <td>0.00</td>\n",
       "      <td>0.01</td>\n",
       "      <td>0.00</td>\n",
       "      <td>NaN</td>\n",
       "      <td>NaN</td>\n",
       "      <td>NaN</td>\n",
       "    </tr>\n",
       "    <tr>\n",
       "      <th>16711</th>\n",
       "      <td>LMA Manager 2007</td>\n",
       "      <td>X360</td>\n",
       "      <td>2006.0</td>\n",
       "      <td>Sports</td>\n",
       "      <td>0.00</td>\n",
       "      <td>0.01</td>\n",
       "      <td>0.00</td>\n",
       "      <td>0.00</td>\n",
       "      <td>NaN</td>\n",
       "      <td>NaN</td>\n",
       "      <td>NaN</td>\n",
       "    </tr>\n",
       "    <tr>\n",
       "      <th>16712</th>\n",
       "      <td>Haitaka no Psychedelica</td>\n",
       "      <td>PSV</td>\n",
       "      <td>2016.0</td>\n",
       "      <td>Adventure</td>\n",
       "      <td>0.00</td>\n",
       "      <td>0.00</td>\n",
       "      <td>0.01</td>\n",
       "      <td>0.00</td>\n",
       "      <td>NaN</td>\n",
       "      <td>NaN</td>\n",
       "      <td>NaN</td>\n",
       "    </tr>\n",
       "    <tr>\n",
       "      <th>16713</th>\n",
       "      <td>Spirits &amp; Spells</td>\n",
       "      <td>GBA</td>\n",
       "      <td>2003.0</td>\n",
       "      <td>Platform</td>\n",
       "      <td>0.01</td>\n",
       "      <td>0.00</td>\n",
       "      <td>0.00</td>\n",
       "      <td>0.00</td>\n",
       "      <td>NaN</td>\n",
       "      <td>NaN</td>\n",
       "      <td>NaN</td>\n",
       "    </tr>\n",
       "    <tr>\n",
       "      <th>16714</th>\n",
       "      <td>Winning Post 8 2016</td>\n",
       "      <td>PSV</td>\n",
       "      <td>2016.0</td>\n",
       "      <td>Simulation</td>\n",
       "      <td>0.00</td>\n",
       "      <td>0.00</td>\n",
       "      <td>0.01</td>\n",
       "      <td>0.00</td>\n",
       "      <td>NaN</td>\n",
       "      <td>NaN</td>\n",
       "      <td>NaN</td>\n",
       "    </tr>\n",
       "  </tbody>\n",
       "</table>\n",
       "<p>16715 rows × 11 columns</p>\n",
       "</div>"
      ],
      "text/plain": [
       "                                name platform  year_of_release         genre  \\\n",
       "0                         Wii Sports      Wii           2006.0        Sports   \n",
       "1                  Super Mario Bros.      NES           1985.0      Platform   \n",
       "2                     Mario Kart Wii      Wii           2008.0        Racing   \n",
       "3                  Wii Sports Resort      Wii           2009.0        Sports   \n",
       "4           Pokemon Red/Pokemon Blue       GB           1996.0  Role-Playing   \n",
       "...                              ...      ...              ...           ...   \n",
       "16710  Samurai Warriors: Sanada Maru      PS3           2016.0        Action   \n",
       "16711               LMA Manager 2007     X360           2006.0        Sports   \n",
       "16712        Haitaka no Psychedelica      PSV           2016.0     Adventure   \n",
       "16713               Spirits & Spells      GBA           2003.0      Platform   \n",
       "16714            Winning Post 8 2016      PSV           2016.0    Simulation   \n",
       "\n",
       "       na_sales  eu_sales  jp_sales  other_sales  critic_score user_score  \\\n",
       "0         41.36     28.96      3.77         8.45          76.0          8   \n",
       "1         29.08      3.58      6.81         0.77           NaN        NaN   \n",
       "2         15.68     12.76      3.79         3.29          82.0        8.3   \n",
       "3         15.61     10.93      3.28         2.95          80.0          8   \n",
       "4         11.27      8.89     10.22         1.00           NaN        NaN   \n",
       "...         ...       ...       ...          ...           ...        ...   \n",
       "16710      0.00      0.00      0.01         0.00           NaN        NaN   \n",
       "16711      0.00      0.01      0.00         0.00           NaN        NaN   \n",
       "16712      0.00      0.00      0.01         0.00           NaN        NaN   \n",
       "16713      0.01      0.00      0.00         0.00           NaN        NaN   \n",
       "16714      0.00      0.00      0.01         0.00           NaN        NaN   \n",
       "\n",
       "      rating  \n",
       "0          E  \n",
       "1        NaN  \n",
       "2          E  \n",
       "3          E  \n",
       "4        NaN  \n",
       "...      ...  \n",
       "16710    NaN  \n",
       "16711    NaN  \n",
       "16712    NaN  \n",
       "16713    NaN  \n",
       "16714    NaN  \n",
       "\n",
       "[16715 rows x 11 columns]"
      ]
     },
     "execution_count": 8,
     "metadata": {},
     "output_type": "execute_result"
    }
   ],
   "source": [
    "data"
   ]
  },
  {
   "cell_type": "code",
   "execution_count": 9,
   "metadata": {},
   "outputs": [
    {
     "name": "stdout",
     "output_type": "stream",
     "text": [
      "<class 'pandas.core.frame.DataFrame'>\n",
      "RangeIndex: 16715 entries, 0 to 16714\n",
      "Data columns (total 11 columns):\n",
      " #   Column           Non-Null Count  Dtype  \n",
      "---  ------           --------------  -----  \n",
      " 0   name             16713 non-null  object \n",
      " 1   platform         16715 non-null  object \n",
      " 2   year_of_release  16446 non-null  float64\n",
      " 3   genre            16713 non-null  object \n",
      " 4   na_sales         16715 non-null  float64\n",
      " 5   eu_sales         16715 non-null  float64\n",
      " 6   jp_sales         16715 non-null  float64\n",
      " 7   other_sales      16715 non-null  float64\n",
      " 8   critic_score     8137 non-null   float64\n",
      " 9   user_score       10014 non-null  object \n",
      " 10  rating           9949 non-null   object \n",
      "dtypes: float64(6), object(5)\n",
      "memory usage: 1.4+ MB\n"
     ]
    }
   ],
   "source": [
    "data.info()"
   ]
  },
  {
   "cell_type": "markdown",
   "metadata": {},
   "source": [
    "Datatypes will need to be converted. "
   ]
  },
  {
   "cell_type": "code",
   "execution_count": 10,
   "metadata": {},
   "outputs": [],
   "source": [
    "data['year_of_release'] = data['year_of_release'].dropna().astype(int)"
   ]
  },
  {
   "cell_type": "code",
   "execution_count": 11,
   "metadata": {},
   "outputs": [],
   "source": [
    "data['year_of_release']= pd.to_datetime(data['year_of_release'], format='%Y', errors='coerce')"
   ]
  },
  {
   "cell_type": "markdown",
   "metadata": {},
   "source": [
    "converted year_of_release column to time date"
   ]
  },
  {
   "cell_type": "code",
   "execution_count": 12,
   "metadata": {},
   "outputs": [],
   "source": [
    "data['critic_score']= data['critic_score'].astype(float)"
   ]
  },
  {
   "cell_type": "code",
   "execution_count": 13,
   "metadata": {},
   "outputs": [],
   "source": [
    "data=data.dropna()"
   ]
  },
  {
   "cell_type": "markdown",
   "metadata": {},
   "source": [
    "Converted critic_score column from object to float and then filled missing data with the median score since there are limited outliers to estimate their value."
   ]
  },
  {
   "cell_type": "code",
   "execution_count": 14,
   "metadata": {},
   "outputs": [],
   "source": [
    "data=data[data['user_score'] != 'tbd']"
   ]
  },
  {
   "cell_type": "code",
   "execution_count": 15,
   "metadata": {},
   "outputs": [],
   "source": [
    "data['user_score']= data['user_score'].astype(float)"
   ]
  },
  {
   "cell_type": "code",
   "execution_count": 16,
   "metadata": {
    "scrolled": false
   },
   "outputs": [],
   "source": [
    "data['user_score']= data['user_score'].fillna(data['user_score'].median())"
   ]
  },
  {
   "cell_type": "code",
   "execution_count": 17,
   "metadata": {},
   "outputs": [
    {
     "data": {
      "text/plain": [
       "7.8    294\n",
       "8.0    259\n",
       "8.2    258\n",
       "8.5    238\n",
       "7.9    235\n",
       "      ... \n",
       "1.0      2\n",
       "0.6      1\n",
       "0.9      1\n",
       "1.3      1\n",
       "0.7      1\n",
       "Name: user_score, Length: 89, dtype: int64"
      ]
     },
     "execution_count": 17,
     "metadata": {},
     "output_type": "execute_result"
    }
   ],
   "source": [
    "data['user_score'].isna().sum()\n",
    "data['user_score'].value_counts()"
   ]
  },
  {
   "cell_type": "markdown",
   "metadata": {},
   "source": [
    "For the user_score column we replaced any values not TBD to a float and filled the missing values with the median value for the column. With no outliers it seemed to be the more accurate way to fill missing values"
   ]
  },
  {
   "cell_type": "code",
   "execution_count": 18,
   "metadata": {},
   "outputs": [
    {
     "data": {
      "text/html": [
       "<div>\n",
       "<style scoped>\n",
       "    .dataframe tbody tr th:only-of-type {\n",
       "        vertical-align: middle;\n",
       "    }\n",
       "\n",
       "    .dataframe tbody tr th {\n",
       "        vertical-align: top;\n",
       "    }\n",
       "\n",
       "    .dataframe thead th {\n",
       "        text-align: right;\n",
       "    }\n",
       "</style>\n",
       "<table border=\"1\" class=\"dataframe\">\n",
       "  <thead>\n",
       "    <tr style=\"text-align: right;\">\n",
       "      <th></th>\n",
       "      <th>name</th>\n",
       "      <th>platform</th>\n",
       "      <th>year_of_release</th>\n",
       "      <th>genre</th>\n",
       "      <th>na_sales</th>\n",
       "      <th>eu_sales</th>\n",
       "      <th>jp_sales</th>\n",
       "      <th>other_sales</th>\n",
       "      <th>critic_score</th>\n",
       "      <th>user_score</th>\n",
       "      <th>rating</th>\n",
       "    </tr>\n",
       "  </thead>\n",
       "  <tbody>\n",
       "    <tr>\n",
       "      <th>0</th>\n",
       "      <td>Wii Sports</td>\n",
       "      <td>Wii</td>\n",
       "      <td>2006-01-01</td>\n",
       "      <td>Sports</td>\n",
       "      <td>41.36</td>\n",
       "      <td>28.96</td>\n",
       "      <td>3.77</td>\n",
       "      <td>8.45</td>\n",
       "      <td>76.0</td>\n",
       "      <td>8.0</td>\n",
       "      <td>E</td>\n",
       "    </tr>\n",
       "    <tr>\n",
       "      <th>2</th>\n",
       "      <td>Mario Kart Wii</td>\n",
       "      <td>Wii</td>\n",
       "      <td>2008-01-01</td>\n",
       "      <td>Racing</td>\n",
       "      <td>15.68</td>\n",
       "      <td>12.76</td>\n",
       "      <td>3.79</td>\n",
       "      <td>3.29</td>\n",
       "      <td>82.0</td>\n",
       "      <td>8.3</td>\n",
       "      <td>E</td>\n",
       "    </tr>\n",
       "    <tr>\n",
       "      <th>3</th>\n",
       "      <td>Wii Sports Resort</td>\n",
       "      <td>Wii</td>\n",
       "      <td>2009-01-01</td>\n",
       "      <td>Sports</td>\n",
       "      <td>15.61</td>\n",
       "      <td>10.93</td>\n",
       "      <td>3.28</td>\n",
       "      <td>2.95</td>\n",
       "      <td>80.0</td>\n",
       "      <td>8.0</td>\n",
       "      <td>E</td>\n",
       "    </tr>\n",
       "    <tr>\n",
       "      <th>6</th>\n",
       "      <td>New Super Mario Bros.</td>\n",
       "      <td>DS</td>\n",
       "      <td>2006-01-01</td>\n",
       "      <td>Platform</td>\n",
       "      <td>11.28</td>\n",
       "      <td>9.14</td>\n",
       "      <td>6.50</td>\n",
       "      <td>2.88</td>\n",
       "      <td>89.0</td>\n",
       "      <td>8.5</td>\n",
       "      <td>E</td>\n",
       "    </tr>\n",
       "    <tr>\n",
       "      <th>7</th>\n",
       "      <td>Wii Play</td>\n",
       "      <td>Wii</td>\n",
       "      <td>2006-01-01</td>\n",
       "      <td>Misc</td>\n",
       "      <td>13.96</td>\n",
       "      <td>9.18</td>\n",
       "      <td>2.93</td>\n",
       "      <td>2.84</td>\n",
       "      <td>58.0</td>\n",
       "      <td>6.6</td>\n",
       "      <td>E</td>\n",
       "    </tr>\n",
       "    <tr>\n",
       "      <th>...</th>\n",
       "      <td>...</td>\n",
       "      <td>...</td>\n",
       "      <td>...</td>\n",
       "      <td>...</td>\n",
       "      <td>...</td>\n",
       "      <td>...</td>\n",
       "      <td>...</td>\n",
       "      <td>...</td>\n",
       "      <td>...</td>\n",
       "      <td>...</td>\n",
       "      <td>...</td>\n",
       "    </tr>\n",
       "    <tr>\n",
       "      <th>16663</th>\n",
       "      <td>E.T. The Extra-Terrestrial</td>\n",
       "      <td>GBA</td>\n",
       "      <td>2001-01-01</td>\n",
       "      <td>Action</td>\n",
       "      <td>0.01</td>\n",
       "      <td>0.00</td>\n",
       "      <td>0.00</td>\n",
       "      <td>0.00</td>\n",
       "      <td>46.0</td>\n",
       "      <td>2.4</td>\n",
       "      <td>E</td>\n",
       "    </tr>\n",
       "    <tr>\n",
       "      <th>16673</th>\n",
       "      <td>Mortal Kombat: Deadly Alliance</td>\n",
       "      <td>GBA</td>\n",
       "      <td>2002-01-01</td>\n",
       "      <td>Fighting</td>\n",
       "      <td>0.01</td>\n",
       "      <td>0.00</td>\n",
       "      <td>0.00</td>\n",
       "      <td>0.00</td>\n",
       "      <td>81.0</td>\n",
       "      <td>8.8</td>\n",
       "      <td>M</td>\n",
       "    </tr>\n",
       "    <tr>\n",
       "      <th>16692</th>\n",
       "      <td>Metal Gear Solid V: Ground Zeroes</td>\n",
       "      <td>PC</td>\n",
       "      <td>2014-01-01</td>\n",
       "      <td>Action</td>\n",
       "      <td>0.00</td>\n",
       "      <td>0.01</td>\n",
       "      <td>0.00</td>\n",
       "      <td>0.00</td>\n",
       "      <td>80.0</td>\n",
       "      <td>7.6</td>\n",
       "      <td>M</td>\n",
       "    </tr>\n",
       "    <tr>\n",
       "      <th>16696</th>\n",
       "      <td>Breach</td>\n",
       "      <td>PC</td>\n",
       "      <td>2011-01-01</td>\n",
       "      <td>Shooter</td>\n",
       "      <td>0.01</td>\n",
       "      <td>0.00</td>\n",
       "      <td>0.00</td>\n",
       "      <td>0.00</td>\n",
       "      <td>61.0</td>\n",
       "      <td>5.8</td>\n",
       "      <td>T</td>\n",
       "    </tr>\n",
       "    <tr>\n",
       "      <th>16702</th>\n",
       "      <td>STORM: Frontline Nation</td>\n",
       "      <td>PC</td>\n",
       "      <td>2011-01-01</td>\n",
       "      <td>Strategy</td>\n",
       "      <td>0.00</td>\n",
       "      <td>0.01</td>\n",
       "      <td>0.00</td>\n",
       "      <td>0.00</td>\n",
       "      <td>60.0</td>\n",
       "      <td>7.2</td>\n",
       "      <td>E10+</td>\n",
       "    </tr>\n",
       "  </tbody>\n",
       "</table>\n",
       "<p>6826 rows × 11 columns</p>\n",
       "</div>"
      ],
      "text/plain": [
       "                                    name platform year_of_release     genre  \\\n",
       "0                             Wii Sports      Wii      2006-01-01    Sports   \n",
       "2                         Mario Kart Wii      Wii      2008-01-01    Racing   \n",
       "3                      Wii Sports Resort      Wii      2009-01-01    Sports   \n",
       "6                  New Super Mario Bros.       DS      2006-01-01  Platform   \n",
       "7                               Wii Play      Wii      2006-01-01      Misc   \n",
       "...                                  ...      ...             ...       ...   \n",
       "16663         E.T. The Extra-Terrestrial      GBA      2001-01-01    Action   \n",
       "16673     Mortal Kombat: Deadly Alliance      GBA      2002-01-01  Fighting   \n",
       "16692  Metal Gear Solid V: Ground Zeroes       PC      2014-01-01    Action   \n",
       "16696                             Breach       PC      2011-01-01   Shooter   \n",
       "16702            STORM: Frontline Nation       PC      2011-01-01  Strategy   \n",
       "\n",
       "       na_sales  eu_sales  jp_sales  other_sales  critic_score  user_score  \\\n",
       "0         41.36     28.96      3.77         8.45          76.0         8.0   \n",
       "2         15.68     12.76      3.79         3.29          82.0         8.3   \n",
       "3         15.61     10.93      3.28         2.95          80.0         8.0   \n",
       "6         11.28      9.14      6.50         2.88          89.0         8.5   \n",
       "7         13.96      9.18      2.93         2.84          58.0         6.6   \n",
       "...         ...       ...       ...          ...           ...         ...   \n",
       "16663      0.01      0.00      0.00         0.00          46.0         2.4   \n",
       "16673      0.01      0.00      0.00         0.00          81.0         8.8   \n",
       "16692      0.00      0.01      0.00         0.00          80.0         7.6   \n",
       "16696      0.01      0.00      0.00         0.00          61.0         5.8   \n",
       "16702      0.00      0.01      0.00         0.00          60.0         7.2   \n",
       "\n",
       "      rating  \n",
       "0          E  \n",
       "2          E  \n",
       "3          E  \n",
       "6          E  \n",
       "7          E  \n",
       "...      ...  \n",
       "16663      E  \n",
       "16673      M  \n",
       "16692      M  \n",
       "16696      T  \n",
       "16702   E10+  \n",
       "\n",
       "[6826 rows x 11 columns]"
      ]
     },
     "execution_count": 18,
     "metadata": {},
     "output_type": "execute_result"
    }
   ],
   "source": [
    "data"
   ]
  },
  {
   "cell_type": "code",
   "execution_count": 19,
   "metadata": {
    "scrolled": true
   },
   "outputs": [],
   "source": [
    "for genre in data['genre'].unique():\n",
    "    if pd.isna(genre):\n",
    "        continue\n",
    "    filter_genre = data[(data['genre']==genre) & ~(data['rating'].isna())]\n",
    "    data.loc[data[(data['genre']==genre)& (data['rating'].isna()) ].index,'rating'] = filter_genre['rating'].mode()[0]"
   ]
  },
  {
   "cell_type": "markdown",
   "metadata": {},
   "source": [
    "Here is where I filled the missing genre values with the mode for the column"
   ]
  },
  {
   "cell_type": "code",
   "execution_count": 20,
   "metadata": {},
   "outputs": [
    {
     "data": {
      "text/html": [
       "<div>\n",
       "<style scoped>\n",
       "    .dataframe tbody tr th:only-of-type {\n",
       "        vertical-align: middle;\n",
       "    }\n",
       "\n",
       "    .dataframe tbody tr th {\n",
       "        vertical-align: top;\n",
       "    }\n",
       "\n",
       "    .dataframe thead th {\n",
       "        text-align: right;\n",
       "    }\n",
       "</style>\n",
       "<table border=\"1\" class=\"dataframe\">\n",
       "  <thead>\n",
       "    <tr style=\"text-align: right;\">\n",
       "      <th></th>\n",
       "      <th>name</th>\n",
       "      <th>platform</th>\n",
       "      <th>year_of_release</th>\n",
       "      <th>genre</th>\n",
       "      <th>na_sales</th>\n",
       "      <th>eu_sales</th>\n",
       "      <th>jp_sales</th>\n",
       "      <th>other_sales</th>\n",
       "      <th>critic_score</th>\n",
       "      <th>user_score</th>\n",
       "      <th>rating</th>\n",
       "    </tr>\n",
       "  </thead>\n",
       "  <tbody>\n",
       "    <tr>\n",
       "      <th>0</th>\n",
       "      <td>Wii Sports</td>\n",
       "      <td>Wii</td>\n",
       "      <td>2006-01-01</td>\n",
       "      <td>Sports</td>\n",
       "      <td>41.36</td>\n",
       "      <td>28.96</td>\n",
       "      <td>3.77</td>\n",
       "      <td>8.45</td>\n",
       "      <td>76.0</td>\n",
       "      <td>8.0</td>\n",
       "      <td>E</td>\n",
       "    </tr>\n",
       "    <tr>\n",
       "      <th>2</th>\n",
       "      <td>Mario Kart Wii</td>\n",
       "      <td>Wii</td>\n",
       "      <td>2008-01-01</td>\n",
       "      <td>Racing</td>\n",
       "      <td>15.68</td>\n",
       "      <td>12.76</td>\n",
       "      <td>3.79</td>\n",
       "      <td>3.29</td>\n",
       "      <td>82.0</td>\n",
       "      <td>8.3</td>\n",
       "      <td>E</td>\n",
       "    </tr>\n",
       "    <tr>\n",
       "      <th>3</th>\n",
       "      <td>Wii Sports Resort</td>\n",
       "      <td>Wii</td>\n",
       "      <td>2009-01-01</td>\n",
       "      <td>Sports</td>\n",
       "      <td>15.61</td>\n",
       "      <td>10.93</td>\n",
       "      <td>3.28</td>\n",
       "      <td>2.95</td>\n",
       "      <td>80.0</td>\n",
       "      <td>8.0</td>\n",
       "      <td>E</td>\n",
       "    </tr>\n",
       "    <tr>\n",
       "      <th>6</th>\n",
       "      <td>New Super Mario Bros.</td>\n",
       "      <td>DS</td>\n",
       "      <td>2006-01-01</td>\n",
       "      <td>Platform</td>\n",
       "      <td>11.28</td>\n",
       "      <td>9.14</td>\n",
       "      <td>6.50</td>\n",
       "      <td>2.88</td>\n",
       "      <td>89.0</td>\n",
       "      <td>8.5</td>\n",
       "      <td>E</td>\n",
       "    </tr>\n",
       "    <tr>\n",
       "      <th>7</th>\n",
       "      <td>Wii Play</td>\n",
       "      <td>Wii</td>\n",
       "      <td>2006-01-01</td>\n",
       "      <td>Misc</td>\n",
       "      <td>13.96</td>\n",
       "      <td>9.18</td>\n",
       "      <td>2.93</td>\n",
       "      <td>2.84</td>\n",
       "      <td>58.0</td>\n",
       "      <td>6.6</td>\n",
       "      <td>E</td>\n",
       "    </tr>\n",
       "    <tr>\n",
       "      <th>...</th>\n",
       "      <td>...</td>\n",
       "      <td>...</td>\n",
       "      <td>...</td>\n",
       "      <td>...</td>\n",
       "      <td>...</td>\n",
       "      <td>...</td>\n",
       "      <td>...</td>\n",
       "      <td>...</td>\n",
       "      <td>...</td>\n",
       "      <td>...</td>\n",
       "      <td>...</td>\n",
       "    </tr>\n",
       "    <tr>\n",
       "      <th>16663</th>\n",
       "      <td>E.T. The Extra-Terrestrial</td>\n",
       "      <td>GBA</td>\n",
       "      <td>2001-01-01</td>\n",
       "      <td>Action</td>\n",
       "      <td>0.01</td>\n",
       "      <td>0.00</td>\n",
       "      <td>0.00</td>\n",
       "      <td>0.00</td>\n",
       "      <td>46.0</td>\n",
       "      <td>2.4</td>\n",
       "      <td>E</td>\n",
       "    </tr>\n",
       "    <tr>\n",
       "      <th>16673</th>\n",
       "      <td>Mortal Kombat: Deadly Alliance</td>\n",
       "      <td>GBA</td>\n",
       "      <td>2002-01-01</td>\n",
       "      <td>Fighting</td>\n",
       "      <td>0.01</td>\n",
       "      <td>0.00</td>\n",
       "      <td>0.00</td>\n",
       "      <td>0.00</td>\n",
       "      <td>81.0</td>\n",
       "      <td>8.8</td>\n",
       "      <td>M</td>\n",
       "    </tr>\n",
       "    <tr>\n",
       "      <th>16692</th>\n",
       "      <td>Metal Gear Solid V: Ground Zeroes</td>\n",
       "      <td>PC</td>\n",
       "      <td>2014-01-01</td>\n",
       "      <td>Action</td>\n",
       "      <td>0.00</td>\n",
       "      <td>0.01</td>\n",
       "      <td>0.00</td>\n",
       "      <td>0.00</td>\n",
       "      <td>80.0</td>\n",
       "      <td>7.6</td>\n",
       "      <td>M</td>\n",
       "    </tr>\n",
       "    <tr>\n",
       "      <th>16696</th>\n",
       "      <td>Breach</td>\n",
       "      <td>PC</td>\n",
       "      <td>2011-01-01</td>\n",
       "      <td>Shooter</td>\n",
       "      <td>0.01</td>\n",
       "      <td>0.00</td>\n",
       "      <td>0.00</td>\n",
       "      <td>0.00</td>\n",
       "      <td>61.0</td>\n",
       "      <td>5.8</td>\n",
       "      <td>T</td>\n",
       "    </tr>\n",
       "    <tr>\n",
       "      <th>16702</th>\n",
       "      <td>STORM: Frontline Nation</td>\n",
       "      <td>PC</td>\n",
       "      <td>2011-01-01</td>\n",
       "      <td>Strategy</td>\n",
       "      <td>0.00</td>\n",
       "      <td>0.01</td>\n",
       "      <td>0.00</td>\n",
       "      <td>0.00</td>\n",
       "      <td>60.0</td>\n",
       "      <td>7.2</td>\n",
       "      <td>E10+</td>\n",
       "    </tr>\n",
       "  </tbody>\n",
       "</table>\n",
       "<p>6826 rows × 11 columns</p>\n",
       "</div>"
      ],
      "text/plain": [
       "                                    name platform year_of_release     genre  \\\n",
       "0                             Wii Sports      Wii      2006-01-01    Sports   \n",
       "2                         Mario Kart Wii      Wii      2008-01-01    Racing   \n",
       "3                      Wii Sports Resort      Wii      2009-01-01    Sports   \n",
       "6                  New Super Mario Bros.       DS      2006-01-01  Platform   \n",
       "7                               Wii Play      Wii      2006-01-01      Misc   \n",
       "...                                  ...      ...             ...       ...   \n",
       "16663         E.T. The Extra-Terrestrial      GBA      2001-01-01    Action   \n",
       "16673     Mortal Kombat: Deadly Alliance      GBA      2002-01-01  Fighting   \n",
       "16692  Metal Gear Solid V: Ground Zeroes       PC      2014-01-01    Action   \n",
       "16696                             Breach       PC      2011-01-01   Shooter   \n",
       "16702            STORM: Frontline Nation       PC      2011-01-01  Strategy   \n",
       "\n",
       "       na_sales  eu_sales  jp_sales  other_sales  critic_score  user_score  \\\n",
       "0         41.36     28.96      3.77         8.45          76.0         8.0   \n",
       "2         15.68     12.76      3.79         3.29          82.0         8.3   \n",
       "3         15.61     10.93      3.28         2.95          80.0         8.0   \n",
       "6         11.28      9.14      6.50         2.88          89.0         8.5   \n",
       "7         13.96      9.18      2.93         2.84          58.0         6.6   \n",
       "...         ...       ...       ...          ...           ...         ...   \n",
       "16663      0.01      0.00      0.00         0.00          46.0         2.4   \n",
       "16673      0.01      0.00      0.00         0.00          81.0         8.8   \n",
       "16692      0.00      0.01      0.00         0.00          80.0         7.6   \n",
       "16696      0.01      0.00      0.00         0.00          61.0         5.8   \n",
       "16702      0.00      0.01      0.00         0.00          60.0         7.2   \n",
       "\n",
       "      rating  \n",
       "0          E  \n",
       "2          E  \n",
       "3          E  \n",
       "6          E  \n",
       "7          E  \n",
       "...      ...  \n",
       "16663      E  \n",
       "16673      M  \n",
       "16692      M  \n",
       "16696      T  \n",
       "16702   E10+  \n",
       "\n",
       "[6826 rows x 11 columns]"
      ]
     },
     "execution_count": 20,
     "metadata": {},
     "output_type": "execute_result"
    }
   ],
   "source": [
    "data"
   ]
  },
  {
   "cell_type": "code",
   "execution_count": 21,
   "metadata": {
    "scrolled": true
   },
   "outputs": [
    {
     "data": {
      "text/plain": [
       "name               0\n",
       "platform           0\n",
       "year_of_release    0\n",
       "genre              0\n",
       "na_sales           0\n",
       "eu_sales           0\n",
       "jp_sales           0\n",
       "other_sales        0\n",
       "critic_score       0\n",
       "user_score         0\n",
       "rating             0\n",
       "dtype: int64"
      ]
     },
     "execution_count": 21,
     "metadata": {},
     "output_type": "execute_result"
    }
   ],
   "source": [
    "data.isnull().sum()"
   ]
  },
  {
   "cell_type": "code",
   "execution_count": 22,
   "metadata": {},
   "outputs": [
    {
     "data": {
      "text/plain": [
       "0"
      ]
     },
     "execution_count": 22,
     "metadata": {},
     "output_type": "execute_result"
    }
   ],
   "source": [
    "data.duplicated().sum()"
   ]
  },
  {
   "cell_type": "markdown",
   "metadata": {},
   "source": []
  },
  {
   "cell_type": "code",
   "execution_count": 23,
   "metadata": {
    "scrolled": true
   },
   "outputs": [],
   "source": [
    "data['total_sales']= data['na_sales'] + data['eu_sales'] + data['jp_sales']+ data['other_sales']"
   ]
  },
  {
   "cell_type": "markdown",
   "metadata": {},
   "source": [
    "Total sales calculated by creating a new column with the sum of na_sales, eu_sales, jp_sales, and other sales to give us the global sales for each game."
   ]
  },
  {
   "cell_type": "code",
   "execution_count": 24,
   "metadata": {},
   "outputs": [
    {
     "data": {
      "text/html": [
       "<div>\n",
       "<style scoped>\n",
       "    .dataframe tbody tr th:only-of-type {\n",
       "        vertical-align: middle;\n",
       "    }\n",
       "\n",
       "    .dataframe tbody tr th {\n",
       "        vertical-align: top;\n",
       "    }\n",
       "\n",
       "    .dataframe thead th {\n",
       "        text-align: right;\n",
       "    }\n",
       "</style>\n",
       "<table border=\"1\" class=\"dataframe\">\n",
       "  <thead>\n",
       "    <tr style=\"text-align: right;\">\n",
       "      <th></th>\n",
       "      <th>name</th>\n",
       "      <th>platform</th>\n",
       "      <th>year_of_release</th>\n",
       "      <th>genre</th>\n",
       "      <th>na_sales</th>\n",
       "      <th>eu_sales</th>\n",
       "      <th>jp_sales</th>\n",
       "      <th>other_sales</th>\n",
       "      <th>critic_score</th>\n",
       "      <th>user_score</th>\n",
       "      <th>rating</th>\n",
       "      <th>total_sales</th>\n",
       "    </tr>\n",
       "  </thead>\n",
       "  <tbody>\n",
       "    <tr>\n",
       "      <th>0</th>\n",
       "      <td>Wii Sports</td>\n",
       "      <td>Wii</td>\n",
       "      <td>2006-01-01</td>\n",
       "      <td>Sports</td>\n",
       "      <td>41.36</td>\n",
       "      <td>28.96</td>\n",
       "      <td>3.77</td>\n",
       "      <td>8.45</td>\n",
       "      <td>76.0</td>\n",
       "      <td>8.0</td>\n",
       "      <td>E</td>\n",
       "      <td>82.54</td>\n",
       "    </tr>\n",
       "    <tr>\n",
       "      <th>2</th>\n",
       "      <td>Mario Kart Wii</td>\n",
       "      <td>Wii</td>\n",
       "      <td>2008-01-01</td>\n",
       "      <td>Racing</td>\n",
       "      <td>15.68</td>\n",
       "      <td>12.76</td>\n",
       "      <td>3.79</td>\n",
       "      <td>3.29</td>\n",
       "      <td>82.0</td>\n",
       "      <td>8.3</td>\n",
       "      <td>E</td>\n",
       "      <td>35.52</td>\n",
       "    </tr>\n",
       "    <tr>\n",
       "      <th>3</th>\n",
       "      <td>Wii Sports Resort</td>\n",
       "      <td>Wii</td>\n",
       "      <td>2009-01-01</td>\n",
       "      <td>Sports</td>\n",
       "      <td>15.61</td>\n",
       "      <td>10.93</td>\n",
       "      <td>3.28</td>\n",
       "      <td>2.95</td>\n",
       "      <td>80.0</td>\n",
       "      <td>8.0</td>\n",
       "      <td>E</td>\n",
       "      <td>32.77</td>\n",
       "    </tr>\n",
       "    <tr>\n",
       "      <th>6</th>\n",
       "      <td>New Super Mario Bros.</td>\n",
       "      <td>DS</td>\n",
       "      <td>2006-01-01</td>\n",
       "      <td>Platform</td>\n",
       "      <td>11.28</td>\n",
       "      <td>9.14</td>\n",
       "      <td>6.50</td>\n",
       "      <td>2.88</td>\n",
       "      <td>89.0</td>\n",
       "      <td>8.5</td>\n",
       "      <td>E</td>\n",
       "      <td>29.80</td>\n",
       "    </tr>\n",
       "    <tr>\n",
       "      <th>7</th>\n",
       "      <td>Wii Play</td>\n",
       "      <td>Wii</td>\n",
       "      <td>2006-01-01</td>\n",
       "      <td>Misc</td>\n",
       "      <td>13.96</td>\n",
       "      <td>9.18</td>\n",
       "      <td>2.93</td>\n",
       "      <td>2.84</td>\n",
       "      <td>58.0</td>\n",
       "      <td>6.6</td>\n",
       "      <td>E</td>\n",
       "      <td>28.91</td>\n",
       "    </tr>\n",
       "  </tbody>\n",
       "</table>\n",
       "</div>"
      ],
      "text/plain": [
       "                    name platform year_of_release     genre  na_sales  \\\n",
       "0             Wii Sports      Wii      2006-01-01    Sports     41.36   \n",
       "2         Mario Kart Wii      Wii      2008-01-01    Racing     15.68   \n",
       "3      Wii Sports Resort      Wii      2009-01-01    Sports     15.61   \n",
       "6  New Super Mario Bros.       DS      2006-01-01  Platform     11.28   \n",
       "7               Wii Play      Wii      2006-01-01      Misc     13.96   \n",
       "\n",
       "   eu_sales  jp_sales  other_sales  critic_score  user_score rating  \\\n",
       "0     28.96      3.77         8.45          76.0         8.0      E   \n",
       "2     12.76      3.79         3.29          82.0         8.3      E   \n",
       "3     10.93      3.28         2.95          80.0         8.0      E   \n",
       "6      9.14      6.50         2.88          89.0         8.5      E   \n",
       "7      9.18      2.93         2.84          58.0         6.6      E   \n",
       "\n",
       "   total_sales  \n",
       "0        82.54  \n",
       "2        35.52  \n",
       "3        32.77  \n",
       "6        29.80  \n",
       "7        28.91  "
      ]
     },
     "execution_count": 24,
     "metadata": {},
     "output_type": "execute_result"
    }
   ],
   "source": [
    "data.head()"
   ]
  },
  {
   "cell_type": "code",
   "execution_count": 25,
   "metadata": {},
   "outputs": [],
   "source": [
    "data['release_year']= pd.to_datetime(data['year_of_release']).dt.year"
   ]
  },
  {
   "cell_type": "code",
   "execution_count": 26,
   "metadata": {},
   "outputs": [],
   "source": [
    "games_per_year = data.groupby('release_year').size()"
   ]
  },
  {
   "cell_type": "code",
   "execution_count": 27,
   "metadata": {},
   "outputs": [
    {
     "data": {
      "text/plain": [
       "release_year\n",
       "1985      1\n",
       "1988      1\n",
       "1992      1\n",
       "1994      1\n",
       "1996      7\n",
       "1997     13\n",
       "1998     25\n",
       "1999     30\n",
       "2000    102\n",
       "2001    256\n",
       "2002    455\n",
       "2003    498\n",
       "2004    476\n",
       "2005    562\n",
       "2006    528\n",
       "2007    590\n",
       "2008    592\n",
       "2009    550\n",
       "2010    429\n",
       "2011    454\n",
       "2012    313\n",
       "2013    266\n",
       "2014    253\n",
       "2015    211\n",
       "2016    212\n",
       "dtype: int64"
      ]
     },
     "execution_count": 27,
     "metadata": {},
     "output_type": "execute_result"
    }
   ],
   "source": [
    "games_per_year"
   ]
  },
  {
   "cell_type": "code",
   "execution_count": 28,
   "metadata": {
    "scrolled": true
   },
   "outputs": [
    {
     "data": {
      "image/png": "[encoded data removed]",
      "text/plain": [
       "<Figure size 1200x600 with 1 Axes>"
      ]
     },
     "metadata": {},
     "output_type": "display_data"
    }
   ],
   "source": [
    "games_per_year.plot(kind='bar', figsize=(12,6))\n",
    "plt.xlabel('Year of Release')\n",
    "plt.ylabel('Number of Games')\n",
    "plt.title('Number of Games Released per Year')\n",
    "plt.show()"
   ]
  },
  {
   "cell_type": "code",
   "execution_count": 29,
   "metadata": {
    "scrolled": true
   },
   "outputs": [
    {
     "data": {
      "text/html": [
       "<div>\n",
       "<style scoped>\n",
       "    .dataframe tbody tr th:only-of-type {\n",
       "        vertical-align: middle;\n",
       "    }\n",
       "\n",
       "    .dataframe tbody tr th {\n",
       "        vertical-align: top;\n",
       "    }\n",
       "\n",
       "    .dataframe thead th {\n",
       "        text-align: right;\n",
       "    }\n",
       "</style>\n",
       "<table border=\"1\" class=\"dataframe\">\n",
       "  <thead>\n",
       "    <tr style=\"text-align: right;\">\n",
       "      <th></th>\n",
       "      <th>Number of games sold</th>\n",
       "    </tr>\n",
       "    <tr>\n",
       "      <th>year</th>\n",
       "      <th></th>\n",
       "    </tr>\n",
       "  </thead>\n",
       "  <tbody>\n",
       "    <tr>\n",
       "      <th>1985-01-01</th>\n",
       "      <td>1</td>\n",
       "    </tr>\n",
       "    <tr>\n",
       "      <th>1988-01-01</th>\n",
       "      <td>1</td>\n",
       "    </tr>\n",
       "    <tr>\n",
       "      <th>1992-01-01</th>\n",
       "      <td>1</td>\n",
       "    </tr>\n",
       "    <tr>\n",
       "      <th>1994-01-01</th>\n",
       "      <td>1</td>\n",
       "    </tr>\n",
       "    <tr>\n",
       "      <th>1996-01-01</th>\n",
       "      <td>7</td>\n",
       "    </tr>\n",
       "    <tr>\n",
       "      <th>1997-01-01</th>\n",
       "      <td>13</td>\n",
       "    </tr>\n",
       "    <tr>\n",
       "      <th>1998-01-01</th>\n",
       "      <td>25</td>\n",
       "    </tr>\n",
       "    <tr>\n",
       "      <th>1999-01-01</th>\n",
       "      <td>30</td>\n",
       "    </tr>\n",
       "    <tr>\n",
       "      <th>2000-01-01</th>\n",
       "      <td>102</td>\n",
       "    </tr>\n",
       "    <tr>\n",
       "      <th>2001-01-01</th>\n",
       "      <td>256</td>\n",
       "    </tr>\n",
       "    <tr>\n",
       "      <th>2002-01-01</th>\n",
       "      <td>455</td>\n",
       "    </tr>\n",
       "    <tr>\n",
       "      <th>2003-01-01</th>\n",
       "      <td>498</td>\n",
       "    </tr>\n",
       "    <tr>\n",
       "      <th>2004-01-01</th>\n",
       "      <td>476</td>\n",
       "    </tr>\n",
       "    <tr>\n",
       "      <th>2005-01-01</th>\n",
       "      <td>562</td>\n",
       "    </tr>\n",
       "    <tr>\n",
       "      <th>2006-01-01</th>\n",
       "      <td>528</td>\n",
       "    </tr>\n",
       "    <tr>\n",
       "      <th>2007-01-01</th>\n",
       "      <td>590</td>\n",
       "    </tr>\n",
       "    <tr>\n",
       "      <th>2008-01-01</th>\n",
       "      <td>592</td>\n",
       "    </tr>\n",
       "    <tr>\n",
       "      <th>2009-01-01</th>\n",
       "      <td>550</td>\n",
       "    </tr>\n",
       "    <tr>\n",
       "      <th>2010-01-01</th>\n",
       "      <td>429</td>\n",
       "    </tr>\n",
       "    <tr>\n",
       "      <th>2011-01-01</th>\n",
       "      <td>454</td>\n",
       "    </tr>\n",
       "    <tr>\n",
       "      <th>2012-01-01</th>\n",
       "      <td>313</td>\n",
       "    </tr>\n",
       "    <tr>\n",
       "      <th>2013-01-01</th>\n",
       "      <td>266</td>\n",
       "    </tr>\n",
       "    <tr>\n",
       "      <th>2014-01-01</th>\n",
       "      <td>253</td>\n",
       "    </tr>\n",
       "    <tr>\n",
       "      <th>2015-01-01</th>\n",
       "      <td>211</td>\n",
       "    </tr>\n",
       "    <tr>\n",
       "      <th>2016-01-01</th>\n",
       "      <td>212</td>\n",
       "    </tr>\n",
       "  </tbody>\n",
       "</table>\n",
       "</div>"
      ],
      "text/plain": [
       "            Number of games sold\n",
       "year                            \n",
       "1985-01-01                     1\n",
       "1988-01-01                     1\n",
       "1992-01-01                     1\n",
       "1994-01-01                     1\n",
       "1996-01-01                     7\n",
       "1997-01-01                    13\n",
       "1998-01-01                    25\n",
       "1999-01-01                    30\n",
       "2000-01-01                   102\n",
       "2001-01-01                   256\n",
       "2002-01-01                   455\n",
       "2003-01-01                   498\n",
       "2004-01-01                   476\n",
       "2005-01-01                   562\n",
       "2006-01-01                   528\n",
       "2007-01-01                   590\n",
       "2008-01-01                   592\n",
       "2009-01-01                   550\n",
       "2010-01-01                   429\n",
       "2011-01-01                   454\n",
       "2012-01-01                   313\n",
       "2013-01-01                   266\n",
       "2014-01-01                   253\n",
       "2015-01-01                   211\n",
       "2016-01-01                   212"
      ]
     },
     "execution_count": 29,
     "metadata": {},
     "output_type": "execute_result"
    }
   ],
   "source": [
    "games_sales = data.groupby('year_of_release').agg({'name':'count'})\n",
    "games_sales = games_sales.rename(columns = {'name': 'Number of games sold'}, level=0)\n",
    "games_sales.index = games_sales.index.rename('year')\n",
    "games_sales"
   ]
  },
  {
   "cell_type": "code",
   "execution_count": 30,
   "metadata": {
    "scrolled": true
   },
   "outputs": [
    {
     "data": {
      "image/png": "[encoded data removed]",
      "text/plain": [
       "<Figure size 1800x500 with 1 Axes>"
      ]
     },
     "metadata": {},
     "output_type": "display_data"
    }
   ],
   "source": [
    "games_sales= data.pivot_table(index='year_of_release', values='name', aggfunc='count').reset_index()\n",
    "\n",
    "sns.set_style('whitegrid')\n",
    "plt.figure(figsize=(18,5))\n",
    "sns.countplot(data= data, x='year_of_release')\n",
    "plt.title('Total game sales by year')\n",
    "plt.ylabel('Total sales, millions of copies sold')\n",
    "plt.xlabel('year');"
   ]
  },
  {
   "cell_type": "markdown",
   "metadata": {},
   "source": []
  },
  {
   "cell_type": "markdown",
   "metadata": {},
   "source": [
    "This graph gives us the distribution for total sales for each year in this dataset. We can see that in 2000 sales for games started to significantly increase with the peak for game sales being in 2008. After 2008 we begin to see a decline in sales up to 2016."
   ]
  },
  {
   "cell_type": "code",
   "execution_count": 31,
   "metadata": {},
   "outputs": [
    {
     "data": {
      "text/html": [
       "<div>\n",
       "<style scoped>\n",
       "    .dataframe tbody tr th:only-of-type {\n",
       "        vertical-align: middle;\n",
       "    }\n",
       "\n",
       "    .dataframe tbody tr th {\n",
       "        vertical-align: top;\n",
       "    }\n",
       "\n",
       "    .dataframe thead th {\n",
       "        text-align: right;\n",
       "    }\n",
       "</style>\n",
       "<table border=\"1\" class=\"dataframe\">\n",
       "  <thead>\n",
       "    <tr style=\"text-align: right;\">\n",
       "      <th></th>\n",
       "      <th>name</th>\n",
       "      <th>platform</th>\n",
       "      <th>year_of_release</th>\n",
       "      <th>genre</th>\n",
       "      <th>na_sales</th>\n",
       "      <th>eu_sales</th>\n",
       "      <th>jp_sales</th>\n",
       "      <th>other_sales</th>\n",
       "      <th>critic_score</th>\n",
       "      <th>user_score</th>\n",
       "      <th>rating</th>\n",
       "      <th>total_sales</th>\n",
       "      <th>release_year</th>\n",
       "    </tr>\n",
       "  </thead>\n",
       "  <tbody>\n",
       "    <tr>\n",
       "      <th>0</th>\n",
       "      <td>Wii Sports</td>\n",
       "      <td>Wii</td>\n",
       "      <td>2006-01-01</td>\n",
       "      <td>Sports</td>\n",
       "      <td>41.36</td>\n",
       "      <td>28.96</td>\n",
       "      <td>3.77</td>\n",
       "      <td>8.45</td>\n",
       "      <td>76.0</td>\n",
       "      <td>8.0</td>\n",
       "      <td>E</td>\n",
       "      <td>82.54</td>\n",
       "      <td>2006</td>\n",
       "    </tr>\n",
       "    <tr>\n",
       "      <th>2</th>\n",
       "      <td>Mario Kart Wii</td>\n",
       "      <td>Wii</td>\n",
       "      <td>2008-01-01</td>\n",
       "      <td>Racing</td>\n",
       "      <td>15.68</td>\n",
       "      <td>12.76</td>\n",
       "      <td>3.79</td>\n",
       "      <td>3.29</td>\n",
       "      <td>82.0</td>\n",
       "      <td>8.3</td>\n",
       "      <td>E</td>\n",
       "      <td>35.52</td>\n",
       "      <td>2008</td>\n",
       "    </tr>\n",
       "    <tr>\n",
       "      <th>3</th>\n",
       "      <td>Wii Sports Resort</td>\n",
       "      <td>Wii</td>\n",
       "      <td>2009-01-01</td>\n",
       "      <td>Sports</td>\n",
       "      <td>15.61</td>\n",
       "      <td>10.93</td>\n",
       "      <td>3.28</td>\n",
       "      <td>2.95</td>\n",
       "      <td>80.0</td>\n",
       "      <td>8.0</td>\n",
       "      <td>E</td>\n",
       "      <td>32.77</td>\n",
       "      <td>2009</td>\n",
       "    </tr>\n",
       "    <tr>\n",
       "      <th>6</th>\n",
       "      <td>New Super Mario Bros.</td>\n",
       "      <td>DS</td>\n",
       "      <td>2006-01-01</td>\n",
       "      <td>Platform</td>\n",
       "      <td>11.28</td>\n",
       "      <td>9.14</td>\n",
       "      <td>6.50</td>\n",
       "      <td>2.88</td>\n",
       "      <td>89.0</td>\n",
       "      <td>8.5</td>\n",
       "      <td>E</td>\n",
       "      <td>29.80</td>\n",
       "      <td>2006</td>\n",
       "    </tr>\n",
       "    <tr>\n",
       "      <th>7</th>\n",
       "      <td>Wii Play</td>\n",
       "      <td>Wii</td>\n",
       "      <td>2006-01-01</td>\n",
       "      <td>Misc</td>\n",
       "      <td>13.96</td>\n",
       "      <td>9.18</td>\n",
       "      <td>2.93</td>\n",
       "      <td>2.84</td>\n",
       "      <td>58.0</td>\n",
       "      <td>6.6</td>\n",
       "      <td>E</td>\n",
       "      <td>28.91</td>\n",
       "      <td>2006</td>\n",
       "    </tr>\n",
       "  </tbody>\n",
       "</table>\n",
       "</div>"
      ],
      "text/plain": [
       "                    name platform year_of_release     genre  na_sales  \\\n",
       "0             Wii Sports      Wii      2006-01-01    Sports     41.36   \n",
       "2         Mario Kart Wii      Wii      2008-01-01    Racing     15.68   \n",
       "3      Wii Sports Resort      Wii      2009-01-01    Sports     15.61   \n",
       "6  New Super Mario Bros.       DS      2006-01-01  Platform     11.28   \n",
       "7               Wii Play      Wii      2006-01-01      Misc     13.96   \n",
       "\n",
       "   eu_sales  jp_sales  other_sales  critic_score  user_score rating  \\\n",
       "0     28.96      3.77         8.45          76.0         8.0      E   \n",
       "2     12.76      3.79         3.29          82.0         8.3      E   \n",
       "3     10.93      3.28         2.95          80.0         8.0      E   \n",
       "6      9.14      6.50         2.88          89.0         8.5      E   \n",
       "7      9.18      2.93         2.84          58.0         6.6      E   \n",
       "\n",
       "   total_sales  release_year  \n",
       "0        82.54          2006  \n",
       "2        35.52          2008  \n",
       "3        32.77          2009  \n",
       "6        29.80          2006  \n",
       "7        28.91          2006  "
      ]
     },
     "execution_count": 31,
     "metadata": {},
     "output_type": "execute_result"
    }
   ],
   "source": [
    "data.head()"
   ]
  },
  {
   "cell_type": "code",
   "execution_count": 32,
   "metadata": {},
   "outputs": [],
   "source": [
    "total_sales_by_platform = data.groupby('platform')['total_sales'].sum().reset_index()"
   ]
  },
  {
   "cell_type": "code",
   "execution_count": 33,
   "metadata": {},
   "outputs": [
    {
     "data": {
      "text/html": [
       "<div>\n",
       "<style scoped>\n",
       "    .dataframe tbody tr th:only-of-type {\n",
       "        vertical-align: middle;\n",
       "    }\n",
       "\n",
       "    .dataframe tbody tr th {\n",
       "        vertical-align: top;\n",
       "    }\n",
       "\n",
       "    .dataframe thead th {\n",
       "        text-align: right;\n",
       "    }\n",
       "</style>\n",
       "<table border=\"1\" class=\"dataframe\">\n",
       "  <thead>\n",
       "    <tr style=\"text-align: right;\">\n",
       "      <th></th>\n",
       "      <th>platform</th>\n",
       "      <th>total_sales</th>\n",
       "    </tr>\n",
       "  </thead>\n",
       "  <tbody>\n",
       "    <tr>\n",
       "      <th>7</th>\n",
       "      <td>PS2</td>\n",
       "      <td>946.01</td>\n",
       "    </tr>\n",
       "    <tr>\n",
       "      <th>14</th>\n",
       "      <td>X360</td>\n",
       "      <td>853.24</td>\n",
       "    </tr>\n",
       "    <tr>\n",
       "      <th>8</th>\n",
       "      <td>PS3</td>\n",
       "      <td>784.45</td>\n",
       "    </tr>\n",
       "    <tr>\n",
       "      <th>12</th>\n",
       "      <td>Wii</td>\n",
       "      <td>658.97</td>\n",
       "    </tr>\n",
       "    <tr>\n",
       "      <th>2</th>\n",
       "      <td>DS</td>\n",
       "      <td>382.22</td>\n",
       "    </tr>\n",
       "    <tr>\n",
       "      <th>9</th>\n",
       "      <td>PS4</td>\n",
       "      <td>243.00</td>\n",
       "    </tr>\n",
       "    <tr>\n",
       "      <th>15</th>\n",
       "      <td>XB</td>\n",
       "      <td>211.93</td>\n",
       "    </tr>\n",
       "    <tr>\n",
       "      <th>6</th>\n",
       "      <td>PS</td>\n",
       "      <td>206.65</td>\n",
       "    </tr>\n",
       "    <tr>\n",
       "      <th>10</th>\n",
       "      <td>PSP</td>\n",
       "      <td>187.68</td>\n",
       "    </tr>\n",
       "    <tr>\n",
       "      <th>5</th>\n",
       "      <td>PC</td>\n",
       "      <td>186.71</td>\n",
       "    </tr>\n",
       "    <tr>\n",
       "      <th>4</th>\n",
       "      <td>GC</td>\n",
       "      <td>159.25</td>\n",
       "    </tr>\n",
       "    <tr>\n",
       "      <th>3</th>\n",
       "      <td>GBA</td>\n",
       "      <td>131.70</td>\n",
       "    </tr>\n",
       "    <tr>\n",
       "      <th>16</th>\n",
       "      <td>XOne</td>\n",
       "      <td>129.48</td>\n",
       "    </tr>\n",
       "    <tr>\n",
       "      <th>0</th>\n",
       "      <td>3DS</td>\n",
       "      <td>123.22</td>\n",
       "    </tr>\n",
       "    <tr>\n",
       "      <th>13</th>\n",
       "      <td>WiiU</td>\n",
       "      <td>66.08</td>\n",
       "    </tr>\n",
       "    <tr>\n",
       "      <th>11</th>\n",
       "      <td>PSV</td>\n",
       "      <td>30.83</td>\n",
       "    </tr>\n",
       "    <tr>\n",
       "      <th>1</th>\n",
       "      <td>DC</td>\n",
       "      <td>4.55</td>\n",
       "    </tr>\n",
       "  </tbody>\n",
       "</table>\n",
       "</div>"
      ],
      "text/plain": [
       "   platform  total_sales\n",
       "7       PS2       946.01\n",
       "14     X360       853.24\n",
       "8       PS3       784.45\n",
       "12      Wii       658.97\n",
       "2        DS       382.22\n",
       "9       PS4       243.00\n",
       "15       XB       211.93\n",
       "6        PS       206.65\n",
       "10      PSP       187.68\n",
       "5        PC       186.71\n",
       "4        GC       159.25\n",
       "3       GBA       131.70\n",
       "16     XOne       129.48\n",
       "0       3DS       123.22\n",
       "13     WiiU        66.08\n",
       "11      PSV        30.83\n",
       "1        DC         4.55"
      ]
     },
     "execution_count": 33,
     "metadata": {},
     "output_type": "execute_result"
    }
   ],
   "source": [
    "total_sales_by_platform.sort_values(by='total_sales', ascending=False)"
   ]
  },
  {
   "cell_type": "markdown",
   "metadata": {},
   "source": [
    "Here we have a dataframe of total sales per console listed from most successful to least successful. The top 3 most successful platforms are PS2, Xbox360, and PS3."
   ]
  },
  {
   "cell_type": "code",
   "execution_count": 34,
   "metadata": {},
   "outputs": [],
   "source": [
    "sales_by_platform_year = data.groupby(['platform', 'release_year'])['total_sales'].sum().reset_index()"
   ]
  },
  {
   "cell_type": "code",
   "execution_count": 35,
   "metadata": {},
   "outputs": [],
   "source": [
    "top_10_platforms= total_sales_by_platform.nlargest(10, 'total_sales')['platform']"
   ]
  },
  {
   "cell_type": "code",
   "execution_count": 36,
   "metadata": {},
   "outputs": [],
   "source": [
    "top_3_platforms = total_sales_by_platform.nlargest(3, 'total_sales')['platform']"
   ]
  },
  {
   "cell_type": "code",
   "execution_count": 37,
   "metadata": {
    "scrolled": false
   },
   "outputs": [
    {
     "data": {
      "image/png": "[encoded data removed]",
      "text/plain": [
       "<Figure size 640x480 with 1 Axes>"
      ]
     },
     "metadata": {},
     "output_type": "display_data"
    }
   ],
   "source": [
    "for platform in top_10_platforms:\n",
    "    platform_data = sales_by_platform_year[sales_by_platform_year['platform'] == platform]\n",
    "    plt.plot(platform_data['release_year'], platform_data['total_sales'], label=platform)\n",
    "\n",
    "plt.xlabel('Release Year')\n",
    "plt.ylabel('Total Sales')\n",
    "plt.title('Sales Distribution Over Time for Top 10 Platforms')\n",
    "plt.legend()\n",
    "plt.show()"
   ]
  },
  {
   "cell_type": "markdown",
   "metadata": {},
   "source": [
    "This graph gives us an idea of the top 10 most successful platforms by global game sales across the life of our data set. We see that most platforms have a sharp spike in sales within the first 2 years on the market followed by a sharp decline after 1-3 years of peak sales. In our data, most platforms on our list have reached zero sales indicating that they may no longer be considered on the market. PS4 appears to be the only game platform still selling games in our dataset."
   ]
  },
  {
   "cell_type": "code",
   "execution_count": 38,
   "metadata": {},
   "outputs": [
    {
     "data": {
      "text/plain": [
       "7      PS2\n",
       "14    X360\n",
       "8      PS3\n",
       "Name: platform, dtype: object"
      ]
     },
     "execution_count": 38,
     "metadata": {},
     "output_type": "execute_result"
    }
   ],
   "source": [
    "top_3_platforms"
   ]
  },
  {
   "cell_type": "code",
   "execution_count": 39,
   "metadata": {},
   "outputs": [
    {
     "data": {
      "image/png": "[encoded data removed]",
      "text/plain": [
       "<Figure size 640x480 with 1 Axes>"
      ]
     },
     "metadata": {},
     "output_type": "display_data"
    }
   ],
   "source": [
    "for platform in top_3_platforms:\n",
    "    platform_data = sales_by_platform_year[sales_by_platform_year['platform'] == platform]\n",
    "    plt.plot(platform_data['release_year'], platform_data['total_sales'], label=platform)\n",
    "\n",
    "plt.xlabel('Release Year')\n",
    "plt.ylabel('Total Sales')\n",
    "plt.title('Sales Distribution Over Time for Top 3 Platforms')\n",
    "plt.legend()\n",
    "plt.show()"
   ]
  },
  {
   "cell_type": "markdown",
   "metadata": {},
   "source": [
    "This graph represents the distribution for the 3 most successful platforms by global sales. PS2, XBOX360, and PS3 have the most sales of all the platforms in our dataset over the lifetime of the platforms. We see that each platform peaks in popularity in the first 2-3 years that it's in with sales for each lasting between 10-11 years beofre it stops selling games. Each platforms appears to have stopped selling games by 2016."
   ]
  },
  {
   "cell_type": "code",
   "execution_count": 40,
   "metadata": {},
   "outputs": [],
   "source": [
    "data_filtered = data[(data['release_year'] >= 2013) & (data['release_year'] <= 2016)]"
   ]
  },
  {
   "cell_type": "code",
   "execution_count": 41,
   "metadata": {
    "scrolled": false
   },
   "outputs": [
    {
     "data": {
      "text/plain": [
       "Text(0.5, 1.0, 'Total Sales by Platform between 2013 and 2016')"
      ]
     },
     "execution_count": 41,
     "metadata": {},
     "output_type": "execute_result"
    },
    {
     "data": {
      "image/png": "[encoded data removed]",
      "text/plain": [
       "<Figure size 1000x800 with 1 Axes>"
      ]
     },
     "metadata": {},
     "output_type": "display_data"
    }
   ],
   "source": [
    "plt.figure(figsize=(10,8))\n",
    "platform_sales_box= sns.boxplot(x='platform', y='total_sales', data=data_filtered, showfliers=False)\n",
    "plt.ylabel('Total Sales')\n",
    "plt.xlabel('Platform')\n",
    "platform_sales_box.set_title('Total Sales by Platform between 2013 and 2016')"
   ]
  },
  {
   "cell_type": "markdown",
   "metadata": {},
   "source": [
    "This box plot gives us the global sales of all games across platforms between 2010 and 2016. The differences in sales are significant as the xbox360, ps3, ps4, Wii, and xboxOne have the greatest distribution and overall the highest average sales."
   ]
  },
  {
   "cell_type": "code",
   "execution_count": 42,
   "metadata": {},
   "outputs": [
    {
     "data": {
      "image/png": "[encoded data removed]",
      "text/plain": [
       "<Figure size 1000x500 with 1 Axes>"
      ]
     },
     "metadata": {},
     "output_type": "display_data"
    },
    {
     "data": {
      "image/png": "[encoded data removed]",
      "text/plain": [
       "<Figure size 1000x500 with 1 Axes>"
      ]
     },
     "metadata": {},
     "output_type": "display_data"
    },
    {
     "name": "stdout",
     "output_type": "stream",
     "text": [
      "Correlation between Critic Score and Total Sales: 0.3906648313657577\n",
      "Correlation between User Score and Total Sales: 0.11221112781051665\n"
     ]
    }
   ],
   "source": [
    "xbox360_df = data[data['platform'] == 'X360']\n",
    "\n",
    "\n",
    "plt.figure(figsize=(10, 5))\n",
    "sns.scatterplot(data=xbox360_df, x='critic_score', y='total_sales')\n",
    "plt.title('Critic Score vs Total Sales for Xbox 360 Games')\n",
    "plt.xlabel('Critic Score')\n",
    "plt.ylabel('Total Sales')\n",
    "plt.show()\n",
    "\n",
    "\n",
    "plt.figure(figsize=(10, 5))\n",
    "sns.scatterplot(data=xbox360_df, x='user_score', y='total_sales')\n",
    "plt.title('User Score vs Total Sales for Xbox 360 Games')\n",
    "plt.xlabel('User Score')\n",
    "plt.ylabel('Total Sales')\n",
    "plt.show()\n",
    "\n",
    "\n",
    "critic_correlation = xbox360_df[['critic_score', 'total_sales']].corr().iloc[0, 1]\n",
    "user_correlation = xbox360_df[['user_score', 'total_sales']].corr().iloc[0, 1]\n",
    "\n",
    "print(f\"Correlation between Critic Score and Total Sales: {critic_correlation}\")\n",
    "print(f\"Correlation between User Score and Total Sales: {user_correlation}\")\n"
   ]
  },
  {
   "cell_type": "markdown",
   "metadata": {},
   "source": [
    "For the Xbox360 there is a correlation between positive critic reviews and total sales. The critic reviews seem to have a moderate impact on the overall sales of a game with a 0.36 correlation value. However, positive user reviews seem to be minimumly correlated with higher sales of a game with a correlation value of 0.07 which means that a higher overall user review for a game does not meaningfully impact the success of a game."
   ]
  },
  {
   "cell_type": "code",
   "execution_count": 43,
   "metadata": {
    "scrolled": true
   },
   "outputs": [
    {
     "data": {
      "image/png": "[encoded data removed]",
      "text/plain": [
       "<Figure size 1000x500 with 1 Axes>"
      ]
     },
     "metadata": {},
     "output_type": "display_data"
    },
    {
     "data": {
      "image/png": "[encoded data removed]",
      "text/plain": [
       "<Figure size 1000x500 with 1 Axes>"
      ]
     },
     "metadata": {},
     "output_type": "display_data"
    },
    {
     "name": "stdout",
     "output_type": "stream",
     "text": [
      "Correlation between Critic Score and Total Sales: 0.3864151028405984\n",
      "Correlation between User Score and Total Sales: 0.17168986651472287\n"
     ]
    }
   ],
   "source": [
    "xbox360_df = data[data['platform'] == 'PS2']\n",
    "\n",
    "\n",
    "plt.figure(figsize=(10, 5))\n",
    "sns.scatterplot(data=xbox360_df, x='critic_score', y='total_sales')\n",
    "plt.title('Critic Score vs Total Sales for PS2 Games')\n",
    "plt.xlabel('Critic Score')\n",
    "plt.ylabel('Total Sales')\n",
    "plt.show()\n",
    "\n",
    "\n",
    "plt.figure(figsize=(10, 5))\n",
    "sns.scatterplot(data=xbox360_df, x='user_score', y='total_sales')\n",
    "plt.title('User Score vs Total Sales for PS2 Games')\n",
    "plt.xlabel('User Score')\n",
    "plt.ylabel('Total Sales')\n",
    "plt.show()\n",
    "\n",
    "\n",
    "critic_correlation = xbox360_df[['critic_score', 'total_sales']].corr().iloc[0, 1]\n",
    "user_correlation = xbox360_df[['user_score', 'total_sales']].corr().iloc[0, 1]\n",
    "\n",
    "print(f\"Correlation between Critic Score and Total Sales: {critic_correlation}\")\n",
    "print(f\"Correlation between User Score and Total Sales: {user_correlation}\")"
   ]
  },
  {
   "cell_type": "markdown",
   "metadata": {},
   "source": [
    "The trend of critics' scores having a moderate impact on global sales appears to be true for the PS2 as well. The PS2 user reviews have a stronger correlation than the Xbox360 user reviews on overall sales however, user reviews still are considered negligable on the success of a game sales"
   ]
  },
  {
   "cell_type": "code",
   "execution_count": 44,
   "metadata": {},
   "outputs": [],
   "source": [
    "genre_sales = data.groupby('genre')['total_sales'].sum().reset_index()"
   ]
  },
  {
   "cell_type": "code",
   "execution_count": 45,
   "metadata": {},
   "outputs": [],
   "source": [
    "genre_sales = genre_sales.sort_values(by='total_sales', ascending=False)"
   ]
  },
  {
   "cell_type": "code",
   "execution_count": 46,
   "metadata": {
    "scrolled": true
   },
   "outputs": [
    {
     "data": {
      "text/plain": [
       "Text(0, 0.5, 'Genre')"
      ]
     },
     "execution_count": 46,
     "metadata": {},
     "output_type": "execute_result"
    },
    {
     "data": {
      "image/png": "[encoded data removed]",
      "text/plain": [
       "<Figure size 1000x600 with 1 Axes>"
      ]
     },
     "metadata": {},
     "output_type": "display_data"
    }
   ],
   "source": [
    "plt.figure(figsize=(10,6))\n",
    "sns.barplot(x='total_sales', y='genre', data=genre_sales, palette='viridis')\n",
    "plt.title('Total Sales by Genre')\n",
    "plt.xlabel('Total Sales (millions)')\n",
    "plt.ylabel('Genre')"
   ]
  },
  {
   "cell_type": "code",
   "execution_count": 47,
   "metadata": {},
   "outputs": [
    {
     "data": {
      "text/plain": [
       "Text(0.5, 0, 'Platform')"
      ]
     },
     "execution_count": 47,
     "metadata": {},
     "output_type": "execute_result"
    },
    {
     "data": {
      "image/png": "[encoded data removed]",
      "text/plain": [
       "<Figure size 1000x800 with 1 Axes>"
      ]
     },
     "metadata": {},
     "output_type": "display_data"
    }
   ],
   "source": [
    "plt.figure(figsize=(10,8))\n",
    "plt.title('Global Sales by Platform')\n",
    "sns.boxplot(x='genre', y='total_sales', data=data, showfliers=False)\n",
    "plt.ylabel('Total Sales')\n",
    "plt.xlabel('Platform')"
   ]
  },
  {
   "cell_type": "markdown",
   "metadata": {},
   "source": [
    "Add boxplot here:"
   ]
  },
  {
   "cell_type": "markdown",
   "metadata": {},
   "source": [
    "This distribution represents total sales of games by genre. We can conclude that Action games are the most successful games in this data set with a significantly higher volume of sales (~1650) than the next most popular genre, sports (~1300). The least popular genres are Puzzle, Adventure, and Strategy whose combined sales are less than half of the sales of Adventure games. With the sales presented as a box chart we can see some interesting data over the distributions, specifically we see that plaform and shooter genres have a higher average sales."
   ]
  },
  {
   "cell_type": "code",
   "execution_count": 48,
   "metadata": {},
   "outputs": [],
   "source": [
    "na_sales_platform = data.groupby('platform')['na_sales'].sum().reset_index()"
   ]
  },
  {
   "cell_type": "code",
   "execution_count": 49,
   "metadata": {},
   "outputs": [],
   "source": [
    "na_sales_platform = na_sales_platform.sort_values(by='na_sales', ascending=False)"
   ]
  },
  {
   "cell_type": "code",
   "execution_count": 50,
   "metadata": {
    "scrolled": false
   },
   "outputs": [
    {
     "data": {
      "text/html": [
       "<div>\n",
       "<style scoped>\n",
       "    .dataframe tbody tr th:only-of-type {\n",
       "        vertical-align: middle;\n",
       "    }\n",
       "\n",
       "    .dataframe tbody tr th {\n",
       "        vertical-align: top;\n",
       "    }\n",
       "\n",
       "    .dataframe thead th {\n",
       "        text-align: right;\n",
       "    }\n",
       "</style>\n",
       "<table border=\"1\" class=\"dataframe\">\n",
       "  <thead>\n",
       "    <tr style=\"text-align: right;\">\n",
       "      <th></th>\n",
       "      <th>platform</th>\n",
       "      <th>na_sales</th>\n",
       "    </tr>\n",
       "  </thead>\n",
       "  <tbody>\n",
       "    <tr>\n",
       "      <th>14</th>\n",
       "      <td>X360</td>\n",
       "      <td>533.43</td>\n",
       "    </tr>\n",
       "    <tr>\n",
       "      <th>7</th>\n",
       "      <td>PS2</td>\n",
       "      <td>472.65</td>\n",
       "    </tr>\n",
       "    <tr>\n",
       "      <th>12</th>\n",
       "      <td>Wii</td>\n",
       "      <td>342.91</td>\n",
       "    </tr>\n",
       "    <tr>\n",
       "      <th>8</th>\n",
       "      <td>PS3</td>\n",
       "      <td>341.62</td>\n",
       "    </tr>\n",
       "    <tr>\n",
       "      <th>2</th>\n",
       "      <td>DS</td>\n",
       "      <td>173.40</td>\n",
       "    </tr>\n",
       "  </tbody>\n",
       "</table>\n",
       "</div>"
      ],
      "text/plain": [
       "   platform  na_sales\n",
       "14     X360    533.43\n",
       "7       PS2    472.65\n",
       "12      Wii    342.91\n",
       "8       PS3    341.62\n",
       "2        DS    173.40"
      ]
     },
     "execution_count": 50,
     "metadata": {},
     "output_type": "execute_result"
    }
   ],
   "source": [
    "na_sales_platform.head(5)"
   ]
  },
  {
   "cell_type": "code",
   "execution_count": 51,
   "metadata": {
    "scrolled": false
   },
   "outputs": [
    {
     "data": {
      "text/plain": [
       "Text(0.5, 1.0, 'North American Sales by Platform')"
      ]
     },
     "execution_count": 51,
     "metadata": {},
     "output_type": "execute_result"
    },
    {
     "data": {
      "image/png": "[encoded data removed]",
      "text/plain": [
       "<Figure size 640x480 with 1 Axes>"
      ]
     },
     "metadata": {},
     "output_type": "display_data"
    }
   ],
   "source": [
    "na_bar_platform= sns.barplot(x='platform', y='na_sales', data=na_sales_platform.head(), palette='viridis')\n",
    "na_bar_platform.set_title('North American Sales by Platform')"
   ]
  },
  {
   "cell_type": "code",
   "execution_count": 52,
   "metadata": {},
   "outputs": [],
   "source": [
    "na_sales_genre = data.groupby('genre')['na_sales'].sum().reset_index()"
   ]
  },
  {
   "cell_type": "code",
   "execution_count": 53,
   "metadata": {},
   "outputs": [],
   "source": [
    "na_sales_genre = na_sales_genre.sort_values(by='na_sales', ascending=False)"
   ]
  },
  {
   "cell_type": "code",
   "execution_count": 54,
   "metadata": {
    "scrolled": true
   },
   "outputs": [
    {
     "data": {
      "text/html": [
       "<div>\n",
       "<style scoped>\n",
       "    .dataframe tbody tr th:only-of-type {\n",
       "        vertical-align: middle;\n",
       "    }\n",
       "\n",
       "    .dataframe tbody tr th {\n",
       "        vertical-align: top;\n",
       "    }\n",
       "\n",
       "    .dataframe thead th {\n",
       "        text-align: right;\n",
       "    }\n",
       "</style>\n",
       "<table border=\"1\" class=\"dataframe\">\n",
       "  <thead>\n",
       "    <tr style=\"text-align: right;\">\n",
       "      <th></th>\n",
       "      <th>genre</th>\n",
       "      <th>na_sales</th>\n",
       "    </tr>\n",
       "  </thead>\n",
       "  <tbody>\n",
       "    <tr>\n",
       "      <th>0</th>\n",
       "      <td>Action</td>\n",
       "      <td>591.23</td>\n",
       "    </tr>\n",
       "    <tr>\n",
       "      <th>10</th>\n",
       "      <td>Sports</td>\n",
       "      <td>457.52</td>\n",
       "    </tr>\n",
       "    <tr>\n",
       "      <th>8</th>\n",
       "      <td>Shooter</td>\n",
       "      <td>448.76</td>\n",
       "    </tr>\n",
       "    <tr>\n",
       "      <th>6</th>\n",
       "      <td>Racing</td>\n",
       "      <td>225.59</td>\n",
       "    </tr>\n",
       "    <tr>\n",
       "      <th>3</th>\n",
       "      <td>Misc</td>\n",
       "      <td>222.05</td>\n",
       "    </tr>\n",
       "  </tbody>\n",
       "</table>\n",
       "</div>"
      ],
      "text/plain": [
       "      genre  na_sales\n",
       "0    Action    591.23\n",
       "10   Sports    457.52\n",
       "8   Shooter    448.76\n",
       "6    Racing    225.59\n",
       "3      Misc    222.05"
      ]
     },
     "execution_count": 54,
     "metadata": {},
     "output_type": "execute_result"
    }
   ],
   "source": [
    "na_sales_genre.head(5)"
   ]
  },
  {
   "cell_type": "code",
   "execution_count": 55,
   "metadata": {},
   "outputs": [
    {
     "data": {
      "text/plain": [
       "Text(0.5, 1.0, 'North American Sales by Genre')"
      ]
     },
     "execution_count": 55,
     "metadata": {},
     "output_type": "execute_result"
    },
    {
     "data": {
      "image/png": "[encoded data removed]",
      "text/plain": [
       "<Figure size 640x480 with 1 Axes>"
      ]
     },
     "metadata": {},
     "output_type": "display_data"
    }
   ],
   "source": [
    "na_bar_genre = sns.barplot(x='genre', y='na_sales', data=na_sales_genre.head(), palette='viridis')\n",
    "na_bar_genre.set_title('North American Sales by Genre')"
   ]
  },
  {
   "cell_type": "code",
   "execution_count": 56,
   "metadata": {},
   "outputs": [],
   "source": [
    "na_sales_rating= data.groupby('rating')['na_sales'].sum().reset_index()"
   ]
  },
  {
   "cell_type": "code",
   "execution_count": 57,
   "metadata": {},
   "outputs": [],
   "source": [
    "na_sales_rating= na_sales_rating.sort_values(by='na_sales', ascending=False)"
   ]
  },
  {
   "cell_type": "code",
   "execution_count": 58,
   "metadata": {
    "scrolled": true
   },
   "outputs": [
    {
     "data": {
      "text/html": [
       "<div>\n",
       "<style scoped>\n",
       "    .dataframe tbody tr th:only-of-type {\n",
       "        vertical-align: middle;\n",
       "    }\n",
       "\n",
       "    .dataframe tbody tr th {\n",
       "        vertical-align: top;\n",
       "    }\n",
       "\n",
       "    .dataframe thead th {\n",
       "        text-align: right;\n",
       "    }\n",
       "</style>\n",
       "<table border=\"1\" class=\"dataframe\">\n",
       "  <thead>\n",
       "    <tr style=\"text-align: right;\">\n",
       "      <th></th>\n",
       "      <th>rating</th>\n",
       "      <th>na_sales</th>\n",
       "    </tr>\n",
       "  </thead>\n",
       "  <tbody>\n",
       "    <tr>\n",
       "      <th>1</th>\n",
       "      <td>E</td>\n",
       "      <td>986.02</td>\n",
       "    </tr>\n",
       "    <tr>\n",
       "      <th>4</th>\n",
       "      <td>M</td>\n",
       "      <td>724.61</td>\n",
       "    </tr>\n",
       "    <tr>\n",
       "      <th>6</th>\n",
       "      <td>T</td>\n",
       "      <td>694.23</td>\n",
       "    </tr>\n",
       "    <tr>\n",
       "      <th>2</th>\n",
       "      <td>E10+</td>\n",
       "      <td>286.03</td>\n",
       "    </tr>\n",
       "    <tr>\n",
       "      <th>0</th>\n",
       "      <td>AO</td>\n",
       "      <td>1.26</td>\n",
       "    </tr>\n",
       "    <tr>\n",
       "      <th>3</th>\n",
       "      <td>K-A</td>\n",
       "      <td>0.26</td>\n",
       "    </tr>\n",
       "    <tr>\n",
       "      <th>5</th>\n",
       "      <td>RP</td>\n",
       "      <td>0.00</td>\n",
       "    </tr>\n",
       "  </tbody>\n",
       "</table>\n",
       "</div>"
      ],
      "text/plain": [
       "  rating  na_sales\n",
       "1      E    986.02\n",
       "4      M    724.61\n",
       "6      T    694.23\n",
       "2   E10+    286.03\n",
       "0     AO      1.26\n",
       "3    K-A      0.26\n",
       "5     RP      0.00"
      ]
     },
     "execution_count": 58,
     "metadata": {},
     "output_type": "execute_result"
    }
   ],
   "source": [
    "na_sales_rating"
   ]
  },
  {
   "cell_type": "code",
   "execution_count": 59,
   "metadata": {
    "scrolled": false
   },
   "outputs": [
    {
     "data": {
      "text/plain": [
       "Text(0.5, 1.0, 'North American Sales by Rating')"
      ]
     },
     "execution_count": 59,
     "metadata": {},
     "output_type": "execute_result"
    },
    {
     "data": {
      "image/png": "[encoded data removed]",
      "text/plain": [
       "<Figure size 640x480 with 1 Axes>"
      ]
     },
     "metadata": {},
     "output_type": "display_data"
    }
   ],
   "source": [
    "na_bar_rating = sns.barplot(x='rating', y='na_sales', data=na_sales_rating, palette='viridis')\n",
    "na_bar_rating.set_title('North American Sales by Rating')"
   ]
  },
  {
   "cell_type": "markdown",
   "metadata": {},
   "source": [
    "For North America, we can notice some trends in the data. For this region we can view the top performing platforms, genres, and game ESRB ratings to see what combinations do well in North American markets."
   ]
  },
  {
   "cell_type": "markdown",
   "metadata": {},
   "source": []
  },
  {
   "cell_type": "code",
   "execution_count": 60,
   "metadata": {},
   "outputs": [],
   "source": [
    "eu_sales_platform = data.groupby('platform')['eu_sales'].sum().reset_index()"
   ]
  },
  {
   "cell_type": "code",
   "execution_count": 61,
   "metadata": {},
   "outputs": [],
   "source": [
    "eu_sales_platform = eu_sales_platform.sort_values(by='eu_sales', ascending=False)"
   ]
  },
  {
   "cell_type": "code",
   "execution_count": 62,
   "metadata": {
    "scrolled": false
   },
   "outputs": [
    {
     "data": {
      "text/html": [
       "<div>\n",
       "<style scoped>\n",
       "    .dataframe tbody tr th:only-of-type {\n",
       "        vertical-align: middle;\n",
       "    }\n",
       "\n",
       "    .dataframe tbody tr th {\n",
       "        vertical-align: top;\n",
       "    }\n",
       "\n",
       "    .dataframe thead th {\n",
       "        text-align: right;\n",
       "    }\n",
       "</style>\n",
       "<table border=\"1\" class=\"dataframe\">\n",
       "  <thead>\n",
       "    <tr style=\"text-align: right;\">\n",
       "      <th></th>\n",
       "      <th>platform</th>\n",
       "      <th>eu_sales</th>\n",
       "    </tr>\n",
       "  </thead>\n",
       "  <tbody>\n",
       "    <tr>\n",
       "      <th>8</th>\n",
       "      <td>PS3</td>\n",
       "      <td>273.50</td>\n",
       "    </tr>\n",
       "    <tr>\n",
       "      <th>7</th>\n",
       "      <td>PS2</td>\n",
       "      <td>255.14</td>\n",
       "    </tr>\n",
       "    <tr>\n",
       "      <th>14</th>\n",
       "      <td>X360</td>\n",
       "      <td>234.33</td>\n",
       "    </tr>\n",
       "    <tr>\n",
       "      <th>12</th>\n",
       "      <td>Wii</td>\n",
       "      <td>204.13</td>\n",
       "    </tr>\n",
       "    <tr>\n",
       "      <th>9</th>\n",
       "      <td>PS4</td>\n",
       "      <td>111.78</td>\n",
       "    </tr>\n",
       "  </tbody>\n",
       "</table>\n",
       "</div>"
      ],
      "text/plain": [
       "   platform  eu_sales\n",
       "8       PS3    273.50\n",
       "7       PS2    255.14\n",
       "14     X360    234.33\n",
       "12      Wii    204.13\n",
       "9       PS4    111.78"
      ]
     },
     "execution_count": 62,
     "metadata": {},
     "output_type": "execute_result"
    }
   ],
   "source": [
    "eu_sales_platform.head(5)"
   ]
  },
  {
   "cell_type": "code",
   "execution_count": 63,
   "metadata": {},
   "outputs": [
    {
     "data": {
      "text/plain": [
       "Text(0.5, 1.0, 'EU Sales by Platform')"
      ]
     },
     "execution_count": 63,
     "metadata": {},
     "output_type": "execute_result"
    },
    {
     "data": {
      "image/png": "[encoded data removed]",
      "text/plain": [
       "<Figure size 640x480 with 1 Axes>"
      ]
     },
     "metadata": {},
     "output_type": "display_data"
    }
   ],
   "source": [
    "eu_bar_platform= sns.barplot(x='platform', y='eu_sales', data=eu_sales_platform.head(), palette='viridis')\n",
    "eu_bar_platform.set_title('EU Sales by Platform')"
   ]
  },
  {
   "cell_type": "code",
   "execution_count": 64,
   "metadata": {},
   "outputs": [],
   "source": [
    "eu_sales_genre = data.groupby('genre')['eu_sales'].sum().reset_index()"
   ]
  },
  {
   "cell_type": "code",
   "execution_count": 65,
   "metadata": {},
   "outputs": [],
   "source": [
    "eu_sales_genre = eu_sales_genre.sort_values(by='eu_sales', ascending=False)"
   ]
  },
  {
   "cell_type": "code",
   "execution_count": 66,
   "metadata": {
    "scrolled": false
   },
   "outputs": [
    {
     "data": {
      "text/html": [
       "<div>\n",
       "<style scoped>\n",
       "    .dataframe tbody tr th:only-of-type {\n",
       "        vertical-align: middle;\n",
       "    }\n",
       "\n",
       "    .dataframe tbody tr th {\n",
       "        vertical-align: top;\n",
       "    }\n",
       "\n",
       "    .dataframe thead th {\n",
       "        text-align: right;\n",
       "    }\n",
       "</style>\n",
       "<table border=\"1\" class=\"dataframe\">\n",
       "  <thead>\n",
       "    <tr style=\"text-align: right;\">\n",
       "      <th></th>\n",
       "      <th>genre</th>\n",
       "      <th>eu_sales</th>\n",
       "    </tr>\n",
       "  </thead>\n",
       "  <tbody>\n",
       "    <tr>\n",
       "      <th>0</th>\n",
       "      <td>Action</td>\n",
       "      <td>387.78</td>\n",
       "    </tr>\n",
       "    <tr>\n",
       "      <th>8</th>\n",
       "      <td>Shooter</td>\n",
       "      <td>261.12</td>\n",
       "    </tr>\n",
       "    <tr>\n",
       "      <th>10</th>\n",
       "      <td>Sports</td>\n",
       "      <td>247.43</td>\n",
       "    </tr>\n",
       "    <tr>\n",
       "      <th>6</th>\n",
       "      <td>Racing</td>\n",
       "      <td>164.66</td>\n",
       "    </tr>\n",
       "    <tr>\n",
       "      <th>3</th>\n",
       "      <td>Misc</td>\n",
       "      <td>120.46</td>\n",
       "    </tr>\n",
       "  </tbody>\n",
       "</table>\n",
       "</div>"
      ],
      "text/plain": [
       "      genre  eu_sales\n",
       "0    Action    387.78\n",
       "8   Shooter    261.12\n",
       "10   Sports    247.43\n",
       "6    Racing    164.66\n",
       "3      Misc    120.46"
      ]
     },
     "execution_count": 66,
     "metadata": {},
     "output_type": "execute_result"
    }
   ],
   "source": [
    "eu_sales_genre.head(5)"
   ]
  },
  {
   "cell_type": "code",
   "execution_count": 67,
   "metadata": {},
   "outputs": [
    {
     "data": {
      "text/plain": [
       "Text(0.5, 1.0, 'EU Sales by Genre')"
      ]
     },
     "execution_count": 67,
     "metadata": {},
     "output_type": "execute_result"
    },
    {
     "data": {
      "image/png": "[encoded data removed]",
      "text/plain": [
       "<Figure size 640x480 with 1 Axes>"
      ]
     },
     "metadata": {},
     "output_type": "display_data"
    }
   ],
   "source": [
    "eu_bar_genre= sns.barplot(x='genre', y='eu_sales', data=eu_sales_genre.head(), palette='viridis')\n",
    "eu_bar_genre.set_title('EU Sales by Genre')"
   ]
  },
  {
   "cell_type": "code",
   "execution_count": 68,
   "metadata": {},
   "outputs": [],
   "source": [
    "eu_sales_rating= data.groupby('rating')['eu_sales'].sum().reset_index()"
   ]
  },
  {
   "cell_type": "code",
   "execution_count": 69,
   "metadata": {},
   "outputs": [],
   "source": [
    "eu_sales_rating = eu_sales_rating.sort_values(by='eu_sales', ascending=False)"
   ]
  },
  {
   "cell_type": "code",
   "execution_count": 70,
   "metadata": {
    "scrolled": true
   },
   "outputs": [
    {
     "data": {
      "text/html": [
       "<div>\n",
       "<style scoped>\n",
       "    .dataframe tbody tr th:only-of-type {\n",
       "        vertical-align: middle;\n",
       "    }\n",
       "\n",
       "    .dataframe tbody tr th {\n",
       "        vertical-align: top;\n",
       "    }\n",
       "\n",
       "    .dataframe thead th {\n",
       "        text-align: right;\n",
       "    }\n",
       "</style>\n",
       "<table border=\"1\" class=\"dataframe\">\n",
       "  <thead>\n",
       "    <tr style=\"text-align: right;\">\n",
       "      <th></th>\n",
       "      <th>rating</th>\n",
       "      <th>eu_sales</th>\n",
       "    </tr>\n",
       "  </thead>\n",
       "  <tbody>\n",
       "    <tr>\n",
       "      <th>1</th>\n",
       "      <td>E</td>\n",
       "      <td>590.78</td>\n",
       "    </tr>\n",
       "    <tr>\n",
       "      <th>4</th>\n",
       "      <td>M</td>\n",
       "      <td>467.07</td>\n",
       "    </tr>\n",
       "    <tr>\n",
       "      <th>6</th>\n",
       "      <td>T</td>\n",
       "      <td>396.82</td>\n",
       "    </tr>\n",
       "    <tr>\n",
       "      <th>2</th>\n",
       "      <td>E10+</td>\n",
       "      <td>155.94</td>\n",
       "    </tr>\n",
       "    <tr>\n",
       "      <th>0</th>\n",
       "      <td>AO</td>\n",
       "      <td>0.61</td>\n",
       "    </tr>\n",
       "    <tr>\n",
       "      <th>3</th>\n",
       "      <td>K-A</td>\n",
       "      <td>0.16</td>\n",
       "    </tr>\n",
       "    <tr>\n",
       "      <th>5</th>\n",
       "      <td>RP</td>\n",
       "      <td>0.03</td>\n",
       "    </tr>\n",
       "  </tbody>\n",
       "</table>\n",
       "</div>"
      ],
      "text/plain": [
       "  rating  eu_sales\n",
       "1      E    590.78\n",
       "4      M    467.07\n",
       "6      T    396.82\n",
       "2   E10+    155.94\n",
       "0     AO      0.61\n",
       "3    K-A      0.16\n",
       "5     RP      0.03"
      ]
     },
     "execution_count": 70,
     "metadata": {},
     "output_type": "execute_result"
    }
   ],
   "source": [
    "eu_sales_rating"
   ]
  },
  {
   "cell_type": "code",
   "execution_count": 71,
   "metadata": {
    "scrolled": false
   },
   "outputs": [
    {
     "data": {
      "text/plain": [
       "Text(0.5, 1.0, 'EU Sales by Rating')"
      ]
     },
     "execution_count": 71,
     "metadata": {},
     "output_type": "execute_result"
    },
    {
     "data": {
      "image/png": "[encoded data removed]",
      "text/plain": [
       "<Figure size 640x480 with 1 Axes>"
      ]
     },
     "metadata": {},
     "output_type": "display_data"
    }
   ],
   "source": [
    "eu_bar_rating = sns.barplot(x='rating', y='eu_sales', data=eu_sales_rating.head(), palette='viridis')\n",
    "eu_bar_rating.set_title('EU Sales by Rating')"
   ]
  },
  {
   "cell_type": "markdown",
   "metadata": {},
   "source": [
    "For Europe, we can notice some trends in the data. For this region we can view the top performing platforms, genres, and game ESRB ratings to see what combinations do well in European markets."
   ]
  },
  {
   "cell_type": "code",
   "execution_count": 72,
   "metadata": {},
   "outputs": [],
   "source": [
    "japan_sales_platform = data.groupby('platform')['jp_sales'].sum().reset_index()"
   ]
  },
  {
   "cell_type": "code",
   "execution_count": 73,
   "metadata": {},
   "outputs": [],
   "source": [
    "japan_sales_platform = japan_sales_platform.sort_values(by='jp_sales', ascending=False)"
   ]
  },
  {
   "cell_type": "code",
   "execution_count": 74,
   "metadata": {
    "scrolled": false
   },
   "outputs": [
    {
     "data": {
      "text/html": [
       "<div>\n",
       "<style scoped>\n",
       "    .dataframe tbody tr th:only-of-type {\n",
       "        vertical-align: middle;\n",
       "    }\n",
       "\n",
       "    .dataframe tbody tr th {\n",
       "        vertical-align: top;\n",
       "    }\n",
       "\n",
       "    .dataframe thead th {\n",
       "        text-align: right;\n",
       "    }\n",
       "</style>\n",
       "<table border=\"1\" class=\"dataframe\">\n",
       "  <thead>\n",
       "    <tr style=\"text-align: right;\">\n",
       "      <th></th>\n",
       "      <th>platform</th>\n",
       "      <th>jp_sales</th>\n",
       "    </tr>\n",
       "  </thead>\n",
       "  <tbody>\n",
       "    <tr>\n",
       "      <th>2</th>\n",
       "      <td>DS</td>\n",
       "      <td>83.66</td>\n",
       "    </tr>\n",
       "    <tr>\n",
       "      <th>7</th>\n",
       "      <td>PS2</td>\n",
       "      <td>75.81</td>\n",
       "    </tr>\n",
       "    <tr>\n",
       "      <th>8</th>\n",
       "      <td>PS3</td>\n",
       "      <td>54.52</td>\n",
       "    </tr>\n",
       "    <tr>\n",
       "      <th>12</th>\n",
       "      <td>Wii</td>\n",
       "      <td>52.37</td>\n",
       "    </tr>\n",
       "    <tr>\n",
       "      <th>6</th>\n",
       "      <td>PS</td>\n",
       "      <td>38.85</td>\n",
       "    </tr>\n",
       "  </tbody>\n",
       "</table>\n",
       "</div>"
      ],
      "text/plain": [
       "   platform  jp_sales\n",
       "2        DS     83.66\n",
       "7       PS2     75.81\n",
       "8       PS3     54.52\n",
       "12      Wii     52.37\n",
       "6        PS     38.85"
      ]
     },
     "execution_count": 74,
     "metadata": {},
     "output_type": "execute_result"
    }
   ],
   "source": [
    "japan_sales_platform.head(5)"
   ]
  },
  {
   "cell_type": "code",
   "execution_count": 75,
   "metadata": {},
   "outputs": [
    {
     "data": {
      "text/plain": [
       "Text(0.5, 1.0, 'Japanese Sales by Platform')"
      ]
     },
     "execution_count": 75,
     "metadata": {},
     "output_type": "execute_result"
    },
    {
     "data": {
      "image/png": "[encoded data removed]",
      "text/plain": [
       "<Figure size 640x480 with 1 Axes>"
      ]
     },
     "metadata": {},
     "output_type": "display_data"
    }
   ],
   "source": [
    "jp_sales_platform=sns.barplot(x='platform', y='jp_sales', data=japan_sales_platform.head(), palette='viridis')\n",
    "jp_sales_platform.set_title('Japanese Sales by Platform')"
   ]
  },
  {
   "cell_type": "code",
   "execution_count": 76,
   "metadata": {},
   "outputs": [],
   "source": [
    "jp_sales_genre = data.groupby('genre')['jp_sales'].sum().reset_index()"
   ]
  },
  {
   "cell_type": "code",
   "execution_count": 77,
   "metadata": {},
   "outputs": [],
   "source": [
    "jp_sales_genre = jp_sales_genre.sort_values(by='jp_sales', ascending=False)"
   ]
  },
  {
   "cell_type": "code",
   "execution_count": 78,
   "metadata": {
    "scrolled": true
   },
   "outputs": [
    {
     "data": {
      "text/html": [
       "<div>\n",
       "<style scoped>\n",
       "    .dataframe tbody tr th:only-of-type {\n",
       "        vertical-align: middle;\n",
       "    }\n",
       "\n",
       "    .dataframe tbody tr th {\n",
       "        vertical-align: top;\n",
       "    }\n",
       "\n",
       "    .dataframe thead th {\n",
       "        text-align: right;\n",
       "    }\n",
       "</style>\n",
       "<table border=\"1\" class=\"dataframe\">\n",
       "  <thead>\n",
       "    <tr style=\"text-align: right;\">\n",
       "      <th></th>\n",
       "      <th>genre</th>\n",
       "      <th>jp_sales</th>\n",
       "    </tr>\n",
       "  </thead>\n",
       "  <tbody>\n",
       "    <tr>\n",
       "      <th>7</th>\n",
       "      <td>Role-Playing</td>\n",
       "      <td>122.47</td>\n",
       "    </tr>\n",
       "    <tr>\n",
       "      <th>0</th>\n",
       "      <td>Action</td>\n",
       "      <td>76.17</td>\n",
       "    </tr>\n",
       "    <tr>\n",
       "      <th>4</th>\n",
       "      <td>Platform</td>\n",
       "      <td>43.09</td>\n",
       "    </tr>\n",
       "    <tr>\n",
       "      <th>10</th>\n",
       "      <td>Sports</td>\n",
       "      <td>34.54</td>\n",
       "    </tr>\n",
       "    <tr>\n",
       "      <th>3</th>\n",
       "      <td>Misc</td>\n",
       "      <td>33.22</td>\n",
       "    </tr>\n",
       "  </tbody>\n",
       "</table>\n",
       "</div>"
      ],
      "text/plain": [
       "           genre  jp_sales\n",
       "7   Role-Playing    122.47\n",
       "0         Action     76.17\n",
       "4       Platform     43.09\n",
       "10        Sports     34.54\n",
       "3           Misc     33.22"
      ]
     },
     "execution_count": 78,
     "metadata": {},
     "output_type": "execute_result"
    }
   ],
   "source": [
    "jp_sales_genre.head(5)"
   ]
  },
  {
   "cell_type": "code",
   "execution_count": 79,
   "metadata": {},
   "outputs": [
    {
     "data": {
      "text/plain": [
       "Text(0.5, 1.0, 'Japanese Sales by Genre')"
      ]
     },
     "execution_count": 79,
     "metadata": {},
     "output_type": "execute_result"
    },
    {
     "data": {
      "image/png": "[encoded data removed]",
      "text/plain": [
       "<Figure size 640x480 with 1 Axes>"
      ]
     },
     "metadata": {},
     "output_type": "display_data"
    }
   ],
   "source": [
    "jp_bar_genre = sns.barplot(x='genre', y='jp_sales', data=jp_sales_genre.head(), palette='viridis')\n",
    "jp_bar_genre.set_title('Japanese Sales by Genre')"
   ]
  },
  {
   "cell_type": "code",
   "execution_count": 80,
   "metadata": {},
   "outputs": [],
   "source": [
    "jp_sales_rating= data.groupby('rating')['jp_sales'].sum().reset_index()"
   ]
  },
  {
   "cell_type": "code",
   "execution_count": 81,
   "metadata": {},
   "outputs": [],
   "source": [
    "jp_sales_rating= jp_sales_rating.sort_values(by='jp_sales', ascending=False)"
   ]
  },
  {
   "cell_type": "code",
   "execution_count": 82,
   "metadata": {
    "scrolled": false
   },
   "outputs": [
    {
     "data": {
      "text/html": [
       "<div>\n",
       "<style scoped>\n",
       "    .dataframe tbody tr th:only-of-type {\n",
       "        vertical-align: middle;\n",
       "    }\n",
       "\n",
       "    .dataframe tbody tr th {\n",
       "        vertical-align: top;\n",
       "    }\n",
       "\n",
       "    .dataframe thead th {\n",
       "        text-align: right;\n",
       "    }\n",
       "</style>\n",
       "<table border=\"1\" class=\"dataframe\">\n",
       "  <thead>\n",
       "    <tr style=\"text-align: right;\">\n",
       "      <th></th>\n",
       "      <th>rating</th>\n",
       "      <th>jp_sales</th>\n",
       "    </tr>\n",
       "  </thead>\n",
       "  <tbody>\n",
       "    <tr>\n",
       "      <th>1</th>\n",
       "      <td>E</td>\n",
       "      <td>190.67</td>\n",
       "    </tr>\n",
       "    <tr>\n",
       "      <th>6</th>\n",
       "      <td>T</td>\n",
       "      <td>144.66</td>\n",
       "    </tr>\n",
       "    <tr>\n",
       "      <th>4</th>\n",
       "      <td>M</td>\n",
       "      <td>62.28</td>\n",
       "    </tr>\n",
       "    <tr>\n",
       "      <th>2</th>\n",
       "      <td>E10+</td>\n",
       "      <td>38.81</td>\n",
       "    </tr>\n",
       "    <tr>\n",
       "      <th>3</th>\n",
       "      <td>K-A</td>\n",
       "      <td>1.46</td>\n",
       "    </tr>\n",
       "    <tr>\n",
       "      <th>0</th>\n",
       "      <td>AO</td>\n",
       "      <td>0.00</td>\n",
       "    </tr>\n",
       "    <tr>\n",
       "      <th>5</th>\n",
       "      <td>RP</td>\n",
       "      <td>0.00</td>\n",
       "    </tr>\n",
       "  </tbody>\n",
       "</table>\n",
       "</div>"
      ],
      "text/plain": [
       "  rating  jp_sales\n",
       "1      E    190.67\n",
       "6      T    144.66\n",
       "4      M     62.28\n",
       "2   E10+     38.81\n",
       "3    K-A      1.46\n",
       "0     AO      0.00\n",
       "5     RP      0.00"
      ]
     },
     "execution_count": 82,
     "metadata": {},
     "output_type": "execute_result"
    }
   ],
   "source": [
    "jp_sales_rating"
   ]
  },
  {
   "cell_type": "code",
   "execution_count": 83,
   "metadata": {},
   "outputs": [
    {
     "data": {
      "text/plain": [
       "Text(0.5, 1.0, 'Japanese Sales by Rating')"
      ]
     },
     "execution_count": 83,
     "metadata": {},
     "output_type": "execute_result"
    },
    {
     "data": {
      "image/png": "[encoded data removed]",
      "text/plain": [
       "<Figure size 640x480 with 1 Axes>"
      ]
     },
     "metadata": {},
     "output_type": "display_data"
    }
   ],
   "source": [
    "jp_bar_rating=sns.barplot(x='rating', y='jp_sales', data=jp_sales_rating.head(), palette='viridis')\n",
    "jp_bar_rating.set_title('Japanese Sales by Rating')"
   ]
  },
  {
   "cell_type": "markdown",
   "metadata": {},
   "source": [
    "For Japan, we can notice some trends in the data. For this region we can view the top performing platforms, genres, and game ESRB ratings to see what combinations do well in Japanese markets."
   ]
  },
  {
   "cell_type": "markdown",
   "metadata": {},
   "source": []
  },
  {
   "cell_type": "markdown",
   "metadata": {},
   "source": []
  },
  {
   "cell_type": "markdown",
   "metadata": {},
   "source": [
    "Null Hypothesis: average user ratings of the Xbox One and PC platforms are the same\n",
    "Alternative: average user ratings of the Xbox One and PC platforms are not the same"
   ]
  },
  {
   "cell_type": "code",
   "execution_count": 84,
   "metadata": {
    "scrolled": true
   },
   "outputs": [
    {
     "name": "stdout",
     "output_type": "stream",
     "text": [
      "6.469147981752585e-06\n",
      "We reject the null hypothesis\n"
     ]
    }
   ],
   "source": [
    "xbox_one_df = data[(data['platform']== 'XOne')]\n",
    "pc_df = data[(data['platform']== 'PC')]\n",
    "\n",
    "xbox_scores=xbox_one_df['user_score']\n",
    "pc_scores = pc_df['user_score']\n",
    "\n",
    "alpha = 0.05\n",
    "\n",
    "results = st.ttest_ind(xbox_scores, pc_scores, equal_var=False)\n",
    "\n",
    "print(results.pvalue)\n",
    "if results.pvalue < alpha:\n",
    "    print('We reject the null hypothesis')\n",
    "else:\n",
    "    print('We can\\'t reject the null hypothesis')"
   ]
  },
  {
   "cell_type": "markdown",
   "metadata": {},
   "source": [
    "We do not accept that the average user ratings for the XboxOne and PC are the same. "
   ]
  },
  {
   "cell_type": "markdown",
   "metadata": {},
   "source": [
    "Null Hypothesis: Average user ratings for the Action and Sports genres are different.\n",
    "Alternative: Average user ratings for the Action and Sports genres are not different."
   ]
  },
  {
   "cell_type": "code",
   "execution_count": 85,
   "metadata": {},
   "outputs": [
    {
     "name": "stdout",
     "output_type": "stream",
     "text": [
      "p-value: 0.7959786214567501\n",
      "We can't reject the null hypothesis\n"
     ]
    }
   ],
   "source": [
    "action_df = data[(data['genre'] == 'Action') & data['user_score'].notnull()].copy()\n",
    "sports_df = data[(data['genre'] == 'Sports') & data['user_score'].notnull()].copy()\n",
    "\n",
    "action_scores=action_df['user_score']\n",
    "sports_scores=sports_df['user_score']\n",
    "\n",
    "alpha = 0.05\n",
    "\n",
    "results = st.ttest_ind(action_scores, sports_scores)\n",
    "\n",
    "print('p-value:', results.pvalue)\n",
    "\n",
    "if results.pvalue < alpha:\n",
    "    print('We reject the null hypothesis')\n",
    "else:\n",
    "    print('We can\\'t reject the null hypothesis')"
   ]
  },
  {
   "cell_type": "markdown",
   "metadata": {},
   "source": [
    "We cannot reject that the average user ratings between Action and Sports genres are the different"
   ]
  },
  {
   "cell_type": "markdown",
   "metadata": {},
   "source": [
    "This games sales dataset provides some insights into the average gamer lifestyle and gaming choices of the 3 major markets: North America, European, and Japanese. Althought there were major missing values for most of the ratings and user/critic scores, with dropping those records, the data could still be used to gather useful information such as:\n",
    "\n",
    "1. Identifying there are no obvious correlations between user/critic ratings and total sales/market shares \n",
    "2. Able to identify lifecycle patterns for game systems and use it to predict sales trends to build a 2017 sales model for PS4 and Xbox One systemss\n",
    "3. Playstation is the leading manufacturer in sales w/ having 3 of the 6 platforms with the highest average sales over the time period\n",
    "4. Was able to build user profiles for the main 3 geographical regions in the dataset: North America, Europe, and Japan\n",
    "5. Finally, was able to build 4 independent samples to test two hypotheses and provide analysis on the results "
   ]
  },
  {
   "cell_type": "markdown",
   "metadata": {},
   "source": []
  }
 ],
 "metadata": {
  "ExecuteTimeLog": [
   {
    "duration": 457,
    "start_time": "2024-06-10T15:05:53.520Z"
   },
   {
    "duration": 59,
    "start_time": "2024-06-10T15:06:38.178Z"
   },
   {
    "duration": 34,
    "start_time": "2024-06-10T15:06:40.095Z"
   },
   {
    "duration": 6,
    "start_time": "2024-06-10T15:08:21.903Z"
   },
   {
    "duration": 34,
    "start_time": "2024-06-10T15:08:24.666Z"
   },
   {
    "duration": 18,
    "start_time": "2024-06-10T15:08:48.519Z"
   },
   {
    "duration": 1439,
    "start_time": "2024-06-10T15:21:03.062Z"
   },
   {
    "duration": 7,
    "start_time": "2024-06-10T15:26:02.322Z"
   },
   {
    "duration": 28,
    "start_time": "2024-06-10T15:26:07.649Z"
   },
   {
    "duration": 17,
    "start_time": "2024-06-10T15:26:28.720Z"
   },
   {
    "duration": 25,
    "start_time": "2024-06-10T15:28:56.536Z"
   },
   {
    "duration": 7,
    "start_time": "2024-06-10T15:29:19.829Z"
   },
   {
    "duration": 33,
    "start_time": "2024-06-10T15:29:28.615Z"
   },
   {
    "duration": 13,
    "start_time": "2024-06-10T16:00:22.575Z"
   },
   {
    "duration": 321,
    "start_time": "2024-06-11T14:59:53.612Z"
   },
   {
    "duration": 480,
    "start_time": "2024-06-11T15:00:04.520Z"
   },
   {
    "duration": 62,
    "start_time": "2024-06-11T15:00:05.003Z"
   },
   {
    "duration": 37,
    "start_time": "2024-06-11T15:00:05.068Z"
   },
   {
    "duration": 5,
    "start_time": "2024-06-11T15:00:05.108Z"
   },
   {
    "duration": 32,
    "start_time": "2024-06-11T15:00:05.120Z"
   },
   {
    "duration": 61,
    "start_time": "2024-06-11T15:00:05.155Z"
   },
   {
    "duration": 7,
    "start_time": "2024-06-11T15:00:05.220Z"
   },
   {
    "duration": 8,
    "start_time": "2024-06-11T15:00:05.229Z"
   },
   {
    "duration": 29,
    "start_time": "2024-06-11T15:00:05.240Z"
   },
   {
    "duration": 50,
    "start_time": "2024-06-11T15:00:05.272Z"
   },
   {
    "duration": 8,
    "start_time": "2024-06-11T15:00:05.325Z"
   },
   {
    "duration": 19,
    "start_time": "2024-06-11T15:00:21.680Z"
   },
   {
    "duration": 3914,
    "start_time": "2024-06-11T15:09:03.944Z"
   },
   {
    "duration": 6,
    "start_time": "2024-06-11T15:11:13.063Z"
   },
   {
    "duration": 32,
    "start_time": "2024-06-11T15:11:19.076Z"
   },
   {
    "duration": 20,
    "start_time": "2024-06-11T15:11:31.509Z"
   },
   {
    "duration": 23,
    "start_time": "2024-06-11T15:11:36.988Z"
   },
   {
    "duration": 444,
    "start_time": "2024-06-11T15:12:44.053Z"
   },
   {
    "duration": 253,
    "start_time": "2024-06-11T15:12:44.503Z"
   },
   {
    "duration": 93,
    "start_time": "2024-06-11T15:12:44.760Z"
   },
   {
    "duration": 32,
    "start_time": "2024-06-11T15:12:44.856Z"
   },
   {
    "duration": 21,
    "start_time": "2024-06-11T15:12:44.892Z"
   },
   {
    "duration": 29,
    "start_time": "2024-06-11T15:12:44.915Z"
   },
   {
    "duration": 19,
    "start_time": "2024-06-11T15:12:44.947Z"
   },
   {
    "duration": 44,
    "start_time": "2024-06-11T15:12:44.969Z"
   },
   {
    "duration": 7,
    "start_time": "2024-06-11T15:12:45.015Z"
   },
   {
    "duration": 31,
    "start_time": "2024-06-11T15:12:45.026Z"
   },
   {
    "duration": 14,
    "start_time": "2024-06-11T15:12:45.059Z"
   },
   {
    "duration": 40,
    "start_time": "2024-06-11T15:12:45.076Z"
   },
   {
    "duration": 19,
    "start_time": "2024-06-11T15:12:45.120Z"
   },
   {
    "duration": 17,
    "start_time": "2024-06-11T15:14:56.632Z"
   },
   {
    "duration": 5,
    "start_time": "2024-06-11T15:15:26.476Z"
   },
   {
    "duration": 9,
    "start_time": "2024-06-11T15:15:35.327Z"
   },
   {
    "duration": 501,
    "start_time": "2024-06-11T15:18:39.248Z"
   },
   {
    "duration": 156,
    "start_time": "2024-06-11T15:26:33.794Z"
   },
   {
    "duration": 21,
    "start_time": "2024-06-11T15:27:19.975Z"
   },
   {
    "duration": 425,
    "start_time": "2024-06-11T15:27:42.454Z"
   },
   {
    "duration": 255,
    "start_time": "2024-06-11T15:27:42.883Z"
   },
   {
    "duration": 103,
    "start_time": "2024-06-11T15:27:43.142Z"
   },
   {
    "duration": 33,
    "start_time": "2024-06-11T15:27:43.248Z"
   },
   {
    "duration": 4,
    "start_time": "2024-06-11T15:27:43.285Z"
   },
   {
    "duration": 32,
    "start_time": "2024-06-11T15:27:43.312Z"
   },
   {
    "duration": 22,
    "start_time": "2024-06-11T15:27:43.347Z"
   },
   {
    "duration": 7,
    "start_time": "2024-06-11T15:27:43.373Z"
   },
   {
    "duration": 9,
    "start_time": "2024-06-11T15:27:43.414Z"
   },
   {
    "duration": 30,
    "start_time": "2024-06-11T15:27:43.426Z"
   },
   {
    "duration": 12,
    "start_time": "2024-06-11T15:27:43.459Z"
   },
   {
    "duration": 9,
    "start_time": "2024-06-11T15:27:43.512Z"
   },
   {
    "duration": 21,
    "start_time": "2024-06-11T15:27:43.528Z"
   },
   {
    "duration": 20,
    "start_time": "2024-06-11T15:27:43.556Z"
   },
   {
    "duration": 35,
    "start_time": "2024-06-11T15:27:43.579Z"
   },
   {
    "duration": 9,
    "start_time": "2024-06-11T15:27:43.617Z"
   },
   {
    "duration": 547,
    "start_time": "2024-06-11T15:27:43.628Z"
   },
   {
    "duration": 34,
    "start_time": "2024-06-11T15:27:44.179Z"
   },
   {
    "duration": 183,
    "start_time": "2024-06-11T15:27:44.216Z"
   },
   {
    "duration": 20,
    "start_time": "2024-06-11T15:28:00.935Z"
   },
   {
    "duration": 8,
    "start_time": "2024-06-11T15:28:13.350Z"
   },
   {
    "duration": 7,
    "start_time": "2024-06-11T15:28:25.513Z"
   },
   {
    "duration": 8,
    "start_time": "2024-06-11T15:29:03.363Z"
   },
   {
    "duration": 14,
    "start_time": "2024-06-11T15:29:03.961Z"
   },
   {
    "duration": 228,
    "start_time": "2024-06-11T15:29:14.628Z"
   },
   {
    "duration": 8,
    "start_time": "2024-06-11T15:29:24.399Z"
   },
   {
    "duration": 13,
    "start_time": "2024-06-11T15:29:24.688Z"
   },
   {
    "duration": 5,
    "start_time": "2024-06-11T15:30:49.530Z"
   },
   {
    "duration": 15,
    "start_time": "2024-06-11T15:31:05.304Z"
   },
   {
    "duration": 733,
    "start_time": "2024-06-11T15:36:12.037Z"
   },
   {
    "duration": 10,
    "start_time": "2024-06-11T15:36:43.928Z"
   },
   {
    "duration": 16,
    "start_time": "2024-06-11T15:36:54.448Z"
   },
   {
    "duration": 174,
    "start_time": "2024-06-11T15:51:09.234Z"
   },
   {
    "duration": 223,
    "start_time": "2024-06-11T15:51:32.300Z"
   },
   {
    "duration": 1507,
    "start_time": "2024-06-11T15:52:31.586Z"
   },
   {
    "duration": 208,
    "start_time": "2024-06-11T15:52:56.972Z"
   },
   {
    "duration": 360,
    "start_time": "2024-06-11T15:54:50.827Z"
   },
   {
    "duration": 364,
    "start_time": "2024-06-11T15:54:56.223Z"
   },
   {
    "duration": 22,
    "start_time": "2024-06-11T16:02:20.826Z"
   },
   {
    "duration": 6,
    "start_time": "2024-06-11T16:03:32.278Z"
   },
   {
    "duration": 8,
    "start_time": "2024-06-11T16:03:32.904Z"
   },
   {
    "duration": 9,
    "start_time": "2024-06-11T16:04:53.117Z"
   },
   {
    "duration": 13,
    "start_time": "2024-06-11T16:04:57.379Z"
   },
   {
    "duration": 7,
    "start_time": "2024-06-11T16:05:53.190Z"
   },
   {
    "duration": 6,
    "start_time": "2024-06-11T16:06:05.199Z"
   },
   {
    "duration": 243,
    "start_time": "2024-06-11T16:07:29.791Z"
   },
   {
    "duration": 414,
    "start_time": "2024-06-11T16:08:27.567Z"
   },
   {
    "duration": 243,
    "start_time": "2024-06-11T16:08:27.986Z"
   },
   {
    "duration": 99,
    "start_time": "2024-06-11T16:08:28.233Z"
   },
   {
    "duration": 36,
    "start_time": "2024-06-11T16:08:28.336Z"
   },
   {
    "duration": 4,
    "start_time": "2024-06-11T16:08:28.377Z"
   },
   {
    "duration": 55,
    "start_time": "2024-06-11T16:08:28.384Z"
   },
   {
    "duration": 20,
    "start_time": "2024-06-11T16:08:28.442Z"
   },
   {
    "duration": 7,
    "start_time": "2024-06-11T16:08:28.465Z"
   },
   {
    "duration": 7,
    "start_time": "2024-06-11T16:08:28.512Z"
   },
   {
    "duration": 28,
    "start_time": "2024-06-11T16:08:28.522Z"
   },
   {
    "duration": 13,
    "start_time": "2024-06-11T16:08:28.553Z"
   },
   {
    "duration": 49,
    "start_time": "2024-06-11T16:08:28.569Z"
   },
   {
    "duration": 19,
    "start_time": "2024-06-11T16:08:28.621Z"
   },
   {
    "duration": 19,
    "start_time": "2024-06-11T16:08:28.647Z"
   },
   {
    "duration": 6,
    "start_time": "2024-06-11T16:08:28.669Z"
   },
   {
    "duration": 8,
    "start_time": "2024-06-11T16:08:28.713Z"
   },
   {
    "duration": 524,
    "start_time": "2024-06-11T16:08:28.725Z"
   },
   {
    "duration": 22,
    "start_time": "2024-06-11T16:08:29.252Z"
   },
   {
    "duration": 36,
    "start_time": "2024-06-11T16:08:29.276Z"
   },
   {
    "duration": 12,
    "start_time": "2024-06-11T16:08:29.316Z"
   },
   {
    "duration": 6,
    "start_time": "2024-06-11T16:08:29.331Z"
   },
   {
    "duration": 6,
    "start_time": "2024-06-11T16:08:29.341Z"
   },
   {
    "duration": 395,
    "start_time": "2024-06-11T16:08:29.350Z"
   },
   {
    "duration": 12,
    "start_time": "2024-06-11T16:10:34.802Z"
   },
   {
    "duration": 6,
    "start_time": "2024-06-11T16:10:36.508Z"
   },
   {
    "duration": 8,
    "start_time": "2024-06-11T16:10:36.836Z"
   },
   {
    "duration": 258,
    "start_time": "2024-06-11T16:10:37.135Z"
   },
   {
    "duration": 260,
    "start_time": "2024-06-11T16:34:38.322Z"
   },
   {
    "duration": 26,
    "start_time": "2024-06-11T16:35:57.321Z"
   },
   {
    "duration": 22,
    "start_time": "2024-06-11T16:36:07.622Z"
   },
   {
    "duration": 7,
    "start_time": "2024-06-11T16:36:48.503Z"
   },
   {
    "duration": 15,
    "start_time": "2024-06-11T16:36:52.459Z"
   },
   {
    "duration": 341,
    "start_time": "2024-06-11T20:13:21.368Z"
   },
   {
    "duration": 479,
    "start_time": "2024-06-11T20:13:29.987Z"
   },
   {
    "duration": 3842,
    "start_time": "2024-06-11T20:13:30.469Z"
   },
   {
    "duration": 55,
    "start_time": "2024-06-11T20:13:34.321Z"
   },
   {
    "duration": 41,
    "start_time": "2024-06-11T20:13:34.379Z"
   },
   {
    "duration": 4,
    "start_time": "2024-06-11T20:13:34.423Z"
   },
   {
    "duration": 28,
    "start_time": "2024-06-11T20:13:34.430Z"
   },
   {
    "duration": 51,
    "start_time": "2024-06-11T20:13:34.462Z"
   },
   {
    "duration": 7,
    "start_time": "2024-06-11T20:13:34.516Z"
   },
   {
    "duration": 7,
    "start_time": "2024-06-11T20:13:34.529Z"
   },
   {
    "duration": 28,
    "start_time": "2024-06-11T20:13:34.539Z"
   },
   {
    "duration": 46,
    "start_time": "2024-06-11T20:13:34.570Z"
   },
   {
    "duration": 8,
    "start_time": "2024-06-11T20:13:34.618Z"
   },
   {
    "duration": 19,
    "start_time": "2024-06-11T20:13:34.628Z"
   },
   {
    "duration": 57,
    "start_time": "2024-06-11T20:13:34.650Z"
   },
   {
    "duration": 6,
    "start_time": "2024-06-11T20:13:34.710Z"
   },
   {
    "duration": 9,
    "start_time": "2024-06-11T20:13:34.719Z"
   },
   {
    "duration": 585,
    "start_time": "2024-06-11T20:13:34.732Z"
   },
   {
    "duration": 21,
    "start_time": "2024-06-11T20:13:35.319Z"
   },
   {
    "duration": 9,
    "start_time": "2024-06-11T20:13:35.343Z"
   },
   {
    "duration": 50,
    "start_time": "2024-06-11T20:13:35.355Z"
   },
   {
    "duration": 11,
    "start_time": "2024-06-11T20:13:35.408Z"
   },
   {
    "duration": 236,
    "start_time": "2024-06-11T20:13:35.421Z"
   },
   {
    "duration": 6,
    "start_time": "2024-06-11T20:13:35.660Z"
   },
   {
    "duration": 6,
    "start_time": "2024-06-11T20:13:35.669Z"
   },
   {
    "duration": 293,
    "start_time": "2024-06-11T20:13:35.678Z"
   },
   {
    "duration": 367,
    "start_time": "2024-06-11T20:16:51.250Z"
   },
   {
    "duration": 22,
    "start_time": "2024-06-11T20:16:55.750Z"
   },
   {
    "duration": 7,
    "start_time": "2024-06-11T20:17:02.708Z"
   },
   {
    "duration": 6,
    "start_time": "2024-06-11T20:17:03.491Z"
   },
   {
    "duration": 342,
    "start_time": "2024-06-11T20:17:03.901Z"
   },
   {
    "duration": 330,
    "start_time": "2024-06-11T20:24:13.857Z"
   },
   {
    "duration": 490,
    "start_time": "2024-06-14T15:00:28.591Z"
   },
   {
    "duration": 4104,
    "start_time": "2024-06-14T15:00:29.085Z"
   },
   {
    "duration": 54,
    "start_time": "2024-06-14T15:00:33.192Z"
   },
   {
    "duration": 34,
    "start_time": "2024-06-14T15:00:33.250Z"
   },
   {
    "duration": 25,
    "start_time": "2024-06-14T15:00:33.287Z"
   },
   {
    "duration": 32,
    "start_time": "2024-06-14T15:00:33.315Z"
   },
   {
    "duration": 21,
    "start_time": "2024-06-14T15:00:33.349Z"
   },
   {
    "duration": 39,
    "start_time": "2024-06-14T15:00:33.373Z"
   },
   {
    "duration": 13,
    "start_time": "2024-06-14T15:00:33.415Z"
   },
   {
    "duration": 31,
    "start_time": "2024-06-14T15:00:33.436Z"
   },
   {
    "duration": 48,
    "start_time": "2024-06-14T15:00:33.470Z"
   },
   {
    "duration": 9,
    "start_time": "2024-06-14T15:00:33.522Z"
   },
   {
    "duration": 20,
    "start_time": "2024-06-14T15:00:33.534Z"
   },
   {
    "duration": 99,
    "start_time": "2024-06-14T15:00:33.558Z"
   },
   {
    "duration": 6,
    "start_time": "2024-06-14T15:00:33.660Z"
   },
   {
    "duration": 11,
    "start_time": "2024-06-14T15:00:33.669Z"
   },
   {
    "duration": 564,
    "start_time": "2024-06-14T15:00:33.712Z"
   },
   {
    "duration": 33,
    "start_time": "2024-06-14T15:00:34.280Z"
   },
   {
    "duration": 9,
    "start_time": "2024-06-14T15:00:34.316Z"
   },
   {
    "duration": 14,
    "start_time": "2024-06-14T15:00:34.328Z"
   },
   {
    "duration": 12,
    "start_time": "2024-06-14T15:00:34.345Z"
   },
   {
    "duration": 6,
    "start_time": "2024-06-14T15:00:34.360Z"
   },
   {
    "duration": 5,
    "start_time": "2024-06-14T15:00:34.414Z"
   },
   {
    "duration": 386,
    "start_time": "2024-06-14T15:00:34.423Z"
   },
   {
    "duration": 7,
    "start_time": "2024-06-14T15:00:34.812Z"
   },
   {
    "duration": 259,
    "start_time": "2024-06-14T15:00:34.822Z"
   },
   {
    "duration": 688,
    "start_time": "2024-06-14T18:14:28.067Z"
   },
   {
    "duration": 10,
    "start_time": "2024-06-14T18:15:07.297Z"
   },
   {
    "duration": 720,
    "start_time": "2024-06-14T18:15:45.239Z"
   },
   {
    "duration": 11,
    "start_time": "2024-06-14T18:16:44.190Z"
   },
   {
    "duration": 707,
    "start_time": "2024-06-14T18:16:47.908Z"
   },
   {
    "duration": 11,
    "start_time": "2024-06-14T18:16:56.550Z"
   },
   {
    "duration": 791,
    "start_time": "2024-06-14T18:16:56.857Z"
   },
   {
    "duration": 718,
    "start_time": "2024-06-14T18:17:08.690Z"
   },
   {
    "duration": 1036,
    "start_time": "2024-06-14T18:20:47.153Z"
   },
   {
    "duration": 7,
    "start_time": "2024-06-14T18:21:38.461Z"
   },
   {
    "duration": 5,
    "start_time": "2024-06-14T18:22:10.469Z"
   },
   {
    "duration": 24,
    "start_time": "2024-06-14T18:22:25.789Z"
   },
   {
    "duration": 150,
    "start_time": "2024-06-14T18:22:31.959Z"
   },
   {
    "duration": 1169,
    "start_time": "2024-06-14T18:23:16.831Z"
   },
   {
    "duration": 372,
    "start_time": "2024-06-14T18:24:09.646Z"
   },
   {
    "duration": 515,
    "start_time": "2024-06-14T18:24:20.074Z"
   },
   {
    "duration": 431,
    "start_time": "2024-06-14T18:28:45.099Z"
   },
   {
    "duration": 424,
    "start_time": "2024-06-14T18:28:58.136Z"
   },
   {
    "duration": 481,
    "start_time": "2024-06-14T18:29:10.362Z"
   },
   {
    "duration": 446,
    "start_time": "2024-06-14T18:29:37.631Z"
   },
   {
    "duration": 434,
    "start_time": "2024-06-14T18:30:05.697Z"
   },
   {
    "duration": 432,
    "start_time": "2024-06-14T18:30:48.777Z"
   },
   {
    "duration": 433,
    "start_time": "2024-06-14T19:00:59.997Z"
   },
   {
    "duration": 421,
    "start_time": "2024-06-14T19:01:14.126Z"
   },
   {
    "duration": 485,
    "start_time": "2024-06-14T19:02:52.428Z"
   },
   {
    "duration": 451,
    "start_time": "2024-06-14T19:03:01.175Z"
   },
   {
    "duration": 422,
    "start_time": "2024-06-14T19:03:18.623Z"
   },
   {
    "duration": 592,
    "start_time": "2024-06-14T19:03:45.105Z"
   },
   {
    "duration": 8,
    "start_time": "2024-06-14T19:11:47.516Z"
   },
   {
    "duration": 35,
    "start_time": "2024-06-14T19:11:48.750Z"
   },
   {
    "duration": 849,
    "start_time": "2024-06-14T19:14:51.298Z"
   },
   {
    "duration": 40,
    "start_time": "2024-06-14T19:14:52.246Z"
   },
   {
    "duration": 27,
    "start_time": "2024-06-14T19:17:29.230Z"
   },
   {
    "duration": 5,
    "start_time": "2024-06-14T19:18:33.754Z"
   },
   {
    "duration": 6,
    "start_time": "2024-06-14T19:19:22.614Z"
   },
   {
    "duration": 317,
    "start_time": "2024-06-14T19:19:45.960Z"
   },
   {
    "duration": 23,
    "start_time": "2024-06-14T19:20:13.591Z"
   },
   {
    "duration": 7,
    "start_time": "2024-06-14T19:20:39.414Z"
   },
   {
    "duration": 753,
    "start_time": "2024-06-14T19:21:53.936Z"
   },
   {
    "duration": 8,
    "start_time": "2024-06-14T19:25:06.238Z"
   },
   {
    "duration": 8,
    "start_time": "2024-06-14T19:25:13.552Z"
   },
   {
    "duration": 20,
    "start_time": "2024-06-14T19:25:41.866Z"
   },
   {
    "duration": 34,
    "start_time": "2024-06-14T19:25:46.083Z"
   },
   {
    "duration": 506,
    "start_time": "2024-06-14T19:26:01.108Z"
   },
   {
    "duration": 249,
    "start_time": "2024-06-14T19:26:01.618Z"
   },
   {
    "duration": 592,
    "start_time": "2024-06-14T19:26:01.870Z"
   },
   {
    "duration": 57,
    "start_time": "2024-06-14T19:26:02.466Z"
   },
   {
    "duration": 33,
    "start_time": "2024-06-14T19:26:02.526Z"
   },
   {
    "duration": 4,
    "start_time": "2024-06-14T19:26:02.562Z"
   },
   {
    "duration": 57,
    "start_time": "2024-06-14T19:26:02.569Z"
   },
   {
    "duration": 19,
    "start_time": "2024-06-14T19:26:02.630Z"
   },
   {
    "duration": 6,
    "start_time": "2024-06-14T19:26:02.653Z"
   },
   {
    "duration": 7,
    "start_time": "2024-06-14T19:26:02.666Z"
   },
   {
    "duration": 38,
    "start_time": "2024-06-14T19:26:02.676Z"
   },
   {
    "duration": 7,
    "start_time": "2024-06-14T19:26:02.717Z"
   },
   {
    "duration": 8,
    "start_time": "2024-06-14T19:26:02.727Z"
   },
   {
    "duration": 9,
    "start_time": "2024-06-14T19:26:02.738Z"
   },
   {
    "duration": 7,
    "start_time": "2024-06-14T19:26:02.750Z"
   },
   {
    "duration": 32,
    "start_time": "2024-06-14T19:26:02.812Z"
   },
   {
    "duration": 13,
    "start_time": "2024-06-14T19:26:02.847Z"
   },
   {
    "duration": 9,
    "start_time": "2024-06-14T19:26:02.864Z"
   },
   {
    "duration": 54,
    "start_time": "2024-06-14T19:26:02.876Z"
   },
   {
    "duration": 21,
    "start_time": "2024-06-14T19:26:02.933Z"
   },
   {
    "duration": 5,
    "start_time": "2024-06-14T19:26:02.958Z"
   },
   {
    "duration": 45,
    "start_time": "2024-06-14T19:26:02.968Z"
   },
   {
    "duration": 602,
    "start_time": "2024-06-14T19:26:03.016Z"
   },
   {
    "duration": 26,
    "start_time": "2024-06-14T19:26:03.622Z"
   },
   {
    "duration": 10,
    "start_time": "2024-06-14T19:26:03.653Z"
   },
   {
    "duration": 14,
    "start_time": "2024-06-14T19:26:03.668Z"
   },
   {
    "duration": 35,
    "start_time": "2024-06-14T19:26:03.685Z"
   },
   {
    "duration": 7,
    "start_time": "2024-06-14T19:26:03.735Z"
   },
   {
    "duration": 6,
    "start_time": "2024-06-14T19:26:03.745Z"
   },
   {
    "duration": 398,
    "start_time": "2024-06-14T19:26:03.755Z"
   },
   {
    "duration": 9,
    "start_time": "2024-06-14T19:26:04.157Z"
   },
   {
    "duration": 276,
    "start_time": "2024-06-14T19:26:04.170Z"
   },
   {
    "duration": 10,
    "start_time": "2024-06-14T19:26:04.452Z"
   },
   {
    "duration": 441,
    "start_time": "2024-06-14T19:26:04.467Z"
   },
   {
    "duration": 475,
    "start_time": "2024-06-14T19:35:31.848Z"
   },
   {
    "duration": 336,
    "start_time": "2024-06-15T17:35:47.565Z"
   },
   {
    "duration": 488,
    "start_time": "2024-06-15T17:36:16.701Z"
   },
   {
    "duration": 4073,
    "start_time": "2024-06-15T17:36:17.193Z"
   },
   {
    "duration": 657,
    "start_time": "2024-06-15T17:36:21.269Z"
   },
   {
    "duration": 60,
    "start_time": "2024-06-15T17:36:21.928Z"
   },
   {
    "duration": 40,
    "start_time": "2024-06-15T17:36:21.994Z"
   },
   {
    "duration": 5,
    "start_time": "2024-06-15T17:36:22.038Z"
   },
   {
    "duration": 34,
    "start_time": "2024-06-15T17:36:22.048Z"
   },
   {
    "duration": 55,
    "start_time": "2024-06-15T17:36:22.085Z"
   },
   {
    "duration": 7,
    "start_time": "2024-06-15T17:36:22.143Z"
   },
   {
    "duration": 8,
    "start_time": "2024-06-15T17:36:22.154Z"
   },
   {
    "duration": 5,
    "start_time": "2024-06-15T17:36:22.165Z"
   },
   {
    "duration": 50,
    "start_time": "2024-06-15T17:36:22.173Z"
   },
   {
    "duration": 8,
    "start_time": "2024-06-15T17:36:22.226Z"
   },
   {
    "duration": 7,
    "start_time": "2024-06-15T17:36:22.240Z"
   },
   {
    "duration": 6,
    "start_time": "2024-06-15T17:36:22.251Z"
   },
   {
    "duration": 76,
    "start_time": "2024-06-15T17:36:22.260Z"
   },
   {
    "duration": 12,
    "start_time": "2024-06-15T17:36:22.339Z"
   },
   {
    "duration": 9,
    "start_time": "2024-06-15T17:36:22.354Z"
   },
   {
    "duration": 20,
    "start_time": "2024-06-15T17:36:22.366Z"
   },
   {
    "duration": 19,
    "start_time": "2024-06-15T17:36:22.424Z"
   },
   {
    "duration": 6,
    "start_time": "2024-06-15T17:36:22.446Z"
   },
   {
    "duration": 9,
    "start_time": "2024-06-15T17:36:22.455Z"
   },
   {
    "duration": 535,
    "start_time": "2024-06-15T17:36:22.466Z"
   },
   {
    "duration": 32,
    "start_time": "2024-06-15T17:36:23.004Z"
   },
   {
    "duration": 7,
    "start_time": "2024-06-15T17:36:23.039Z"
   },
   {
    "duration": 14,
    "start_time": "2024-06-15T17:36:23.049Z"
   },
   {
    "duration": 10,
    "start_time": "2024-06-15T17:36:23.067Z"
   },
   {
    "duration": 47,
    "start_time": "2024-06-15T17:36:23.080Z"
   },
   {
    "duration": 8,
    "start_time": "2024-06-15T17:36:23.130Z"
   },
   {
    "duration": 380,
    "start_time": "2024-06-15T17:36:23.143Z"
   },
   {
    "duration": 7,
    "start_time": "2024-06-15T17:36:23.527Z"
   },
   {
    "duration": 271,
    "start_time": "2024-06-15T17:36:23.537Z"
   },
   {
    "duration": 14,
    "start_time": "2024-06-15T17:36:23.812Z"
   },
   {
    "duration": 504,
    "start_time": "2024-06-15T17:36:23.830Z"
   },
   {
    "duration": 471,
    "start_time": "2024-06-15T17:36:24.337Z"
   },
   {
    "duration": 494,
    "start_time": "2024-06-15T17:36:24.811Z"
   },
   {
    "duration": 9,
    "start_time": "2024-06-15T17:44:08.363Z"
   },
   {
    "duration": 5,
    "start_time": "2024-06-15T17:44:46.754Z"
   },
   {
    "duration": 355,
    "start_time": "2024-06-15T17:45:53.142Z"
   },
   {
    "duration": 330,
    "start_time": "2024-06-15T17:46:14.121Z"
   },
   {
    "duration": 344,
    "start_time": "2024-06-15T17:47:01.188Z"
   },
   {
    "duration": 312,
    "start_time": "2024-06-15T17:47:19.176Z"
   },
   {
    "duration": 8,
    "start_time": "2024-06-15T18:12:39.371Z"
   },
   {
    "duration": 34,
    "start_time": "2024-06-15T18:12:44.824Z"
   },
   {
    "duration": 84,
    "start_time": "2024-06-15T19:03:54.585Z"
   },
   {
    "duration": 37,
    "start_time": "2024-06-15T19:04:10.390Z"
   },
   {
    "duration": 485,
    "start_time": "2024-06-15T19:04:32.805Z"
   },
   {
    "duration": 262,
    "start_time": "2024-06-15T19:04:33.293Z"
   },
   {
    "duration": 639,
    "start_time": "2024-06-15T19:04:33.559Z"
   },
   {
    "duration": 48,
    "start_time": "2024-06-15T19:04:34.201Z"
   },
   {
    "duration": 34,
    "start_time": "2024-06-15T19:04:34.252Z"
   },
   {
    "duration": 4,
    "start_time": "2024-06-15T19:04:34.290Z"
   },
   {
    "duration": 56,
    "start_time": "2024-06-15T19:04:34.297Z"
   },
   {
    "duration": 20,
    "start_time": "2024-06-15T19:04:34.356Z"
   },
   {
    "duration": 44,
    "start_time": "2024-06-15T19:04:34.379Z"
   },
   {
    "duration": 8,
    "start_time": "2024-06-15T19:04:34.428Z"
   },
   {
    "duration": 5,
    "start_time": "2024-06-15T19:04:34.440Z"
   },
   {
    "duration": 8,
    "start_time": "2024-06-15T19:04:34.448Z"
   },
   {
    "duration": 11,
    "start_time": "2024-06-15T19:04:34.459Z"
   },
   {
    "duration": 56,
    "start_time": "2024-06-15T19:04:34.474Z"
   },
   {
    "duration": 7,
    "start_time": "2024-06-15T19:04:34.533Z"
   },
   {
    "duration": 31,
    "start_time": "2024-06-15T19:04:34.544Z"
   },
   {
    "duration": 126,
    "start_time": "2024-06-15T19:04:34.578Z"
   },
   {
    "duration": 29,
    "start_time": "2024-06-15T19:04:34.722Z"
   },
   {
    "duration": 13,
    "start_time": "2024-06-15T19:04:34.754Z"
   },
   {
    "duration": 8,
    "start_time": "2024-06-15T19:04:34.770Z"
   },
   {
    "duration": 57,
    "start_time": "2024-06-15T19:04:34.780Z"
   },
   {
    "duration": 20,
    "start_time": "2024-06-15T19:04:34.840Z"
   },
   {
    "duration": 5,
    "start_time": "2024-06-15T19:04:34.863Z"
   },
   {
    "duration": 9,
    "start_time": "2024-06-15T19:04:34.871Z"
   },
   {
    "duration": 545,
    "start_time": "2024-06-15T19:04:34.923Z"
   },
   {
    "duration": 22,
    "start_time": "2024-06-15T19:04:35.472Z"
   },
   {
    "duration": 30,
    "start_time": "2024-06-15T19:04:35.497Z"
   },
   {
    "duration": 14,
    "start_time": "2024-06-15T19:04:35.535Z"
   },
   {
    "duration": 10,
    "start_time": "2024-06-15T19:04:35.552Z"
   },
   {
    "duration": 9,
    "start_time": "2024-06-15T19:04:35.565Z"
   },
   {
    "duration": 7,
    "start_time": "2024-06-15T19:04:35.577Z"
   },
   {
    "duration": 370,
    "start_time": "2024-06-15T19:04:35.625Z"
   },
   {
    "duration": 7,
    "start_time": "2024-06-15T19:04:35.998Z"
   },
   {
    "duration": 249,
    "start_time": "2024-06-15T19:04:36.008Z"
   },
   {
    "duration": 8,
    "start_time": "2024-06-15T19:04:36.260Z"
   },
   {
    "duration": 447,
    "start_time": "2024-06-15T19:04:36.270Z"
   },
   {
    "duration": 482,
    "start_time": "2024-06-15T19:04:36.720Z"
   },
   {
    "duration": 504,
    "start_time": "2024-06-15T19:04:37.205Z"
   },
   {
    "duration": 14,
    "start_time": "2024-06-15T19:04:37.713Z"
   },
   {
    "duration": 8,
    "start_time": "2024-06-15T19:04:37.730Z"
   },
   {
    "duration": 355,
    "start_time": "2024-06-15T19:04:37.742Z"
   },
   {
    "duration": 23,
    "start_time": "2024-06-15T19:04:38.100Z"
   },
   {
    "duration": 32,
    "start_time": "2024-06-15T19:04:38.127Z"
   },
   {
    "duration": 7,
    "start_time": "2024-06-15T19:07:04.514Z"
   },
   {
    "duration": 13,
    "start_time": "2024-06-15T19:07:14.211Z"
   },
   {
    "duration": 5,
    "start_time": "2024-06-15T19:07:58.837Z"
   },
   {
    "duration": 14,
    "start_time": "2024-06-15T19:08:07.066Z"
   },
   {
    "duration": 10,
    "start_time": "2024-06-15T19:08:42.456Z"
   },
   {
    "duration": 9,
    "start_time": "2024-06-15T19:11:01.251Z"
   },
   {
    "duration": 5,
    "start_time": "2024-06-15T19:11:01.654Z"
   },
   {
    "duration": 10,
    "start_time": "2024-06-15T19:11:08.985Z"
   },
   {
    "duration": 472,
    "start_time": "2024-06-15T19:13:15.121Z"
   },
   {
    "duration": 7,
    "start_time": "2024-06-15T19:13:18.228Z"
   },
   {
    "duration": 4,
    "start_time": "2024-06-15T19:13:18.638Z"
   },
   {
    "duration": 10,
    "start_time": "2024-06-15T19:13:18.996Z"
   },
   {
    "duration": 8,
    "start_time": "2024-06-15T19:15:00.467Z"
   },
   {
    "duration": 5,
    "start_time": "2024-06-15T19:15:00.736Z"
   },
   {
    "duration": 11,
    "start_time": "2024-06-15T19:15:01.016Z"
   },
   {
    "duration": 8,
    "start_time": "2024-06-15T19:15:01.335Z"
   },
   {
    "duration": 4,
    "start_time": "2024-06-15T19:15:02.088Z"
   },
   {
    "duration": 9,
    "start_time": "2024-06-15T19:15:02.503Z"
   },
   {
    "duration": 8,
    "start_time": "2024-06-15T19:21:24.418Z"
   },
   {
    "duration": 4,
    "start_time": "2024-06-15T19:22:11.210Z"
   },
   {
    "duration": 11,
    "start_time": "2024-06-15T19:22:21.422Z"
   },
   {
    "duration": 11,
    "start_time": "2024-06-15T19:22:31.361Z"
   },
   {
    "duration": 9,
    "start_time": "2024-06-15T19:23:12.097Z"
   },
   {
    "duration": 5,
    "start_time": "2024-06-15T19:23:47.822Z"
   },
   {
    "duration": 10,
    "start_time": "2024-06-15T19:24:04.746Z"
   },
   {
    "duration": 9,
    "start_time": "2024-06-15T19:24:57.011Z"
   },
   {
    "duration": 5,
    "start_time": "2024-06-15T19:25:27.872Z"
   },
   {
    "duration": 11,
    "start_time": "2024-06-15T19:25:38.472Z"
   },
   {
    "duration": 485,
    "start_time": "2024-06-16T03:24:34.041Z"
   },
   {
    "duration": 3940,
    "start_time": "2024-06-16T03:24:34.529Z"
   },
   {
    "duration": 691,
    "start_time": "2024-06-16T03:24:38.473Z"
   },
   {
    "duration": 54,
    "start_time": "2024-06-16T03:24:39.170Z"
   },
   {
    "duration": 32,
    "start_time": "2024-06-16T03:24:39.229Z"
   },
   {
    "duration": 5,
    "start_time": "2024-06-16T03:24:39.264Z"
   },
   {
    "duration": 58,
    "start_time": "2024-06-16T03:24:39.272Z"
   },
   {
    "duration": 20,
    "start_time": "2024-06-16T03:24:39.333Z"
   },
   {
    "duration": 8,
    "start_time": "2024-06-16T03:24:39.356Z"
   },
   {
    "duration": 9,
    "start_time": "2024-06-16T03:24:39.367Z"
   },
   {
    "duration": 46,
    "start_time": "2024-06-16T03:24:39.379Z"
   },
   {
    "duration": 6,
    "start_time": "2024-06-16T03:24:39.429Z"
   },
   {
    "duration": 8,
    "start_time": "2024-06-16T03:24:39.439Z"
   },
   {
    "duration": 7,
    "start_time": "2024-06-16T03:24:39.454Z"
   },
   {
    "duration": 58,
    "start_time": "2024-06-16T03:24:39.465Z"
   },
   {
    "duration": 31,
    "start_time": "2024-06-16T03:24:39.527Z"
   },
   {
    "duration": 124,
    "start_time": "2024-06-16T03:24:39.561Z"
   },
   {
    "duration": 51,
    "start_time": "2024-06-16T03:24:39.688Z"
   },
   {
    "duration": 13,
    "start_time": "2024-06-16T03:24:39.742Z"
   },
   {
    "duration": 9,
    "start_time": "2024-06-16T03:24:39.758Z"
   },
   {
    "duration": 61,
    "start_time": "2024-06-16T03:24:39.770Z"
   },
   {
    "duration": 21,
    "start_time": "2024-06-16T03:24:39.834Z"
   },
   {
    "duration": 6,
    "start_time": "2024-06-16T03:24:39.859Z"
   },
   {
    "duration": 9,
    "start_time": "2024-06-16T03:24:39.868Z"
   },
   {
    "duration": 559,
    "start_time": "2024-06-16T03:24:39.924Z"
   },
   {
    "duration": 39,
    "start_time": "2024-06-16T03:24:40.486Z"
   },
   {
    "duration": 10,
    "start_time": "2024-06-16T03:24:40.529Z"
   },
   {
    "duration": 17,
    "start_time": "2024-06-16T03:24:40.542Z"
   },
   {
    "duration": 12,
    "start_time": "2024-06-16T03:24:40.562Z"
   },
   {
    "duration": 47,
    "start_time": "2024-06-16T03:24:40.577Z"
   },
   {
    "duration": 7,
    "start_time": "2024-06-16T03:24:40.629Z"
   },
   {
    "duration": 386,
    "start_time": "2024-06-16T03:24:40.641Z"
   },
   {
    "duration": 7,
    "start_time": "2024-06-16T03:24:41.031Z"
   },
   {
    "duration": 286,
    "start_time": "2024-06-16T03:24:41.041Z"
   },
   {
    "duration": 8,
    "start_time": "2024-06-16T03:24:41.330Z"
   },
   {
    "duration": 547,
    "start_time": "2024-06-16T03:24:41.342Z"
   },
   {
    "duration": 492,
    "start_time": "2024-06-16T03:24:41.893Z"
   },
   {
    "duration": 523,
    "start_time": "2024-06-16T03:24:42.389Z"
   },
   {
    "duration": 13,
    "start_time": "2024-06-16T03:24:42.923Z"
   },
   {
    "duration": 6,
    "start_time": "2024-06-16T03:24:42.939Z"
   },
   {
    "duration": 353,
    "start_time": "2024-06-16T03:24:42.960Z"
   },
   {
    "duration": 10,
    "start_time": "2024-06-16T03:24:43.323Z"
   },
   {
    "duration": 5,
    "start_time": "2024-06-16T03:24:43.336Z"
   },
   {
    "duration": 11,
    "start_time": "2024-06-16T03:24:43.345Z"
   },
   {
    "duration": 9,
    "start_time": "2024-06-16T03:24:43.360Z"
   },
   {
    "duration": 52,
    "start_time": "2024-06-16T03:24:43.372Z"
   },
   {
    "duration": 10,
    "start_time": "2024-06-16T03:24:43.428Z"
   },
   {
    "duration": 9,
    "start_time": "2024-06-16T03:24:43.442Z"
   },
   {
    "duration": 5,
    "start_time": "2024-06-16T03:24:43.453Z"
   },
   {
    "duration": 11,
    "start_time": "2024-06-16T03:24:43.462Z"
   },
   {
    "duration": 9,
    "start_time": "2024-06-16T03:24:43.524Z"
   },
   {
    "duration": 5,
    "start_time": "2024-06-16T03:24:43.536Z"
   },
   {
    "duration": 12,
    "start_time": "2024-06-16T03:24:43.543Z"
   },
   {
    "duration": 9,
    "start_time": "2024-06-16T03:24:43.558Z"
   },
   {
    "duration": 54,
    "start_time": "2024-06-16T03:24:43.570Z"
   },
   {
    "duration": 13,
    "start_time": "2024-06-16T03:24:43.629Z"
   },
   {
    "duration": 9,
    "start_time": "2024-06-16T03:24:43.647Z"
   },
   {
    "duration": 6,
    "start_time": "2024-06-16T03:24:43.659Z"
   },
   {
    "duration": 54,
    "start_time": "2024-06-16T03:24:43.669Z"
   },
   {
    "duration": 9,
    "start_time": "2024-06-16T03:26:02.344Z"
   },
   {
    "duration": 5,
    "start_time": "2024-06-16T03:26:51.105Z"
   },
   {
    "duration": 12,
    "start_time": "2024-06-16T03:27:03.566Z"
   },
   {
    "duration": 8,
    "start_time": "2024-06-16T03:27:51.333Z"
   },
   {
    "duration": 5,
    "start_time": "2024-06-16T03:28:28.603Z"
   },
   {
    "duration": 10,
    "start_time": "2024-06-16T03:28:38.626Z"
   },
   {
    "duration": 9,
    "start_time": "2024-06-16T03:29:19.984Z"
   },
   {
    "duration": 5,
    "start_time": "2024-06-16T03:30:26.758Z"
   },
   {
    "duration": 11,
    "start_time": "2024-06-16T03:30:32.683Z"
   },
   {
    "duration": 324,
    "start_time": "2024-06-16T19:45:50.755Z"
   },
   {
    "duration": 446,
    "start_time": "2024-06-16T19:45:57.956Z"
   },
   {
    "duration": 3983,
    "start_time": "2024-06-16T19:45:58.406Z"
   },
   {
    "duration": 611,
    "start_time": "2024-06-16T19:46:02.392Z"
   },
   {
    "duration": 62,
    "start_time": "2024-06-16T19:46:03.008Z"
   },
   {
    "duration": 37,
    "start_time": "2024-06-16T19:46:03.076Z"
   },
   {
    "duration": 5,
    "start_time": "2024-06-16T19:46:03.116Z"
   },
   {
    "duration": 29,
    "start_time": "2024-06-16T19:46:03.124Z"
   },
   {
    "duration": 47,
    "start_time": "2024-06-16T19:46:03.158Z"
   },
   {
    "duration": 7,
    "start_time": "2024-06-16T19:46:03.208Z"
   },
   {
    "duration": 8,
    "start_time": "2024-06-16T19:46:03.218Z"
   },
   {
    "duration": 6,
    "start_time": "2024-06-16T19:46:03.229Z"
   },
   {
    "duration": 6,
    "start_time": "2024-06-16T19:46:03.238Z"
   },
   {
    "duration": 60,
    "start_time": "2024-06-16T19:46:03.247Z"
   },
   {
    "duration": 8,
    "start_time": "2024-06-16T19:46:03.314Z"
   },
   {
    "duration": 7,
    "start_time": "2024-06-16T19:46:03.325Z"
   },
   {
    "duration": 70,
    "start_time": "2024-06-16T19:46:03.335Z"
   },
   {
    "duration": 98,
    "start_time": "2024-06-16T19:46:03.409Z"
   },
   {
    "duration": 28,
    "start_time": "2024-06-16T19:46:03.509Z"
   },
   {
    "duration": 11,
    "start_time": "2024-06-16T19:46:03.541Z"
   },
   {
    "duration": 8,
    "start_time": "2024-06-16T19:46:03.555Z"
   },
   {
    "duration": 21,
    "start_time": "2024-06-16T19:46:03.603Z"
   },
   {
    "duration": 19,
    "start_time": "2024-06-16T19:46:03.627Z"
   },
   {
    "duration": 6,
    "start_time": "2024-06-16T19:46:03.649Z"
   },
   {
    "duration": 46,
    "start_time": "2024-06-16T19:46:03.657Z"
   },
   {
    "duration": 510,
    "start_time": "2024-06-16T19:46:03.707Z"
   },
   {
    "duration": 23,
    "start_time": "2024-06-16T19:46:04.220Z"
   },
   {
    "duration": 8,
    "start_time": "2024-06-16T19:46:04.246Z"
   },
   {
    "duration": 47,
    "start_time": "2024-06-16T19:46:04.257Z"
   },
   {
    "duration": 10,
    "start_time": "2024-06-16T19:46:04.306Z"
   },
   {
    "duration": 5,
    "start_time": "2024-06-16T19:46:04.320Z"
   },
   {
    "duration": 6,
    "start_time": "2024-06-16T19:46:04.328Z"
   },
   {
    "duration": 387,
    "start_time": "2024-06-16T19:46:04.339Z"
   },
   {
    "duration": 7,
    "start_time": "2024-06-16T19:46:04.729Z"
   },
   {
    "duration": 248,
    "start_time": "2024-06-16T19:46:04.740Z"
   },
   {
    "duration": 15,
    "start_time": "2024-06-16T19:46:04.991Z"
   },
   {
    "duration": 529,
    "start_time": "2024-06-16T19:46:05.009Z"
   },
   {
    "duration": 561,
    "start_time": "2024-06-16T19:46:05.541Z"
   },
   {
    "duration": 519,
    "start_time": "2024-06-16T19:46:06.105Z"
   },
   {
    "duration": 8,
    "start_time": "2024-06-16T19:46:06.627Z"
   },
   {
    "duration": 6,
    "start_time": "2024-06-16T19:46:06.638Z"
   },
   {
    "duration": 371,
    "start_time": "2024-06-16T19:46:06.656Z"
   },
   {
    "duration": 8,
    "start_time": "2024-06-16T19:46:07.030Z"
   },
   {
    "duration": 5,
    "start_time": "2024-06-16T19:46:07.041Z"
   },
   {
    "duration": 11,
    "start_time": "2024-06-16T19:46:07.049Z"
   },
   {
    "duration": 43,
    "start_time": "2024-06-16T19:46:07.064Z"
   },
   {
    "duration": 6,
    "start_time": "2024-06-16T19:46:07.111Z"
   },
   {
    "duration": 10,
    "start_time": "2024-06-16T19:46:07.122Z"
   },
   {
    "duration": 8,
    "start_time": "2024-06-16T19:46:07.136Z"
   },
   {
    "duration": 5,
    "start_time": "2024-06-16T19:46:07.149Z"
   },
   {
    "duration": 10,
    "start_time": "2024-06-16T19:46:07.203Z"
   },
   {
    "duration": 8,
    "start_time": "2024-06-16T19:46:07.216Z"
   },
   {
    "duration": 5,
    "start_time": "2024-06-16T19:46:07.227Z"
   },
   {
    "duration": 10,
    "start_time": "2024-06-16T19:46:07.235Z"
   },
   {
    "duration": 53,
    "start_time": "2024-06-16T19:46:07.249Z"
   },
   {
    "duration": 5,
    "start_time": "2024-06-16T19:46:07.304Z"
   },
   {
    "duration": 11,
    "start_time": "2024-06-16T19:46:07.313Z"
   },
   {
    "duration": 8,
    "start_time": "2024-06-16T19:46:07.327Z"
   },
   {
    "duration": 5,
    "start_time": "2024-06-16T19:46:07.338Z"
   },
   {
    "duration": 59,
    "start_time": "2024-06-16T19:46:07.347Z"
   },
   {
    "duration": 8,
    "start_time": "2024-06-16T19:46:07.410Z"
   },
   {
    "duration": 6,
    "start_time": "2024-06-16T19:46:07.421Z"
   },
   {
    "duration": 9,
    "start_time": "2024-06-16T19:46:07.430Z"
   },
   {
    "duration": 10,
    "start_time": "2024-06-16T19:46:07.443Z"
   },
   {
    "duration": 5,
    "start_time": "2024-06-16T19:46:07.503Z"
   },
   {
    "duration": 11,
    "start_time": "2024-06-16T19:46:07.512Z"
   },
   {
    "duration": 9,
    "start_time": "2024-06-16T19:46:07.527Z"
   },
   {
    "duration": 6,
    "start_time": "2024-06-16T19:46:07.539Z"
   },
   {
    "duration": 54,
    "start_time": "2024-06-16T19:46:07.549Z"
   },
   {
    "duration": 429,
    "start_time": "2024-06-16T19:46:07.607Z"
   },
   {
    "duration": 465,
    "start_time": "2024-06-16T19:47:32.781Z"
   },
   {
    "duration": 241,
    "start_time": "2024-06-16T19:47:33.251Z"
   },
   {
    "duration": 584,
    "start_time": "2024-06-16T19:47:33.495Z"
   },
   {
    "duration": 4,
    "start_time": "2024-06-16T19:47:34.082Z"
   },
   {
    "duration": 40,
    "start_time": "2024-06-16T19:47:34.101Z"
   },
   {
    "duration": 37,
    "start_time": "2024-06-16T19:47:34.144Z"
   },
   {
    "duration": 20,
    "start_time": "2024-06-16T19:47:34.183Z"
   },
   {
    "duration": 28,
    "start_time": "2024-06-16T19:47:34.207Z"
   },
   {
    "duration": 20,
    "start_time": "2024-06-16T19:47:34.238Z"
   },
   {
    "duration": 44,
    "start_time": "2024-06-16T19:47:34.261Z"
   },
   {
    "duration": 8,
    "start_time": "2024-06-16T19:47:34.308Z"
   },
   {
    "duration": 6,
    "start_time": "2024-06-16T19:47:34.319Z"
   },
   {
    "duration": 7,
    "start_time": "2024-06-16T19:47:34.328Z"
   },
   {
    "duration": 7,
    "start_time": "2024-06-16T19:47:34.342Z"
   },
   {
    "duration": 52,
    "start_time": "2024-06-16T19:47:34.353Z"
   },
   {
    "duration": 7,
    "start_time": "2024-06-16T19:47:34.408Z"
   },
   {
    "duration": 30,
    "start_time": "2024-06-16T19:47:34.418Z"
   },
   {
    "duration": 127,
    "start_time": "2024-06-16T19:47:34.451Z"
   },
   {
    "duration": 44,
    "start_time": "2024-06-16T19:47:34.581Z"
   },
   {
    "duration": 11,
    "start_time": "2024-06-16T19:47:34.628Z"
   },
   {
    "duration": 8,
    "start_time": "2024-06-16T19:47:34.642Z"
   },
   {
    "duration": 58,
    "start_time": "2024-06-16T19:47:34.653Z"
   },
   {
    "duration": 20,
    "start_time": "2024-06-16T19:47:34.714Z"
   },
   {
    "duration": 6,
    "start_time": "2024-06-16T19:47:34.737Z"
   },
   {
    "duration": 9,
    "start_time": "2024-06-16T19:47:34.746Z"
   },
   {
    "duration": 559,
    "start_time": "2024-06-16T19:47:34.802Z"
   },
   {
    "duration": 42,
    "start_time": "2024-06-16T19:47:35.364Z"
   },
   {
    "duration": 8,
    "start_time": "2024-06-16T19:47:35.410Z"
   },
   {
    "duration": 14,
    "start_time": "2024-06-16T19:47:35.421Z"
   },
   {
    "duration": 11,
    "start_time": "2024-06-16T19:47:35.439Z"
   },
   {
    "duration": 7,
    "start_time": "2024-06-16T19:47:35.453Z"
   },
   {
    "duration": 43,
    "start_time": "2024-06-16T19:47:35.462Z"
   },
   {
    "duration": 370,
    "start_time": "2024-06-16T19:47:35.508Z"
   },
   {
    "duration": 6,
    "start_time": "2024-06-16T19:47:35.881Z"
   },
   {
    "duration": 286,
    "start_time": "2024-06-16T19:47:35.890Z"
   },
   {
    "duration": 7,
    "start_time": "2024-06-16T19:47:36.179Z"
   },
   {
    "duration": 451,
    "start_time": "2024-06-16T19:47:36.202Z"
   },
   {
    "duration": 491,
    "start_time": "2024-06-16T19:47:36.656Z"
   },
   {
    "duration": 494,
    "start_time": "2024-06-16T19:47:37.151Z"
   },
   {
    "duration": 9,
    "start_time": "2024-06-16T19:47:37.649Z"
   },
   {
    "duration": 5,
    "start_time": "2024-06-16T19:47:37.667Z"
   },
   {
    "duration": 325,
    "start_time": "2024-06-16T19:47:37.702Z"
   },
   {
    "duration": 10,
    "start_time": "2024-06-16T19:47:38.030Z"
   },
   {
    "duration": 5,
    "start_time": "2024-06-16T19:47:38.043Z"
   },
   {
    "duration": 11,
    "start_time": "2024-06-16T19:47:38.051Z"
   },
   {
    "duration": 41,
    "start_time": "2024-06-16T19:47:38.065Z"
   },
   {
    "duration": 8,
    "start_time": "2024-06-16T19:47:38.109Z"
   },
   {
    "duration": 11,
    "start_time": "2024-06-16T19:47:38.121Z"
   },
   {
    "duration": 9,
    "start_time": "2024-06-16T19:47:38.134Z"
   },
   {
    "duration": 6,
    "start_time": "2024-06-16T19:47:38.145Z"
   },
   {
    "duration": 62,
    "start_time": "2024-06-16T19:47:38.154Z"
   },
   {
    "duration": 10,
    "start_time": "2024-06-16T19:47:38.220Z"
   },
   {
    "duration": 5,
    "start_time": "2024-06-16T19:47:38.233Z"
   },
   {
    "duration": 10,
    "start_time": "2024-06-16T19:47:38.241Z"
   },
   {
    "duration": 47,
    "start_time": "2024-06-16T19:47:38.255Z"
   },
   {
    "duration": 5,
    "start_time": "2024-06-16T19:47:38.305Z"
   },
   {
    "duration": 11,
    "start_time": "2024-06-16T19:47:38.313Z"
   },
   {
    "duration": 8,
    "start_time": "2024-06-16T19:47:38.327Z"
   },
   {
    "duration": 5,
    "start_time": "2024-06-16T19:47:38.337Z"
   },
   {
    "duration": 11,
    "start_time": "2024-06-16T19:47:38.345Z"
   },
   {
    "duration": 10,
    "start_time": "2024-06-16T19:47:38.403Z"
   },
   {
    "duration": 5,
    "start_time": "2024-06-16T19:47:38.415Z"
   },
   {
    "duration": 11,
    "start_time": "2024-06-16T19:47:38.423Z"
   },
   {
    "duration": 9,
    "start_time": "2024-06-16T19:47:38.436Z"
   },
   {
    "duration": 55,
    "start_time": "2024-06-16T19:47:38.448Z"
   },
   {
    "duration": 12,
    "start_time": "2024-06-16T19:47:38.509Z"
   },
   {
    "duration": 11,
    "start_time": "2024-06-16T19:47:38.524Z"
   },
   {
    "duration": 5,
    "start_time": "2024-06-16T19:47:38.539Z"
   },
   {
    "duration": 55,
    "start_time": "2024-06-16T19:47:38.547Z"
   },
   {
    "duration": 13,
    "start_time": "2024-06-16T19:47:38.606Z"
   },
   {
    "duration": 15,
    "start_time": "2024-06-16T20:51:11.155Z"
   },
   {
    "duration": 470,
    "start_time": "2024-06-16T20:56:09.457Z"
   },
   {
    "duration": 236,
    "start_time": "2024-06-16T20:56:09.933Z"
   },
   {
    "duration": 618,
    "start_time": "2024-06-16T20:56:10.172Z"
   },
   {
    "duration": 4,
    "start_time": "2024-06-16T20:56:10.793Z"
   },
   {
    "duration": 52,
    "start_time": "2024-06-16T20:56:10.803Z"
   },
   {
    "duration": 31,
    "start_time": "2024-06-16T20:56:10.858Z"
   },
   {
    "duration": 5,
    "start_time": "2024-06-16T20:56:10.892Z"
   },
   {
    "duration": 56,
    "start_time": "2024-06-16T20:56:10.901Z"
   },
   {
    "duration": 18,
    "start_time": "2024-06-16T20:56:10.960Z"
   },
   {
    "duration": 6,
    "start_time": "2024-06-16T20:56:10.981Z"
   },
   {
    "duration": 43,
    "start_time": "2024-06-16T20:56:10.990Z"
   },
   {
    "duration": 6,
    "start_time": "2024-06-16T20:56:11.036Z"
   },
   {
    "duration": 6,
    "start_time": "2024-06-16T20:56:11.045Z"
   },
   {
    "duration": 8,
    "start_time": "2024-06-16T20:56:11.057Z"
   },
   {
    "duration": 8,
    "start_time": "2024-06-16T20:56:11.068Z"
   },
   {
    "duration": 53,
    "start_time": "2024-06-16T20:56:11.080Z"
   },
   {
    "duration": 28,
    "start_time": "2024-06-16T20:56:11.137Z"
   },
   {
    "duration": 111,
    "start_time": "2024-06-16T20:56:11.168Z"
   },
   {
    "duration": 31,
    "start_time": "2024-06-16T20:56:11.282Z"
   },
   {
    "duration": 21,
    "start_time": "2024-06-16T20:56:11.334Z"
   },
   {
    "duration": 9,
    "start_time": "2024-06-16T20:56:11.359Z"
   },
   {
    "duration": 22,
    "start_time": "2024-06-16T20:56:11.374Z"
   },
   {
    "duration": 48,
    "start_time": "2024-06-16T20:56:11.400Z"
   },
   {
    "duration": 6,
    "start_time": "2024-06-16T20:56:11.452Z"
   },
   {
    "duration": 11,
    "start_time": "2024-06-16T20:56:11.462Z"
   },
   {
    "duration": 616,
    "start_time": "2024-06-16T20:56:11.476Z"
   },
   {
    "duration": 22,
    "start_time": "2024-06-16T20:56:12.094Z"
   },
   {
    "duration": 9,
    "start_time": "2024-06-16T20:56:12.134Z"
   },
   {
    "duration": 15,
    "start_time": "2024-06-16T20:56:12.146Z"
   },
   {
    "duration": 11,
    "start_time": "2024-06-16T20:56:12.164Z"
   },
   {
    "duration": 9,
    "start_time": "2024-06-16T20:56:12.177Z"
   },
   {
    "duration": 47,
    "start_time": "2024-06-16T20:56:12.189Z"
   },
   {
    "duration": 352,
    "start_time": "2024-06-16T20:56:12.239Z"
   },
   {
    "duration": 8,
    "start_time": "2024-06-16T20:56:12.595Z"
   },
   {
    "duration": 279,
    "start_time": "2024-06-16T20:56:12.606Z"
   },
   {
    "duration": 8,
    "start_time": "2024-06-16T20:56:12.888Z"
   },
   {
    "duration": 445,
    "start_time": "2024-06-16T20:56:12.899Z"
   },
   {
    "duration": 477,
    "start_time": "2024-06-16T20:56:13.348Z"
   },
   {
    "duration": 509,
    "start_time": "2024-06-16T20:56:13.827Z"
   },
   {
    "duration": 8,
    "start_time": "2024-06-16T20:56:14.339Z"
   },
   {
    "duration": 5,
    "start_time": "2024-06-16T20:56:14.358Z"
   },
   {
    "duration": 343,
    "start_time": "2024-06-16T20:56:14.366Z"
   },
   {
    "duration": 20,
    "start_time": "2024-06-16T20:56:14.713Z"
   },
   {
    "duration": 5,
    "start_time": "2024-06-16T20:56:14.735Z"
   },
   {
    "duration": 11,
    "start_time": "2024-06-16T20:56:14.743Z"
   },
   {
    "duration": 8,
    "start_time": "2024-06-16T20:56:14.757Z"
   },
   {
    "duration": 5,
    "start_time": "2024-06-16T20:56:14.768Z"
   },
   {
    "duration": 58,
    "start_time": "2024-06-16T20:56:14.777Z"
   },
   {
    "duration": 10,
    "start_time": "2024-06-16T20:56:14.839Z"
   },
   {
    "duration": 8,
    "start_time": "2024-06-16T20:56:14.852Z"
   },
   {
    "duration": 10,
    "start_time": "2024-06-16T20:56:14.863Z"
   },
   {
    "duration": 9,
    "start_time": "2024-06-16T20:56:14.876Z"
   },
   {
    "duration": 5,
    "start_time": "2024-06-16T20:56:14.933Z"
   },
   {
    "duration": 11,
    "start_time": "2024-06-16T20:56:14.942Z"
   },
   {
    "duration": 8,
    "start_time": "2024-06-16T20:56:14.956Z"
   },
   {
    "duration": 5,
    "start_time": "2024-06-16T20:56:14.967Z"
   },
   {
    "duration": 11,
    "start_time": "2024-06-16T20:56:14.975Z"
   },
   {
    "duration": 8,
    "start_time": "2024-06-16T20:56:15.035Z"
   },
   {
    "duration": 5,
    "start_time": "2024-06-16T20:56:15.046Z"
   },
   {
    "duration": 11,
    "start_time": "2024-06-16T20:56:15.054Z"
   },
   {
    "duration": 8,
    "start_time": "2024-06-16T20:56:15.068Z"
   },
   {
    "duration": 5,
    "start_time": "2024-06-16T20:56:15.078Z"
   },
   {
    "duration": 12,
    "start_time": "2024-06-16T20:56:15.133Z"
   },
   {
    "duration": 8,
    "start_time": "2024-06-16T20:56:15.148Z"
   },
   {
    "duration": 4,
    "start_time": "2024-06-16T20:56:15.159Z"
   },
   {
    "duration": 11,
    "start_time": "2024-06-16T20:56:15.166Z"
   },
   {
    "duration": 52,
    "start_time": "2024-06-16T20:56:15.180Z"
   },
   {
    "duration": 4,
    "start_time": "2024-06-16T20:56:15.235Z"
   },
   {
    "duration": 11,
    "start_time": "2024-06-16T20:56:15.242Z"
   },
   {
    "duration": 11,
    "start_time": "2024-06-16T20:56:15.256Z"
   },
   {
    "duration": 14,
    "start_time": "2024-06-16T20:56:15.271Z"
   },
   {
    "duration": 315,
    "start_time": "2024-06-17T16:50:22.653Z"
   },
   {
    "duration": 478,
    "start_time": "2024-06-17T16:50:30.777Z"
   },
   {
    "duration": 4176,
    "start_time": "2024-06-17T16:50:31.259Z"
   },
   {
    "duration": 624,
    "start_time": "2024-06-17T16:50:35.440Z"
   },
   {
    "duration": 5,
    "start_time": "2024-06-17T16:50:36.069Z"
   },
   {
    "duration": 64,
    "start_time": "2024-06-17T16:50:36.078Z"
   },
   {
    "duration": 37,
    "start_time": "2024-06-17T16:50:36.145Z"
   },
   {
    "duration": 5,
    "start_time": "2024-06-17T16:50:36.185Z"
   },
   {
    "duration": 60,
    "start_time": "2024-06-17T16:50:36.193Z"
   },
   {
    "duration": 21,
    "start_time": "2024-06-17T16:50:36.256Z"
   },
   {
    "duration": 7,
    "start_time": "2024-06-17T16:50:36.284Z"
   },
   {
    "duration": 42,
    "start_time": "2024-06-17T16:50:36.296Z"
   },
   {
    "duration": 5,
    "start_time": "2024-06-17T16:50:36.341Z"
   },
   {
    "duration": 6,
    "start_time": "2024-06-17T16:50:36.349Z"
   },
   {
    "duration": 9,
    "start_time": "2024-06-17T16:50:36.359Z"
   },
   {
    "duration": 8,
    "start_time": "2024-06-17T16:50:36.372Z"
   },
   {
    "duration": 52,
    "start_time": "2024-06-17T16:50:36.385Z"
   },
   {
    "duration": 34,
    "start_time": "2024-06-17T16:50:36.440Z"
   },
   {
    "duration": 130,
    "start_time": "2024-06-17T16:50:36.480Z"
   },
   {
    "duration": 45,
    "start_time": "2024-06-17T16:50:36.613Z"
   },
   {
    "duration": 13,
    "start_time": "2024-06-17T16:50:36.665Z"
   },
   {
    "duration": 21,
    "start_time": "2024-06-17T16:50:36.682Z"
   },
   {
    "duration": 8,
    "start_time": "2024-06-17T16:50:36.734Z"
   },
   {
    "duration": 21,
    "start_time": "2024-06-17T16:50:36.745Z"
   },
   {
    "duration": 22,
    "start_time": "2024-06-17T16:50:36.769Z"
   },
   {
    "duration": 42,
    "start_time": "2024-06-17T16:50:36.793Z"
   },
   {
    "duration": 9,
    "start_time": "2024-06-17T16:50:36.839Z"
   },
   {
    "duration": 656,
    "start_time": "2024-06-17T16:50:36.852Z"
   },
   {
    "duration": 33,
    "start_time": "2024-06-17T16:50:37.520Z"
   },
   {
    "duration": 10,
    "start_time": "2024-06-17T16:50:37.556Z"
   },
   {
    "duration": 19,
    "start_time": "2024-06-17T16:50:37.572Z"
   },
   {
    "duration": 38,
    "start_time": "2024-06-17T16:50:37.595Z"
   },
   {
    "duration": 7,
    "start_time": "2024-06-17T16:50:37.637Z"
   },
   {
    "duration": 6,
    "start_time": "2024-06-17T16:50:37.648Z"
   },
   {
    "duration": 387,
    "start_time": "2024-06-17T16:50:37.659Z"
   },
   {
    "duration": 10,
    "start_time": "2024-06-17T16:50:38.050Z"
   },
   {
    "duration": 356,
    "start_time": "2024-06-17T16:50:38.063Z"
   },
   {
    "duration": 16,
    "start_time": "2024-06-17T16:50:38.422Z"
   },
   {
    "duration": 448,
    "start_time": "2024-06-17T16:50:38.441Z"
   },
   {
    "duration": 516,
    "start_time": "2024-06-17T16:50:38.892Z"
   },
   {
    "duration": 542,
    "start_time": "2024-06-17T16:50:39.413Z"
   },
   {
    "duration": 9,
    "start_time": "2024-06-17T16:50:39.959Z"
   },
   {
    "duration": 6,
    "start_time": "2024-06-17T16:50:39.972Z"
   },
   {
    "duration": 357,
    "start_time": "2024-06-17T16:50:39.982Z"
   },
   {
    "duration": 8,
    "start_time": "2024-06-17T16:50:40.343Z"
   },
   {
    "duration": 5,
    "start_time": "2024-06-17T16:50:40.355Z"
   },
   {
    "duration": 13,
    "start_time": "2024-06-17T16:50:40.364Z"
   },
   {
    "duration": 9,
    "start_time": "2024-06-17T16:50:40.381Z"
   },
   {
    "duration": 5,
    "start_time": "2024-06-17T16:50:40.435Z"
   },
   {
    "duration": 14,
    "start_time": "2024-06-17T16:50:40.443Z"
   },
   {
    "duration": 8,
    "start_time": "2024-06-17T16:50:40.461Z"
   },
   {
    "duration": 5,
    "start_time": "2024-06-17T16:50:40.473Z"
   },
   {
    "duration": 53,
    "start_time": "2024-06-17T16:50:40.482Z"
   },
   {
    "duration": 9,
    "start_time": "2024-06-17T16:50:40.539Z"
   },
   {
    "duration": 5,
    "start_time": "2024-06-17T16:50:40.551Z"
   },
   {
    "duration": 11,
    "start_time": "2024-06-17T16:50:40.560Z"
   },
   {
    "duration": 59,
    "start_time": "2024-06-17T16:50:40.574Z"
   },
   {
    "duration": 6,
    "start_time": "2024-06-17T16:50:40.636Z"
   },
   {
    "duration": 12,
    "start_time": "2024-06-17T16:50:40.646Z"
   },
   {
    "duration": 9,
    "start_time": "2024-06-17T16:50:40.661Z"
   },
   {
    "duration": 6,
    "start_time": "2024-06-17T16:50:40.673Z"
   },
   {
    "duration": 52,
    "start_time": "2024-06-17T16:50:40.683Z"
   },
   {
    "duration": 9,
    "start_time": "2024-06-17T16:50:40.738Z"
   },
   {
    "duration": 6,
    "start_time": "2024-06-17T16:50:40.751Z"
   },
   {
    "duration": 10,
    "start_time": "2024-06-17T16:50:40.760Z"
   },
   {
    "duration": 10,
    "start_time": "2024-06-17T16:50:40.772Z"
   },
   {
    "duration": 49,
    "start_time": "2024-06-17T16:50:40.785Z"
   },
   {
    "duration": 9,
    "start_time": "2024-06-17T16:50:40.838Z"
   },
   {
    "duration": 9,
    "start_time": "2024-06-17T16:50:40.850Z"
   },
   {
    "duration": 4,
    "start_time": "2024-06-17T16:50:40.865Z"
   },
   {
    "duration": 14,
    "start_time": "2024-06-17T16:50:40.872Z"
   },
   {
    "duration": 50,
    "start_time": "2024-06-17T16:50:40.888Z"
   },
   {
    "duration": 18,
    "start_time": "2024-06-17T16:50:40.941Z"
   },
   {
    "duration": 19,
    "start_time": "2024-06-17T16:53:33.057Z"
   },
   {
    "duration": 786,
    "start_time": "2024-06-17T16:56:48.992Z"
   },
   {
    "duration": 531,
    "start_time": "2024-06-17T20:04:41.493Z"
   },
   {
    "duration": 3964,
    "start_time": "2024-06-17T20:04:42.027Z"
   },
   {
    "duration": 634,
    "start_time": "2024-06-17T20:04:45.994Z"
   },
   {
    "duration": 5,
    "start_time": "2024-06-17T20:04:46.632Z"
   },
   {
    "duration": 70,
    "start_time": "2024-06-17T20:04:46.641Z"
   },
   {
    "duration": 46,
    "start_time": "2024-06-17T20:04:46.714Z"
   },
   {
    "duration": 5,
    "start_time": "2024-06-17T20:04:46.764Z"
   },
   {
    "duration": 65,
    "start_time": "2024-06-17T20:04:46.772Z"
   },
   {
    "duration": 26,
    "start_time": "2024-06-17T20:04:46.840Z"
   },
   {
    "duration": 33,
    "start_time": "2024-06-17T20:04:46.872Z"
   },
   {
    "duration": 8,
    "start_time": "2024-06-17T20:04:46.908Z"
   },
   {
    "duration": 5,
    "start_time": "2024-06-17T20:04:46.919Z"
   },
   {
    "duration": 10,
    "start_time": "2024-06-17T20:04:46.928Z"
   },
   {
    "duration": 9,
    "start_time": "2024-06-17T20:04:46.942Z"
   },
   {
    "duration": 48,
    "start_time": "2024-06-17T20:04:46.958Z"
   },
   {
    "duration": 6,
    "start_time": "2024-06-17T20:04:47.010Z"
   },
   {
    "duration": 28,
    "start_time": "2024-06-17T20:04:47.020Z"
   },
   {
    "duration": 122,
    "start_time": "2024-06-17T20:04:47.053Z"
   },
   {
    "duration": 45,
    "start_time": "2024-06-17T20:04:47.177Z"
   },
   {
    "duration": 11,
    "start_time": "2024-06-17T20:04:47.226Z"
   },
   {
    "duration": 18,
    "start_time": "2024-06-17T20:04:47.241Z"
   },
   {
    "duration": 7,
    "start_time": "2024-06-17T20:04:47.262Z"
   },
   {
    "duration": 22,
    "start_time": "2024-06-17T20:04:47.308Z"
   },
   {
    "duration": 19,
    "start_time": "2024-06-17T20:04:47.333Z"
   },
   {
    "duration": 6,
    "start_time": "2024-06-17T20:04:47.354Z"
   },
   {
    "duration": 8,
    "start_time": "2024-06-17T20:04:47.363Z"
   },
   {
    "duration": 511,
    "start_time": "2024-06-17T20:04:47.405Z"
   },
   {
    "duration": 20,
    "start_time": "2024-06-17T20:04:47.930Z"
   },
   {
    "duration": 804,
    "start_time": "2024-06-17T20:04:47.952Z"
   },
   {
    "duration": 21,
    "start_time": "2024-06-17T20:04:48.762Z"
   },
   {
    "duration": 27,
    "start_time": "2024-06-17T20:04:48.786Z"
   },
   {
    "duration": 15,
    "start_time": "2024-06-17T20:04:48.816Z"
   },
   {
    "duration": 12,
    "start_time": "2024-06-17T20:04:48.834Z"
   },
   {
    "duration": 7,
    "start_time": "2024-06-17T20:04:48.849Z"
   },
   {
    "duration": 47,
    "start_time": "2024-06-17T20:04:48.860Z"
   },
   {
    "duration": 401,
    "start_time": "2024-06-17T20:04:48.913Z"
   },
   {
    "duration": 6,
    "start_time": "2024-06-17T20:04:49.318Z"
   },
   {
    "duration": 393,
    "start_time": "2024-06-17T20:04:49.328Z"
   },
   {
    "duration": 6,
    "start_time": "2024-06-17T20:04:49.724Z"
   },
   {
    "duration": 499,
    "start_time": "2024-06-17T20:04:49.733Z"
   },
   {
    "duration": 578,
    "start_time": "2024-06-17T20:04:50.235Z"
   },
   {
    "duration": 612,
    "start_time": "2024-06-17T20:04:50.816Z"
   },
   {
    "duration": 9,
    "start_time": "2024-06-17T20:04:51.431Z"
   },
   {
    "duration": 7,
    "start_time": "2024-06-17T20:04:51.443Z"
   },
   {
    "duration": 389,
    "start_time": "2024-06-17T20:04:51.453Z"
   },
   {
    "duration": 9,
    "start_time": "2024-06-17T20:04:51.845Z"
   },
   {
    "duration": 4,
    "start_time": "2024-06-17T20:04:51.857Z"
   },
   {
    "duration": 40,
    "start_time": "2024-06-17T20:04:51.865Z"
   },
   {
    "duration": 9,
    "start_time": "2024-06-17T20:04:51.909Z"
   },
   {
    "duration": 5,
    "start_time": "2024-06-17T20:04:51.920Z"
   },
   {
    "duration": 11,
    "start_time": "2024-06-17T20:04:51.929Z"
   },
   {
    "duration": 8,
    "start_time": "2024-06-17T20:04:51.943Z"
   },
   {
    "duration": 6,
    "start_time": "2024-06-17T20:04:51.954Z"
   },
   {
    "duration": 10,
    "start_time": "2024-06-17T20:04:52.010Z"
   },
   {
    "duration": 8,
    "start_time": "2024-06-17T20:04:52.024Z"
   },
   {
    "duration": 5,
    "start_time": "2024-06-17T20:04:52.034Z"
   },
   {
    "duration": 10,
    "start_time": "2024-06-17T20:04:52.042Z"
   },
   {
    "duration": 53,
    "start_time": "2024-06-17T20:04:52.055Z"
   },
   {
    "duration": 8,
    "start_time": "2024-06-17T20:04:52.111Z"
   },
   {
    "duration": 13,
    "start_time": "2024-06-17T20:04:52.122Z"
   },
   {
    "duration": 10,
    "start_time": "2024-06-17T20:04:52.138Z"
   },
   {
    "duration": 5,
    "start_time": "2024-06-17T20:04:52.151Z"
   },
   {
    "duration": 56,
    "start_time": "2024-06-17T20:04:52.159Z"
   },
   {
    "duration": 8,
    "start_time": "2024-06-17T20:04:52.218Z"
   },
   {
    "duration": 5,
    "start_time": "2024-06-17T20:04:52.229Z"
   },
   {
    "duration": 10,
    "start_time": "2024-06-17T20:04:52.237Z"
   },
   {
    "duration": 8,
    "start_time": "2024-06-17T20:04:52.250Z"
   },
   {
    "duration": 6,
    "start_time": "2024-06-17T20:04:52.305Z"
   },
   {
    "duration": 11,
    "start_time": "2024-06-17T20:04:52.314Z"
   },
   {
    "duration": 8,
    "start_time": "2024-06-17T20:04:52.328Z"
   },
   {
    "duration": 5,
    "start_time": "2024-06-17T20:04:52.339Z"
   },
   {
    "duration": 11,
    "start_time": "2024-06-17T20:04:52.347Z"
   },
   {
    "duration": 56,
    "start_time": "2024-06-17T20:04:52.360Z"
   },
   {
    "duration": 15,
    "start_time": "2024-06-17T20:04:52.419Z"
   },
   {
    "duration": 12,
    "start_time": "2024-06-17T20:05:11.607Z"
   },
   {
    "duration": 9,
    "start_time": "2024-06-17T20:06:33.749Z"
   },
   {
    "duration": 8,
    "start_time": "2024-06-17T20:06:44.444Z"
   },
   {
    "duration": 7,
    "start_time": "2024-06-17T20:06:50.936Z"
   },
   {
    "duration": 205,
    "start_time": "2024-06-17T20:07:42.998Z"
   },
   {
    "duration": 10,
    "start_time": "2024-06-17T20:07:47.342Z"
   },
   {
    "duration": 6,
    "start_time": "2024-06-17T20:09:46.889Z"
   },
   {
    "duration": 33,
    "start_time": "2024-06-17T20:10:20.154Z"
   },
   {
    "duration": 19,
    "start_time": "2024-06-17T20:10:30.308Z"
   },
   {
    "duration": 13,
    "start_time": "2024-06-17T20:10:33.009Z"
   },
   {
    "duration": 23,
    "start_time": "2024-06-17T20:10:36.946Z"
   },
   {
    "duration": 9,
    "start_time": "2024-06-17T20:10:57.547Z"
   },
   {
    "duration": 11,
    "start_time": "2024-06-17T20:11:26.870Z"
   },
   {
    "duration": 12,
    "start_time": "2024-06-17T20:11:53.120Z"
   },
   {
    "duration": 320,
    "start_time": "2024-06-17T20:20:50.249Z"
   },
   {
    "duration": 466,
    "start_time": "2024-06-17T20:21:04.739Z"
   },
   {
    "duration": 313,
    "start_time": "2024-06-17T20:21:05.211Z"
   },
   {
    "duration": 642,
    "start_time": "2024-06-17T20:21:05.528Z"
   },
   {
    "duration": 3,
    "start_time": "2024-06-17T20:21:06.174Z"
   },
   {
    "duration": 51,
    "start_time": "2024-06-17T20:21:06.311Z"
   },
   {
    "duration": 31,
    "start_time": "2024-06-17T20:21:06.651Z"
   },
   {
    "duration": 5,
    "start_time": "2024-06-17T20:21:07.013Z"
   },
   {
    "duration": 31,
    "start_time": "2024-06-17T20:21:09.061Z"
   },
   {
    "duration": 18,
    "start_time": "2024-06-17T20:21:09.349Z"
   },
   {
    "duration": 7,
    "start_time": "2024-06-17T20:21:11.263Z"
   },
   {
    "duration": 8,
    "start_time": "2024-06-17T20:21:12.515Z"
   },
   {
    "duration": 4,
    "start_time": "2024-06-17T20:21:13.678Z"
   },
   {
    "duration": 6,
    "start_time": "2024-06-17T20:21:15.653Z"
   },
   {
    "duration": 8,
    "start_time": "2024-06-17T20:21:18.985Z"
   },
   {
    "duration": 8,
    "start_time": "2024-06-17T20:21:19.374Z"
   },
   {
    "duration": 7,
    "start_time": "2024-06-17T20:21:19.756Z"
   },
   {
    "duration": 10,
    "start_time": "2024-06-17T20:21:20.576Z"
   },
   {
    "duration": 33,
    "start_time": "2024-06-17T20:21:23.459Z"
   },
   {
    "duration": 83,
    "start_time": "2024-06-17T20:21:23.749Z"
   },
   {
    "duration": 27,
    "start_time": "2024-06-17T20:21:25.150Z"
   },
   {
    "duration": 12,
    "start_time": "2024-06-17T20:21:25.482Z"
   },
   {
    "duration": 19,
    "start_time": "2024-06-17T20:21:26.007Z"
   },
   {
    "duration": 13,
    "start_time": "2024-06-17T20:21:29.040Z"
   },
   {
    "duration": 20,
    "start_time": "2024-06-17T20:21:31.540Z"
   },
   {
    "duration": 19,
    "start_time": "2024-06-17T20:21:31.800Z"
   },
   {
    "duration": 5,
    "start_time": "2024-06-17T20:21:32.381Z"
   },
   {
    "duration": 8,
    "start_time": "2024-06-17T20:21:36.936Z"
   },
   {
    "duration": 21,
    "start_time": "2024-06-17T20:21:47.220Z"
   },
   {
    "duration": 593,
    "start_time": "2024-06-17T20:22:09.898Z"
   },
   {
    "duration": 68,
    "start_time": "2024-06-17T20:22:19.618Z"
   },
   {
    "duration": 760,
    "start_time": "2024-06-17T20:22:36.963Z"
   },
   {
    "duration": 844,
    "start_time": "2024-06-17T20:22:54.190Z"
   },
   {
    "duration": 319,
    "start_time": "2024-06-17T20:24:23.269Z"
   },
   {
    "duration": 548,
    "start_time": "2024-06-17T20:24:30.908Z"
   },
   {
    "duration": 250,
    "start_time": "2024-06-17T20:24:31.459Z"
   },
   {
    "duration": 629,
    "start_time": "2024-06-17T20:24:31.713Z"
   },
   {
    "duration": 4,
    "start_time": "2024-06-17T20:24:32.346Z"
   },
   {
    "duration": 65,
    "start_time": "2024-06-17T20:24:32.356Z"
   },
   {
    "duration": 32,
    "start_time": "2024-06-17T20:24:32.424Z"
   },
   {
    "duration": 5,
    "start_time": "2024-06-17T20:24:32.458Z"
   },
   {
    "duration": 54,
    "start_time": "2024-06-17T20:24:32.466Z"
   },
   {
    "duration": 19,
    "start_time": "2024-06-17T20:24:32.523Z"
   },
   {
    "duration": 7,
    "start_time": "2024-06-17T20:24:32.545Z"
   },
   {
    "duration": 10,
    "start_time": "2024-06-17T20:24:32.555Z"
   },
   {
    "duration": 40,
    "start_time": "2024-06-17T20:24:32.568Z"
   },
   {
    "duration": 6,
    "start_time": "2024-06-17T20:24:32.611Z"
   },
   {
    "duration": 7,
    "start_time": "2024-06-17T20:24:32.625Z"
   },
   {
    "duration": 8,
    "start_time": "2024-06-17T20:24:32.634Z"
   },
   {
    "duration": 6,
    "start_time": "2024-06-17T20:24:32.645Z"
   },
   {
    "duration": 57,
    "start_time": "2024-06-17T20:24:32.655Z"
   },
   {
    "duration": 29,
    "start_time": "2024-06-17T20:24:32.716Z"
   },
   {
    "duration": 116,
    "start_time": "2024-06-17T20:24:32.748Z"
   },
   {
    "duration": 41,
    "start_time": "2024-06-17T20:24:32.868Z"
   },
   {
    "duration": 12,
    "start_time": "2024-06-17T20:24:32.912Z"
   },
   {
    "duration": 19,
    "start_time": "2024-06-17T20:24:32.926Z"
   },
   {
    "duration": 8,
    "start_time": "2024-06-17T20:24:32.948Z"
   },
   {
    "duration": 63,
    "start_time": "2024-06-17T20:24:32.959Z"
   },
   {
    "duration": 18,
    "start_time": "2024-06-17T20:24:33.026Z"
   },
   {
    "duration": 6,
    "start_time": "2024-06-17T20:24:33.046Z"
   },
   {
    "duration": 8,
    "start_time": "2024-06-17T20:24:33.056Z"
   },
   {
    "duration": 562,
    "start_time": "2024-06-17T20:24:33.106Z"
   },
   {
    "duration": 19,
    "start_time": "2024-06-17T20:24:33.670Z"
   },
   {
    "duration": 754,
    "start_time": "2024-06-17T20:24:33.707Z"
   },
   {
    "duration": 44,
    "start_time": "2024-06-17T20:24:34.464Z"
   },
   {
    "duration": 10,
    "start_time": "2024-06-17T20:24:34.514Z"
   },
   {
    "duration": 18,
    "start_time": "2024-06-17T20:24:34.529Z"
   },
   {
    "duration": 12,
    "start_time": "2024-06-17T20:24:34.551Z"
   },
   {
    "duration": 7,
    "start_time": "2024-06-17T20:24:34.566Z"
   },
   {
    "duration": 6,
    "start_time": "2024-06-17T20:24:34.608Z"
   },
   {
    "duration": 479,
    "start_time": "2024-06-17T20:24:34.616Z"
   },
   {
    "duration": 6,
    "start_time": "2024-06-17T20:24:35.098Z"
   },
   {
    "duration": 311,
    "start_time": "2024-06-17T20:24:35.107Z"
   },
   {
    "duration": 7,
    "start_time": "2024-06-17T20:24:35.421Z"
   },
   {
    "duration": 481,
    "start_time": "2024-06-17T20:24:35.439Z"
   },
   {
    "duration": 569,
    "start_time": "2024-06-17T20:24:35.923Z"
   },
   {
    "duration": 607,
    "start_time": "2024-06-17T20:24:36.506Z"
   },
   {
    "duration": 7,
    "start_time": "2024-06-17T20:24:37.116Z"
   },
   {
    "duration": 5,
    "start_time": "2024-06-17T20:24:37.126Z"
   },
   {
    "duration": 395,
    "start_time": "2024-06-17T20:24:37.134Z"
   },
   {
    "duration": 8,
    "start_time": "2024-06-17T20:24:37.533Z"
   },
   {
    "duration": 5,
    "start_time": "2024-06-17T20:24:37.544Z"
   },
   {
    "duration": 11,
    "start_time": "2024-06-17T20:24:37.552Z"
   },
   {
    "duration": 42,
    "start_time": "2024-06-17T20:24:37.567Z"
   },
   {
    "duration": 4,
    "start_time": "2024-06-17T20:24:37.612Z"
   },
   {
    "duration": 10,
    "start_time": "2024-06-17T20:24:37.619Z"
   },
   {
    "duration": 8,
    "start_time": "2024-06-17T20:24:37.632Z"
   },
   {
    "duration": 5,
    "start_time": "2024-06-17T20:24:37.643Z"
   },
   {
    "duration": 55,
    "start_time": "2024-06-17T20:24:37.651Z"
   },
   {
    "duration": 9,
    "start_time": "2024-06-17T20:24:37.709Z"
   },
   {
    "duration": 5,
    "start_time": "2024-06-17T20:24:37.720Z"
   },
   {
    "duration": 10,
    "start_time": "2024-06-17T20:24:37.728Z"
   },
   {
    "duration": 9,
    "start_time": "2024-06-17T20:24:37.740Z"
   },
   {
    "duration": 5,
    "start_time": "2024-06-17T20:24:37.752Z"
   },
   {
    "duration": 117,
    "start_time": "2024-06-17T20:24:37.808Z"
   },
   {
    "duration": 9,
    "start_time": "2024-06-17T20:24:37.929Z"
   },
   {
    "duration": 10,
    "start_time": "2024-06-17T20:24:37.941Z"
   },
   {
    "duration": 10,
    "start_time": "2024-06-17T20:24:37.954Z"
   },
   {
    "duration": 40,
    "start_time": "2024-06-17T20:24:37.967Z"
   },
   {
    "duration": 10,
    "start_time": "2024-06-17T20:24:38.010Z"
   },
   {
    "duration": 10,
    "start_time": "2024-06-17T20:24:38.024Z"
   },
   {
    "duration": 7,
    "start_time": "2024-06-17T20:24:38.039Z"
   },
   {
    "duration": 5,
    "start_time": "2024-06-17T20:24:38.049Z"
   },
   {
    "duration": 51,
    "start_time": "2024-06-17T20:24:38.057Z"
   },
   {
    "duration": 11,
    "start_time": "2024-06-17T20:24:38.111Z"
   },
   {
    "duration": 7,
    "start_time": "2024-06-17T20:24:38.126Z"
   },
   {
    "duration": 11,
    "start_time": "2024-06-17T20:24:38.136Z"
   },
   {
    "duration": 452,
    "start_time": "2024-06-17T20:24:38.150Z"
   },
   {
    "duration": 0,
    "start_time": "2024-06-17T20:24:38.606Z"
   },
   {
    "duration": 0,
    "start_time": "2024-06-17T20:24:38.609Z"
   },
   {
    "duration": 13,
    "start_time": "2024-06-17T20:25:30.685Z"
   },
   {
    "duration": 15,
    "start_time": "2024-06-17T20:25:33.260Z"
   },
   {
    "duration": 771,
    "start_time": "2024-06-17T20:49:38.047Z"
   },
   {
    "duration": 751,
    "start_time": "2024-06-17T20:49:47.994Z"
   },
   {
    "duration": 763,
    "start_time": "2024-06-17T20:49:58.697Z"
   },
   {
    "duration": 753,
    "start_time": "2024-06-17T20:50:08.900Z"
   },
   {
    "duration": 311,
    "start_time": "2024-06-17T23:28:52.895Z"
   },
   {
    "duration": 475,
    "start_time": "2024-06-17T23:29:07.313Z"
   },
   {
    "duration": 3928,
    "start_time": "2024-06-17T23:29:07.792Z"
   },
   {
    "duration": 602,
    "start_time": "2024-06-17T23:29:11.725Z"
   },
   {
    "duration": 4,
    "start_time": "2024-06-17T23:29:12.331Z"
   },
   {
    "duration": 53,
    "start_time": "2024-06-17T23:29:12.338Z"
   },
   {
    "duration": 41,
    "start_time": "2024-06-17T23:29:12.394Z"
   },
   {
    "duration": 6,
    "start_time": "2024-06-17T23:29:12.438Z"
   },
   {
    "duration": 58,
    "start_time": "2024-06-17T23:29:12.450Z"
   },
   {
    "duration": 23,
    "start_time": "2024-06-17T23:29:12.512Z"
   },
   {
    "duration": 8,
    "start_time": "2024-06-17T23:29:12.543Z"
   },
   {
    "duration": 10,
    "start_time": "2024-06-17T23:29:12.554Z"
   },
   {
    "duration": 6,
    "start_time": "2024-06-17T23:29:12.606Z"
   },
   {
    "duration": 10,
    "start_time": "2024-06-17T23:29:12.614Z"
   },
   {
    "duration": 13,
    "start_time": "2024-06-17T23:29:12.627Z"
   },
   {
    "duration": 12,
    "start_time": "2024-06-17T23:29:12.644Z"
   },
   {
    "duration": 9,
    "start_time": "2024-06-17T23:29:12.659Z"
   },
   {
    "duration": 11,
    "start_time": "2024-06-17T23:29:12.707Z"
   },
   {
    "duration": 32,
    "start_time": "2024-06-17T23:29:12.722Z"
   },
   {
    "duration": 137,
    "start_time": "2024-06-17T23:29:12.757Z"
   },
   {
    "duration": 36,
    "start_time": "2024-06-17T23:29:12.898Z"
   },
   {
    "duration": 13,
    "start_time": "2024-06-17T23:29:12.937Z"
   },
   {
    "duration": 57,
    "start_time": "2024-06-17T23:29:12.953Z"
   },
   {
    "duration": 9,
    "start_time": "2024-06-17T23:29:13.013Z"
   },
   {
    "duration": 22,
    "start_time": "2024-06-17T23:29:13.025Z"
   },
   {
    "duration": 56,
    "start_time": "2024-06-17T23:29:13.050Z"
   },
   {
    "duration": 9,
    "start_time": "2024-06-17T23:29:13.109Z"
   },
   {
    "duration": 11,
    "start_time": "2024-06-17T23:29:13.121Z"
   },
   {
    "duration": 567,
    "start_time": "2024-06-17T23:29:13.147Z"
   },
   {
    "duration": 22,
    "start_time": "2024-06-17T23:29:13.717Z"
   },
   {
    "duration": 787,
    "start_time": "2024-06-17T23:29:13.742Z"
   },
   {
    "duration": 22,
    "start_time": "2024-06-17T23:29:14.532Z"
   },
   {
    "duration": 9,
    "start_time": "2024-06-17T23:29:14.557Z"
   },
   {
    "duration": 43,
    "start_time": "2024-06-17T23:29:14.568Z"
   },
   {
    "duration": 10,
    "start_time": "2024-06-17T23:29:14.615Z"
   },
   {
    "duration": 6,
    "start_time": "2024-06-17T23:29:14.628Z"
   },
   {
    "duration": 6,
    "start_time": "2024-06-17T23:29:14.637Z"
   },
   {
    "duration": 508,
    "start_time": "2024-06-17T23:29:14.647Z"
   },
   {
    "duration": 7,
    "start_time": "2024-06-17T23:29:15.158Z"
   },
   {
    "duration": 313,
    "start_time": "2024-06-17T23:29:15.168Z"
   },
   {
    "duration": 22,
    "start_time": "2024-06-17T23:29:15.484Z"
   },
   {
    "duration": 476,
    "start_time": "2024-06-17T23:29:15.510Z"
   },
   {
    "duration": 568,
    "start_time": "2024-06-17T23:29:15.990Z"
   },
   {
    "duration": 727,
    "start_time": "2024-06-17T23:29:16.562Z"
   },
   {
    "duration": 18,
    "start_time": "2024-06-17T23:29:17.293Z"
   },
   {
    "duration": 7,
    "start_time": "2024-06-17T23:29:17.314Z"
   },
   {
    "duration": 423,
    "start_time": "2024-06-17T23:29:17.325Z"
   },
   {
    "duration": 513,
    "start_time": "2024-06-17T23:29:17.751Z"
   },
   {
    "duration": 9,
    "start_time": "2024-06-17T23:29:18.267Z"
   },
   {
    "duration": 7,
    "start_time": "2024-06-17T23:29:18.279Z"
   },
   {
    "duration": 12,
    "start_time": "2024-06-17T23:29:18.306Z"
   },
   {
    "duration": 8,
    "start_time": "2024-06-17T23:29:18.321Z"
   },
   {
    "duration": 5,
    "start_time": "2024-06-17T23:29:18.332Z"
   },
   {
    "duration": 11,
    "start_time": "2024-06-17T23:29:18.340Z"
   },
   {
    "duration": 52,
    "start_time": "2024-06-17T23:29:18.354Z"
   },
   {
    "duration": 5,
    "start_time": "2024-06-17T23:29:18.409Z"
   },
   {
    "duration": 11,
    "start_time": "2024-06-17T23:29:18.418Z"
   },
   {
    "duration": 8,
    "start_time": "2024-06-17T23:29:18.431Z"
   },
   {
    "duration": 5,
    "start_time": "2024-06-17T23:29:18.442Z"
   },
   {
    "duration": 10,
    "start_time": "2024-06-17T23:29:18.450Z"
   },
   {
    "duration": 105,
    "start_time": "2024-06-17T23:29:18.508Z"
   },
   {
    "duration": 6,
    "start_time": "2024-06-17T23:29:18.616Z"
   },
   {
    "duration": 11,
    "start_time": "2024-06-17T23:29:18.625Z"
   },
   {
    "duration": 9,
    "start_time": "2024-06-17T23:29:18.639Z"
   },
   {
    "duration": 4,
    "start_time": "2024-06-17T23:29:18.653Z"
   },
   {
    "duration": 49,
    "start_time": "2024-06-17T23:29:18.660Z"
   },
   {
    "duration": 9,
    "start_time": "2024-06-17T23:29:18.712Z"
   },
   {
    "duration": 5,
    "start_time": "2024-06-17T23:29:18.723Z"
   },
   {
    "duration": 12,
    "start_time": "2024-06-17T23:29:18.731Z"
   },
   {
    "duration": 8,
    "start_time": "2024-06-17T23:29:18.746Z"
   },
   {
    "duration": 8,
    "start_time": "2024-06-17T23:29:18.806Z"
   },
   {
    "duration": 11,
    "start_time": "2024-06-17T23:29:18.817Z"
   },
   {
    "duration": 9,
    "start_time": "2024-06-17T23:29:18.831Z"
   },
   {
    "duration": 5,
    "start_time": "2024-06-17T23:29:18.843Z"
   },
   {
    "duration": 12,
    "start_time": "2024-06-17T23:29:18.851Z"
   },
   {
    "duration": 14,
    "start_time": "2024-06-17T23:29:18.907Z"
   },
   {
    "duration": 16,
    "start_time": "2024-06-17T23:29:18.924Z"
   },
   {
    "duration": 550,
    "start_time": "2024-06-17T23:30:24.649Z"
   },
   {
    "duration": 493,
    "start_time": "2024-06-17T23:31:10.261Z"
   },
   {
    "duration": 449,
    "start_time": "2024-06-17T23:31:19.737Z"
   },
   {
    "duration": 465,
    "start_time": "2024-06-17T23:33:20.368Z"
   },
   {
    "duration": 489,
    "start_time": "2024-06-18T01:49:06.761Z"
   },
   {
    "duration": 3996,
    "start_time": "2024-06-18T01:49:07.254Z"
   },
   {
    "duration": 640,
    "start_time": "2024-06-18T01:49:11.257Z"
   },
   {
    "duration": 4,
    "start_time": "2024-06-18T01:49:11.902Z"
   },
   {
    "duration": 56,
    "start_time": "2024-06-18T01:49:11.909Z"
   },
   {
    "duration": 40,
    "start_time": "2024-06-18T01:49:11.969Z"
   },
   {
    "duration": 5,
    "start_time": "2024-06-18T01:49:12.012Z"
   },
   {
    "duration": 35,
    "start_time": "2024-06-18T01:49:12.020Z"
   },
   {
    "duration": 50,
    "start_time": "2024-06-18T01:49:12.059Z"
   },
   {
    "duration": 9,
    "start_time": "2024-06-18T01:49:12.117Z"
   },
   {
    "duration": 16,
    "start_time": "2024-06-18T01:49:12.132Z"
   },
   {
    "duration": 42,
    "start_time": "2024-06-18T01:49:12.151Z"
   },
   {
    "duration": 8,
    "start_time": "2024-06-18T01:49:12.197Z"
   },
   {
    "duration": 12,
    "start_time": "2024-06-18T01:49:12.207Z"
   },
   {
    "duration": 11,
    "start_time": "2024-06-18T01:49:12.226Z"
   },
   {
    "duration": 54,
    "start_time": "2024-06-18T01:49:12.241Z"
   },
   {
    "duration": 14,
    "start_time": "2024-06-18T01:49:12.301Z"
   },
   {
    "duration": 46,
    "start_time": "2024-06-18T01:49:12.320Z"
   },
   {
    "duration": 128,
    "start_time": "2024-06-18T01:49:12.394Z"
   },
   {
    "duration": 29,
    "start_time": "2024-06-18T01:49:12.527Z"
   },
   {
    "duration": 36,
    "start_time": "2024-06-18T01:49:12.560Z"
   },
   {
    "duration": 29,
    "start_time": "2024-06-18T01:49:12.599Z"
   },
   {
    "duration": 8,
    "start_time": "2024-06-18T01:49:12.631Z"
   },
   {
    "duration": 63,
    "start_time": "2024-06-18T01:49:12.643Z"
   },
   {
    "duration": 20,
    "start_time": "2024-06-18T01:49:12.710Z"
   },
   {
    "duration": 6,
    "start_time": "2024-06-18T01:49:12.732Z"
   },
   {
    "duration": 11,
    "start_time": "2024-06-18T01:49:12.742Z"
   },
   {
    "duration": 525,
    "start_time": "2024-06-18T01:49:12.797Z"
   },
   {
    "duration": 20,
    "start_time": "2024-06-18T01:49:13.326Z"
   },
   {
    "duration": 797,
    "start_time": "2024-06-18T01:49:13.350Z"
   },
   {
    "duration": 51,
    "start_time": "2024-06-18T01:49:14.153Z"
   },
   {
    "duration": 8,
    "start_time": "2024-06-18T01:49:14.207Z"
   },
   {
    "duration": 31,
    "start_time": "2024-06-18T01:49:14.219Z"
   },
   {
    "duration": 44,
    "start_time": "2024-06-18T01:49:14.254Z"
   },
   {
    "duration": 7,
    "start_time": "2024-06-18T01:49:14.302Z"
   },
   {
    "duration": 7,
    "start_time": "2024-06-18T01:49:14.313Z"
   },
   {
    "duration": 473,
    "start_time": "2024-06-18T01:49:14.325Z"
   },
   {
    "duration": 15,
    "start_time": "2024-06-18T01:49:14.802Z"
   },
   {
    "duration": 342,
    "start_time": "2024-06-18T01:49:14.821Z"
   },
   {
    "duration": 25,
    "start_time": "2024-06-18T01:49:15.166Z"
   },
   {
    "duration": 627,
    "start_time": "2024-06-18T01:49:15.195Z"
   },
   {
    "duration": 601,
    "start_time": "2024-06-18T01:49:15.827Z"
   },
   {
    "duration": 660,
    "start_time": "2024-06-18T01:49:16.431Z"
   },
   {
    "duration": 9,
    "start_time": "2024-06-18T01:49:17.094Z"
   },
   {
    "duration": 6,
    "start_time": "2024-06-18T01:49:17.107Z"
   },
   {
    "duration": 432,
    "start_time": "2024-06-18T01:49:17.117Z"
   },
   {
    "duration": 494,
    "start_time": "2024-06-18T01:49:17.553Z"
   },
   {
    "duration": 9,
    "start_time": "2024-06-18T01:49:18.050Z"
   },
   {
    "duration": 8,
    "start_time": "2024-06-18T01:49:18.062Z"
   },
   {
    "duration": 29,
    "start_time": "2024-06-18T01:49:18.073Z"
   },
   {
    "duration": 10,
    "start_time": "2024-06-18T01:49:18.106Z"
   },
   {
    "duration": 9,
    "start_time": "2024-06-18T01:49:18.119Z"
   },
   {
    "duration": 11,
    "start_time": "2024-06-18T01:49:18.132Z"
   },
   {
    "duration": 49,
    "start_time": "2024-06-18T01:49:18.147Z"
   },
   {
    "duration": 6,
    "start_time": "2024-06-18T01:49:18.200Z"
   },
   {
    "duration": 15,
    "start_time": "2024-06-18T01:49:18.209Z"
   },
   {
    "duration": 10,
    "start_time": "2024-06-18T01:49:18.227Z"
   },
   {
    "duration": 51,
    "start_time": "2024-06-18T01:49:18.240Z"
   },
   {
    "duration": 12,
    "start_time": "2024-06-18T01:49:18.298Z"
   },
   {
    "duration": 9,
    "start_time": "2024-06-18T01:49:18.313Z"
   },
   {
    "duration": 6,
    "start_time": "2024-06-18T01:49:18.325Z"
   },
   {
    "duration": 56,
    "start_time": "2024-06-18T01:49:18.334Z"
   },
   {
    "duration": 8,
    "start_time": "2024-06-18T01:49:18.393Z"
   },
   {
    "duration": 7,
    "start_time": "2024-06-18T01:49:18.404Z"
   },
   {
    "duration": 12,
    "start_time": "2024-06-18T01:49:18.414Z"
   },
   {
    "duration": 9,
    "start_time": "2024-06-18T01:49:18.429Z"
   },
   {
    "duration": 49,
    "start_time": "2024-06-18T01:49:18.441Z"
   },
   {
    "duration": 11,
    "start_time": "2024-06-18T01:49:18.497Z"
   },
   {
    "duration": 8,
    "start_time": "2024-06-18T01:49:18.514Z"
   },
   {
    "duration": 10,
    "start_time": "2024-06-18T01:49:18.525Z"
   },
   {
    "duration": 13,
    "start_time": "2024-06-18T01:49:18.539Z"
   },
   {
    "duration": 41,
    "start_time": "2024-06-18T01:49:18.555Z"
   },
   {
    "duration": 8,
    "start_time": "2024-06-18T01:49:18.599Z"
   },
   {
    "duration": 14,
    "start_time": "2024-06-18T01:49:18.611Z"
   },
   {
    "duration": 13,
    "start_time": "2024-06-18T01:49:18.629Z"
   },
   {
    "duration": 22,
    "start_time": "2024-06-18T01:49:18.690Z"
   },
   {
    "duration": 545,
    "start_time": "2024-06-18T01:50:29.947Z"
   },
   {
    "duration": 879,
    "start_time": "2024-06-18T01:51:19.016Z"
   },
   {
    "duration": 337,
    "start_time": "2024-06-18T01:51:32.202Z"
   },
   {
    "duration": 255,
    "start_time": "2024-06-18T01:52:08.954Z"
   },
   {
    "duration": 649,
    "start_time": "2024-06-18T01:52:39.434Z"
   },
   {
    "duration": 303,
    "start_time": "2024-06-18T01:53:10.601Z"
   },
   {
    "duration": 246,
    "start_time": "2024-06-18T01:53:34.122Z"
   },
   {
    "duration": 642,
    "start_time": "2024-06-18T01:54:02.394Z"
   },
   {
    "duration": 357,
    "start_time": "2024-06-18T01:54:58.112Z"
   },
   {
    "duration": 330,
    "start_time": "2024-06-18T01:55:05.980Z"
   },
   {
    "duration": 348,
    "start_time": "2024-06-18T01:55:12.690Z"
   },
   {
    "duration": 307,
    "start_time": "2024-06-18T01:55:21.160Z"
   },
   {
    "duration": 105,
    "start_time": "2024-06-18T01:55:47.371Z"
   },
   {
    "duration": 31,
    "start_time": "2024-06-18T01:56:12.755Z"
   },
   {
    "duration": 8,
    "start_time": "2024-06-18T01:56:14.523Z"
   },
   {
    "duration": 325,
    "start_time": "2024-06-18T01:56:25.498Z"
   },
   {
    "duration": 261,
    "start_time": "2024-06-18T01:57:00.565Z"
   },
   {
    "duration": 1253,
    "start_time": "2024-06-18T01:58:02.497Z"
   },
   {
    "duration": 274,
    "start_time": "2024-06-18T01:58:09.578Z"
   },
   {
    "duration": 10,
    "start_time": "2024-06-18T01:58:28.342Z"
   },
   {
    "duration": 5,
    "start_time": "2024-06-18T01:58:28.635Z"
   },
   {
    "duration": 11,
    "start_time": "2024-06-18T01:58:28.932Z"
   },
   {
    "duration": 330,
    "start_time": "2024-06-18T01:58:29.565Z"
   },
   {
    "duration": 10,
    "start_time": "2024-06-18T01:58:34.550Z"
   },
   {
    "duration": 8,
    "start_time": "2024-06-18T01:58:34.923Z"
   },
   {
    "duration": 13,
    "start_time": "2024-06-18T01:58:35.368Z"
   },
   {
    "duration": 253,
    "start_time": "2024-06-18T01:58:36.049Z"
   },
   {
    "duration": 8,
    "start_time": "2024-06-18T02:04:17.356Z"
   },
   {
    "duration": 471,
    "start_time": "2024-06-18T02:04:18.943Z"
   },
   {
    "duration": 500,
    "start_time": "2024-06-18T02:04:26.529Z"
   },
   {
    "duration": 259,
    "start_time": "2024-06-18T02:04:27.034Z"
   },
   {
    "duration": 646,
    "start_time": "2024-06-18T02:04:27.297Z"
   },
   {
    "duration": 5,
    "start_time": "2024-06-18T02:04:27.946Z"
   },
   {
    "duration": 61,
    "start_time": "2024-06-18T02:04:27.956Z"
   },
   {
    "duration": 34,
    "start_time": "2024-06-18T02:04:28.020Z"
   },
   {
    "duration": 31,
    "start_time": "2024-06-18T02:04:28.058Z"
   },
   {
    "duration": 37,
    "start_time": "2024-06-18T02:04:28.093Z"
   },
   {
    "duration": 23,
    "start_time": "2024-06-18T02:04:28.133Z"
   },
   {
    "duration": 35,
    "start_time": "2024-06-18T02:04:28.159Z"
   },
   {
    "duration": 10,
    "start_time": "2024-06-18T02:04:28.197Z"
   },
   {
    "duration": 5,
    "start_time": "2024-06-18T02:04:28.211Z"
   },
   {
    "duration": 7,
    "start_time": "2024-06-18T02:04:28.222Z"
   },
   {
    "duration": 8,
    "start_time": "2024-06-18T02:04:28.237Z"
   },
   {
    "duration": 46,
    "start_time": "2024-06-18T02:04:28.248Z"
   },
   {
    "duration": 7,
    "start_time": "2024-06-18T02:04:28.298Z"
   },
   {
    "duration": 11,
    "start_time": "2024-06-18T02:04:28.309Z"
   },
   {
    "duration": 69,
    "start_time": "2024-06-18T02:04:28.323Z"
   },
   {
    "duration": 107,
    "start_time": "2024-06-18T02:04:28.395Z"
   },
   {
    "duration": 30,
    "start_time": "2024-06-18T02:04:28.505Z"
   },
   {
    "duration": 14,
    "start_time": "2024-06-18T02:04:28.538Z"
   },
   {
    "duration": 51,
    "start_time": "2024-06-18T02:04:28.555Z"
   },
   {
    "duration": 8,
    "start_time": "2024-06-18T02:04:28.610Z"
   },
   {
    "duration": 25,
    "start_time": "2024-06-18T02:04:28.621Z"
   },
   {
    "duration": 50,
    "start_time": "2024-06-18T02:04:28.649Z"
   },
   {
    "duration": 7,
    "start_time": "2024-06-18T02:04:28.702Z"
   },
   {
    "duration": 10,
    "start_time": "2024-06-18T02:04:28.711Z"
   },
   {
    "duration": 595,
    "start_time": "2024-06-18T02:04:28.724Z"
   },
   {
    "duration": 20,
    "start_time": "2024-06-18T02:04:29.323Z"
   },
   {
    "duration": 777,
    "start_time": "2024-06-18T02:04:29.346Z"
   },
   {
    "duration": 30,
    "start_time": "2024-06-18T02:04:30.126Z"
   },
   {
    "duration": 31,
    "start_time": "2024-06-18T02:04:30.160Z"
   },
   {
    "duration": 16,
    "start_time": "2024-06-18T02:04:30.195Z"
   },
   {
    "duration": 10,
    "start_time": "2024-06-18T02:04:30.217Z"
   },
   {
    "duration": 7,
    "start_time": "2024-06-18T02:04:30.230Z"
   },
   {
    "duration": 9,
    "start_time": "2024-06-18T02:04:30.241Z"
   },
   {
    "duration": 506,
    "start_time": "2024-06-18T02:04:30.253Z"
   },
   {
    "duration": 9,
    "start_time": "2024-06-18T02:04:30.763Z"
   },
   {
    "duration": 327,
    "start_time": "2024-06-18T02:04:30.778Z"
   },
   {
    "duration": 8,
    "start_time": "2024-06-18T02:04:31.108Z"
   },
   {
    "duration": 519,
    "start_time": "2024-06-18T02:04:31.127Z"
   },
   {
    "duration": 598,
    "start_time": "2024-06-18T02:04:31.651Z"
   },
   {
    "duration": 700,
    "start_time": "2024-06-18T02:04:32.252Z"
   },
   {
    "duration": 10,
    "start_time": "2024-06-18T02:04:32.956Z"
   },
   {
    "duration": 22,
    "start_time": "2024-06-18T02:04:32.969Z"
   },
   {
    "duration": 402,
    "start_time": "2024-06-18T02:04:32.995Z"
   },
   {
    "duration": 578,
    "start_time": "2024-06-18T02:04:33.401Z"
   },
   {
    "duration": 14,
    "start_time": "2024-06-18T02:04:33.982Z"
   },
   {
    "duration": 6,
    "start_time": "2024-06-18T02:04:33.999Z"
   },
   {
    "duration": 12,
    "start_time": "2024-06-18T02:04:34.009Z"
   },
   {
    "duration": 568,
    "start_time": "2024-06-18T02:04:34.025Z"
   },
   {
    "duration": 8,
    "start_time": "2024-06-18T02:04:34.596Z"
   },
   {
    "duration": 5,
    "start_time": "2024-06-18T02:04:34.607Z"
   },
   {
    "duration": 14,
    "start_time": "2024-06-18T02:04:34.614Z"
   },
   {
    "duration": 459,
    "start_time": "2024-06-18T02:04:34.631Z"
   },
   {
    "duration": 10,
    "start_time": "2024-06-18T02:04:35.095Z"
   },
   {
    "duration": 5,
    "start_time": "2024-06-18T02:04:35.111Z"
   },
   {
    "duration": 12,
    "start_time": "2024-06-18T02:04:35.119Z"
   },
   {
    "duration": 298,
    "start_time": "2024-06-18T02:04:35.133Z"
   },
   {
    "duration": 8,
    "start_time": "2024-06-18T02:04:35.435Z"
   },
   {
    "duration": 5,
    "start_time": "2024-06-18T02:04:35.447Z"
   },
   {
    "duration": 33,
    "start_time": "2024-06-18T02:04:35.458Z"
   },
   {
    "duration": 548,
    "start_time": "2024-06-18T02:04:35.494Z"
   },
   {
    "duration": 9,
    "start_time": "2024-06-18T02:04:36.047Z"
   },
   {
    "duration": 6,
    "start_time": "2024-06-18T02:04:36.059Z"
   },
   {
    "duration": 11,
    "start_time": "2024-06-18T02:04:36.092Z"
   },
   {
    "duration": 339,
    "start_time": "2024-06-18T02:04:36.107Z"
   },
   {
    "duration": 8,
    "start_time": "2024-06-18T02:04:36.452Z"
   },
   {
    "duration": 6,
    "start_time": "2024-06-18T02:04:36.463Z"
   },
   {
    "duration": 11,
    "start_time": "2024-06-18T02:04:36.492Z"
   },
   {
    "duration": 269,
    "start_time": "2024-06-18T02:04:36.507Z"
   },
   {
    "duration": 13,
    "start_time": "2024-06-18T02:04:36.781Z"
   },
   {
    "duration": 5,
    "start_time": "2024-06-18T02:04:36.798Z"
   },
   {
    "duration": 10,
    "start_time": "2024-06-18T02:04:36.806Z"
   },
   {
    "duration": 672,
    "start_time": "2024-06-18T02:04:36.819Z"
   },
   {
    "duration": 9,
    "start_time": "2024-06-18T02:04:37.494Z"
   },
   {
    "duration": 6,
    "start_time": "2024-06-18T02:04:37.506Z"
   },
   {
    "duration": 12,
    "start_time": "2024-06-18T02:04:37.515Z"
   },
   {
    "duration": 353,
    "start_time": "2024-06-18T02:04:37.530Z"
   },
   {
    "duration": 9,
    "start_time": "2024-06-18T02:04:37.890Z"
   },
   {
    "duration": 5,
    "start_time": "2024-06-18T02:04:37.902Z"
   },
   {
    "duration": 12,
    "start_time": "2024-06-18T02:04:37.910Z"
   },
   {
    "duration": 284,
    "start_time": "2024-06-18T02:04:37.925Z"
   },
   {
    "duration": 13,
    "start_time": "2024-06-18T02:04:38.212Z"
   },
   {
    "duration": 15,
    "start_time": "2024-06-18T02:04:38.229Z"
   },
   {
    "duration": 203,
    "start_time": "2024-06-18T02:37:49.958Z"
   },
   {
    "duration": 280,
    "start_time": "2024-06-18T02:38:16.830Z"
   },
   {
    "duration": 240,
    "start_time": "2024-06-18T02:40:50.518Z"
   },
   {
    "duration": 209,
    "start_time": "2024-06-18T02:41:01.964Z"
   },
   {
    "duration": 206,
    "start_time": "2024-06-18T02:41:10.039Z"
   },
   {
    "duration": 215,
    "start_time": "2024-06-18T02:42:10.285Z"
   },
   {
    "duration": 227,
    "start_time": "2024-06-18T02:42:22.593Z"
   },
   {
    "duration": 202,
    "start_time": "2024-06-18T02:42:31.990Z"
   },
   {
    "duration": 270,
    "start_time": "2024-06-18T02:46:17.231Z"
   },
   {
    "duration": 7,
    "start_time": "2024-06-18T02:46:54.264Z"
   },
   {
    "duration": 214,
    "start_time": "2024-06-18T02:47:21.948Z"
   },
   {
    "duration": 9,
    "start_time": "2024-06-18T02:47:57.183Z"
   },
   {
    "duration": 223,
    "start_time": "2024-06-18T02:49:08.108Z"
   },
   {
    "duration": 213,
    "start_time": "2024-06-18T02:49:28.225Z"
   },
   {
    "duration": 743,
    "start_time": "2024-06-18T02:49:36.925Z"
   },
   {
    "duration": 225,
    "start_time": "2024-06-18T02:49:46.139Z"
   },
   {
    "duration": 212,
    "start_time": "2024-06-18T02:51:27.428Z"
   },
   {
    "duration": 223,
    "start_time": "2024-06-18T02:52:10.074Z"
   },
   {
    "duration": 271,
    "start_time": "2024-06-18T02:52:30.514Z"
   },
   {
    "duration": 252,
    "start_time": "2024-06-18T02:53:14.603Z"
   },
   {
    "duration": 267,
    "start_time": "2024-06-18T02:54:49.763Z"
   },
   {
    "duration": 273,
    "start_time": "2024-06-18T02:55:34.590Z"
   },
   {
    "duration": 220,
    "start_time": "2024-06-18T02:56:13.214Z"
   },
   {
    "duration": 241,
    "start_time": "2024-06-18T02:56:54.486Z"
   },
   {
    "duration": 245,
    "start_time": "2024-06-18T02:57:45.508Z"
   },
   {
    "duration": 352,
    "start_time": "2024-06-18T02:58:25.167Z"
   },
   {
    "duration": 228,
    "start_time": "2024-06-18T02:59:03.815Z"
   },
   {
    "duration": 44,
    "start_time": "2024-06-18T03:08:46.607Z"
   },
   {
    "duration": 30,
    "start_time": "2024-06-18T03:09:13.350Z"
   },
   {
    "duration": 7,
    "start_time": "2024-06-18T03:09:14.882Z"
   },
   {
    "duration": 32,
    "start_time": "2024-06-18T03:09:15.502Z"
   },
   {
    "duration": 36,
    "start_time": "2024-06-18T03:09:27.793Z"
   },
   {
    "duration": 434,
    "start_time": "2024-06-18T03:09:36.643Z"
   },
   {
    "duration": 163,
    "start_time": "2024-06-18T03:09:48.930Z"
   },
   {
    "duration": 440,
    "start_time": "2024-06-18T03:09:58.015Z"
   },
   {
    "duration": 473,
    "start_time": "2024-06-18T03:10:14.844Z"
   },
   {
    "duration": 458,
    "start_time": "2024-06-18T03:11:04.796Z"
   },
   {
    "duration": 35,
    "start_time": "2024-06-18T03:11:44.022Z"
   },
   {
    "duration": 30,
    "start_time": "2024-06-18T03:11:55.668Z"
   },
   {
    "duration": 487,
    "start_time": "2024-06-18T03:12:03.479Z"
   },
   {
    "duration": 469,
    "start_time": "2024-06-18T03:15:57.410Z"
   },
   {
    "duration": 470,
    "start_time": "2024-06-18T03:16:32.468Z"
   },
   {
    "duration": 539,
    "start_time": "2024-06-18T15:03:44.215Z"
   },
   {
    "duration": 3915,
    "start_time": "2024-06-18T15:03:44.758Z"
   },
   {
    "duration": 600,
    "start_time": "2024-06-18T15:03:48.676Z"
   },
   {
    "duration": 4,
    "start_time": "2024-06-18T15:03:49.278Z"
   },
   {
    "duration": 59,
    "start_time": "2024-06-18T15:03:49.287Z"
   },
   {
    "duration": 37,
    "start_time": "2024-06-18T15:03:49.349Z"
   },
   {
    "duration": 25,
    "start_time": "2024-06-18T15:03:49.389Z"
   },
   {
    "duration": 31,
    "start_time": "2024-06-18T15:03:49.417Z"
   },
   {
    "duration": 65,
    "start_time": "2024-06-18T15:03:49.451Z"
   },
   {
    "duration": 7,
    "start_time": "2024-06-18T15:03:49.519Z"
   },
   {
    "duration": 8,
    "start_time": "2024-06-18T15:03:49.530Z"
   },
   {
    "duration": 5,
    "start_time": "2024-06-18T15:03:49.541Z"
   },
   {
    "duration": 7,
    "start_time": "2024-06-18T15:03:49.549Z"
   },
   {
    "duration": 7,
    "start_time": "2024-06-18T15:03:49.613Z"
   },
   {
    "duration": 7,
    "start_time": "2024-06-18T15:03:49.624Z"
   },
   {
    "duration": 7,
    "start_time": "2024-06-18T15:03:49.634Z"
   },
   {
    "duration": 10,
    "start_time": "2024-06-18T15:03:49.644Z"
   },
   {
    "duration": 84,
    "start_time": "2024-06-18T15:03:49.657Z"
   },
   {
    "duration": 114,
    "start_time": "2024-06-18T15:03:49.743Z"
   },
   {
    "duration": 53,
    "start_time": "2024-06-18T15:03:49.859Z"
   },
   {
    "duration": 13,
    "start_time": "2024-06-18T15:03:49.915Z"
   },
   {
    "duration": 21,
    "start_time": "2024-06-18T15:03:49.933Z"
   },
   {
    "duration": 56,
    "start_time": "2024-06-18T15:03:49.957Z"
   },
   {
    "duration": 21,
    "start_time": "2024-06-18T15:03:50.016Z"
   },
   {
    "duration": 19,
    "start_time": "2024-06-18T15:03:50.041Z"
   },
   {
    "duration": 50,
    "start_time": "2024-06-18T15:03:50.062Z"
   },
   {
    "duration": 8,
    "start_time": "2024-06-18T15:03:50.115Z"
   },
   {
    "duration": 520,
    "start_time": "2024-06-18T15:03:50.127Z"
   },
   {
    "duration": 21,
    "start_time": "2024-06-18T15:03:50.650Z"
   },
   {
    "duration": 878,
    "start_time": "2024-06-18T15:03:50.674Z"
   },
   {
    "duration": 26,
    "start_time": "2024-06-18T15:03:51.555Z"
   },
   {
    "duration": 33,
    "start_time": "2024-06-18T15:03:51.584Z"
   },
   {
    "duration": 16,
    "start_time": "2024-06-18T15:03:51.620Z"
   },
   {
    "duration": 12,
    "start_time": "2024-06-18T15:03:51.639Z"
   },
   {
    "duration": 6,
    "start_time": "2024-06-18T15:03:51.653Z"
   },
   {
    "duration": 53,
    "start_time": "2024-06-18T15:03:51.662Z"
   },
   {
    "duration": 405,
    "start_time": "2024-06-18T15:03:51.718Z"
   },
   {
    "duration": 9,
    "start_time": "2024-06-18T15:03:52.126Z"
   },
   {
    "duration": 349,
    "start_time": "2024-06-18T15:03:52.138Z"
   },
   {
    "duration": 22,
    "start_time": "2024-06-18T15:03:52.490Z"
   },
   {
    "duration": 449,
    "start_time": "2024-06-18T15:03:52.523Z"
   },
   {
    "duration": 639,
    "start_time": "2024-06-18T15:03:52.976Z"
   },
   {
    "duration": 631,
    "start_time": "2024-06-18T15:03:53.618Z"
   },
   {
    "duration": 9,
    "start_time": "2024-06-18T15:03:54.253Z"
   },
   {
    "duration": 5,
    "start_time": "2024-06-18T15:03:54.265Z"
   },
   {
    "duration": 398,
    "start_time": "2024-06-18T15:03:54.311Z"
   },
   {
    "duration": 529,
    "start_time": "2024-06-18T15:03:54.712Z"
   },
   {
    "duration": 8,
    "start_time": "2024-06-18T15:03:55.244Z"
   },
   {
    "duration": 5,
    "start_time": "2024-06-18T15:03:55.256Z"
   },
   {
    "duration": 50,
    "start_time": "2024-06-18T15:03:55.264Z"
   },
   {
    "duration": 244,
    "start_time": "2024-06-18T15:03:55.317Z"
   },
   {
    "duration": 8,
    "start_time": "2024-06-18T15:03:55.564Z"
   },
   {
    "duration": 5,
    "start_time": "2024-06-18T15:03:55.575Z"
   },
   {
    "duration": 9,
    "start_time": "2024-06-18T15:03:55.612Z"
   },
   {
    "duration": 256,
    "start_time": "2024-06-18T15:03:55.624Z"
   },
   {
    "duration": 9,
    "start_time": "2024-06-18T15:03:55.883Z"
   },
   {
    "duration": 5,
    "start_time": "2024-06-18T15:03:55.912Z"
   },
   {
    "duration": 12,
    "start_time": "2024-06-18T15:03:55.921Z"
   },
   {
    "duration": 308,
    "start_time": "2024-06-18T15:03:55.936Z"
   },
   {
    "duration": 9,
    "start_time": "2024-06-18T15:03:56.247Z"
   },
   {
    "duration": 5,
    "start_time": "2024-06-18T15:03:56.260Z"
   },
   {
    "duration": 45,
    "start_time": "2024-06-18T15:03:56.268Z"
   },
   {
    "duration": 246,
    "start_time": "2024-06-18T15:03:56.316Z"
   },
   {
    "duration": 9,
    "start_time": "2024-06-18T15:03:56.566Z"
   },
   {
    "duration": 6,
    "start_time": "2024-06-18T15:03:56.578Z"
   },
   {
    "duration": 10,
    "start_time": "2024-06-18T15:03:56.611Z"
   },
   {
    "duration": 247,
    "start_time": "2024-06-18T15:03:56.625Z"
   },
   {
    "duration": 8,
    "start_time": "2024-06-18T15:03:56.875Z"
   },
   {
    "duration": 27,
    "start_time": "2024-06-18T15:03:56.886Z"
   },
   {
    "duration": 12,
    "start_time": "2024-06-18T15:03:56.917Z"
   },
   {
    "duration": 240,
    "start_time": "2024-06-18T15:03:56.932Z"
   },
   {
    "duration": 9,
    "start_time": "2024-06-18T15:03:57.175Z"
   },
   {
    "duration": 25,
    "start_time": "2024-06-18T15:03:57.187Z"
   },
   {
    "duration": 13,
    "start_time": "2024-06-18T15:03:57.216Z"
   },
   {
    "duration": 250,
    "start_time": "2024-06-18T15:03:57.233Z"
   },
   {
    "duration": 26,
    "start_time": "2024-06-18T15:03:57.486Z"
   },
   {
    "duration": 7,
    "start_time": "2024-06-18T15:03:57.515Z"
   },
   {
    "duration": 11,
    "start_time": "2024-06-18T15:03:57.526Z"
   },
   {
    "duration": 282,
    "start_time": "2024-06-18T15:03:57.541Z"
   },
   {
    "duration": 10,
    "start_time": "2024-06-18T15:03:57.827Z"
   },
   {
    "duration": 5,
    "start_time": "2024-06-18T15:03:57.844Z"
   },
   {
    "duration": 12,
    "start_time": "2024-06-18T15:03:57.852Z"
   },
   {
    "duration": 269,
    "start_time": "2024-06-18T15:03:57.867Z"
   },
   {
    "duration": 16,
    "start_time": "2024-06-18T15:03:58.140Z"
   },
   {
    "duration": 52,
    "start_time": "2024-06-18T15:03:58.161Z"
   },
   {
    "duration": 466,
    "start_time": "2024-06-18T20:56:39.850Z"
   },
   {
    "duration": 3965,
    "start_time": "2024-06-18T20:56:40.319Z"
   },
   {
    "duration": 619,
    "start_time": "2024-06-18T20:56:44.287Z"
   },
   {
    "duration": 5,
    "start_time": "2024-06-18T20:56:44.909Z"
   },
   {
    "duration": 56,
    "start_time": "2024-06-18T20:56:44.917Z"
   },
   {
    "duration": 36,
    "start_time": "2024-06-18T20:56:44.976Z"
   },
   {
    "duration": 4,
    "start_time": "2024-06-18T20:56:45.015Z"
   },
   {
    "duration": 29,
    "start_time": "2024-06-18T20:56:45.022Z"
   },
   {
    "duration": 54,
    "start_time": "2024-06-18T20:56:45.054Z"
   },
   {
    "duration": 7,
    "start_time": "2024-06-18T20:56:45.114Z"
   },
   {
    "duration": 8,
    "start_time": "2024-06-18T20:56:45.126Z"
   },
   {
    "duration": 5,
    "start_time": "2024-06-18T20:56:45.138Z"
   },
   {
    "duration": 7,
    "start_time": "2024-06-18T20:56:45.147Z"
   },
   {
    "duration": 56,
    "start_time": "2024-06-18T20:56:45.158Z"
   },
   {
    "duration": 8,
    "start_time": "2024-06-18T20:56:45.219Z"
   },
   {
    "duration": 7,
    "start_time": "2024-06-18T20:56:45.231Z"
   },
   {
    "duration": 10,
    "start_time": "2024-06-18T20:56:45.240Z"
   },
   {
    "duration": 73,
    "start_time": "2024-06-18T20:56:45.253Z"
   },
   {
    "duration": 96,
    "start_time": "2024-06-18T20:56:45.330Z"
   },
   {
    "duration": 29,
    "start_time": "2024-06-18T20:56:45.429Z"
   },
   {
    "duration": 14,
    "start_time": "2024-06-18T20:56:45.461Z"
   },
   {
    "duration": 44,
    "start_time": "2024-06-18T20:56:45.479Z"
   },
   {
    "duration": 9,
    "start_time": "2024-06-18T20:56:45.526Z"
   },
   {
    "duration": 22,
    "start_time": "2024-06-18T20:56:45.538Z"
   },
   {
    "duration": 56,
    "start_time": "2024-06-18T20:56:45.563Z"
   },
   {
    "duration": 5,
    "start_time": "2024-06-18T20:56:45.623Z"
   },
   {
    "duration": 8,
    "start_time": "2024-06-18T20:56:45.632Z"
   },
   {
    "duration": 521,
    "start_time": "2024-06-18T20:56:45.650Z"
   },
   {
    "duration": 16,
    "start_time": "2024-06-18T20:56:46.175Z"
   },
   {
    "duration": 774,
    "start_time": "2024-06-18T20:56:46.206Z"
   },
   {
    "duration": 28,
    "start_time": "2024-06-18T20:56:46.986Z"
   },
   {
    "duration": 7,
    "start_time": "2024-06-18T20:56:47.018Z"
   },
   {
    "duration": 14,
    "start_time": "2024-06-18T20:56:47.028Z"
   },
   {
    "duration": 9,
    "start_time": "2024-06-18T20:56:47.046Z"
   },
   {
    "duration": 5,
    "start_time": "2024-06-18T20:56:47.058Z"
   },
   {
    "duration": 7,
    "start_time": "2024-06-18T20:56:47.107Z"
   },
   {
    "duration": 522,
    "start_time": "2024-06-18T20:56:47.117Z"
   },
   {
    "duration": 7,
    "start_time": "2024-06-18T20:56:47.642Z"
   },
   {
    "duration": 330,
    "start_time": "2024-06-18T20:56:47.652Z"
   },
   {
    "duration": 7,
    "start_time": "2024-06-18T20:56:47.985Z"
   },
   {
    "duration": 452,
    "start_time": "2024-06-18T20:56:48.008Z"
   },
   {
    "duration": 611,
    "start_time": "2024-06-18T20:56:48.463Z"
   },
   {
    "duration": 615,
    "start_time": "2024-06-18T20:56:49.077Z"
   },
   {
    "duration": 10,
    "start_time": "2024-06-18T20:56:49.708Z"
   },
   {
    "duration": 6,
    "start_time": "2024-06-18T20:56:49.722Z"
   },
   {
    "duration": 385,
    "start_time": "2024-06-18T20:56:49.732Z"
   },
   {
    "duration": 492,
    "start_time": "2024-06-18T20:56:50.120Z"
   },
   {
    "duration": 9,
    "start_time": "2024-06-18T20:56:50.616Z"
   },
   {
    "duration": 6,
    "start_time": "2024-06-18T20:56:50.628Z"
   },
   {
    "duration": 12,
    "start_time": "2024-06-18T20:56:50.640Z"
   },
   {
    "duration": 374,
    "start_time": "2024-06-18T20:56:50.657Z"
   },
   {
    "duration": 9,
    "start_time": "2024-06-18T20:56:51.033Z"
   },
   {
    "duration": 5,
    "start_time": "2024-06-18T20:56:51.045Z"
   },
   {
    "duration": 10,
    "start_time": "2024-06-18T20:56:51.053Z"
   },
   {
    "duration": 274,
    "start_time": "2024-06-18T20:56:51.066Z"
   },
   {
    "duration": 9,
    "start_time": "2024-06-18T20:56:51.343Z"
   },
   {
    "duration": 4,
    "start_time": "2024-06-18T20:56:51.357Z"
   },
   {
    "duration": 11,
    "start_time": "2024-06-18T20:56:51.364Z"
   },
   {
    "duration": 282,
    "start_time": "2024-06-18T20:56:51.406Z"
   },
   {
    "duration": 20,
    "start_time": "2024-06-18T20:56:51.691Z"
   },
   {
    "duration": 6,
    "start_time": "2024-06-18T20:56:51.714Z"
   },
   {
    "duration": 10,
    "start_time": "2024-06-18T20:56:51.724Z"
   },
   {
    "duration": 259,
    "start_time": "2024-06-18T20:56:51.737Z"
   },
   {
    "duration": 11,
    "start_time": "2024-06-18T20:56:52.006Z"
   },
   {
    "duration": 7,
    "start_time": "2024-06-18T20:56:52.023Z"
   },
   {
    "duration": 10,
    "start_time": "2024-06-18T20:56:52.034Z"
   },
   {
    "duration": 239,
    "start_time": "2024-06-18T20:56:52.048Z"
   },
   {
    "duration": 16,
    "start_time": "2024-06-18T20:56:52.290Z"
   },
   {
    "duration": 5,
    "start_time": "2024-06-18T20:56:52.309Z"
   },
   {
    "duration": 11,
    "start_time": "2024-06-18T20:56:52.318Z"
   },
   {
    "duration": 228,
    "start_time": "2024-06-18T20:56:52.333Z"
   },
   {
    "duration": 8,
    "start_time": "2024-06-18T20:56:52.564Z"
   },
   {
    "duration": 6,
    "start_time": "2024-06-18T20:56:52.574Z"
   },
   {
    "duration": 11,
    "start_time": "2024-06-18T20:56:52.605Z"
   },
   {
    "duration": 241,
    "start_time": "2024-06-18T20:56:52.619Z"
   },
   {
    "duration": 8,
    "start_time": "2024-06-18T20:56:52.863Z"
   },
   {
    "duration": 5,
    "start_time": "2024-06-18T20:56:52.874Z"
   },
   {
    "duration": 11,
    "start_time": "2024-06-18T20:56:52.905Z"
   },
   {
    "duration": 263,
    "start_time": "2024-06-18T20:56:52.918Z"
   },
   {
    "duration": 22,
    "start_time": "2024-06-18T20:56:53.185Z"
   },
   {
    "duration": 5,
    "start_time": "2024-06-18T20:56:53.210Z"
   },
   {
    "duration": 9,
    "start_time": "2024-06-18T20:56:53.227Z"
   },
   {
    "duration": 243,
    "start_time": "2024-06-18T20:56:53.240Z"
   },
   {
    "duration": 22,
    "start_time": "2024-06-18T20:56:53.486Z"
   },
   {
    "duration": 23,
    "start_time": "2024-06-18T20:56:53.511Z"
   },
   {
    "duration": 12,
    "start_time": "2024-06-18T21:13:34.489Z"
   },
   {
    "duration": 437,
    "start_time": "2024-06-18T21:13:41.354Z"
   },
   {
    "duration": 237,
    "start_time": "2024-06-18T21:13:41.794Z"
   },
   {
    "duration": 610,
    "start_time": "2024-06-18T21:13:42.034Z"
   },
   {
    "duration": 4,
    "start_time": "2024-06-18T21:13:42.647Z"
   },
   {
    "duration": 52,
    "start_time": "2024-06-18T21:13:42.656Z"
   },
   {
    "duration": 33,
    "start_time": "2024-06-18T21:13:42.711Z"
   },
   {
    "duration": 4,
    "start_time": "2024-06-18T21:13:42.747Z"
   },
   {
    "duration": 60,
    "start_time": "2024-06-18T21:13:42.754Z"
   },
   {
    "duration": 19,
    "start_time": "2024-06-18T21:13:42.817Z"
   },
   {
    "duration": 6,
    "start_time": "2024-06-18T21:13:42.839Z"
   },
   {
    "duration": 8,
    "start_time": "2024-06-18T21:13:42.848Z"
   },
   {
    "duration": 4,
    "start_time": "2024-06-18T21:13:42.859Z"
   },
   {
    "duration": 13,
    "start_time": "2024-06-18T21:13:42.908Z"
   },
   {
    "duration": 6,
    "start_time": "2024-06-18T21:13:42.928Z"
   },
   {
    "duration": 7,
    "start_time": "2024-06-18T21:13:42.937Z"
   },
   {
    "duration": 6,
    "start_time": "2024-06-18T21:13:42.947Z"
   },
   {
    "duration": 55,
    "start_time": "2024-06-18T21:13:42.956Z"
   },
   {
    "duration": 30,
    "start_time": "2024-06-18T21:13:43.013Z"
   },
   {
    "duration": 85,
    "start_time": "2024-06-18T21:13:43.046Z"
   },
   {
    "duration": 28,
    "start_time": "2024-06-18T21:13:43.134Z"
   },
   {
    "duration": 13,
    "start_time": "2024-06-18T21:13:43.164Z"
   },
   {
    "duration": 38,
    "start_time": "2024-06-18T21:13:43.179Z"
   },
   {
    "duration": 6,
    "start_time": "2024-06-18T21:13:43.220Z"
   },
   {
    "duration": 25,
    "start_time": "2024-06-18T21:13:43.230Z"
   },
   {
    "duration": 50,
    "start_time": "2024-06-18T21:13:43.258Z"
   },
   {
    "duration": 7,
    "start_time": "2024-06-18T21:13:43.313Z"
   },
   {
    "duration": 8,
    "start_time": "2024-06-18T21:13:43.325Z"
   },
   {
    "duration": 422,
    "start_time": "2024-06-18T21:13:43.336Z"
   },
   {
    "duration": 17,
    "start_time": "2024-06-18T21:13:43.761Z"
   },
   {
    "duration": 706,
    "start_time": "2024-06-18T21:13:43.781Z"
   },
   {
    "duration": 23,
    "start_time": "2024-06-18T21:13:44.490Z"
   },
   {
    "duration": 8,
    "start_time": "2024-06-18T21:13:44.516Z"
   },
   {
    "duration": 13,
    "start_time": "2024-06-18T21:13:44.527Z"
   },
   {
    "duration": 11,
    "start_time": "2024-06-18T21:13:44.544Z"
   },
   {
    "duration": 7,
    "start_time": "2024-06-18T21:13:44.557Z"
   },
   {
    "duration": 6,
    "start_time": "2024-06-18T21:13:44.607Z"
   },
   {
    "duration": 402,
    "start_time": "2024-06-18T21:13:44.616Z"
   },
   {
    "duration": 7,
    "start_time": "2024-06-18T21:13:45.021Z"
   },
   {
    "duration": 332,
    "start_time": "2024-06-18T21:13:45.032Z"
   },
   {
    "duration": 7,
    "start_time": "2024-06-18T21:13:45.367Z"
   },
   {
    "duration": 422,
    "start_time": "2024-06-18T21:13:45.385Z"
   },
   {
    "duration": 608,
    "start_time": "2024-06-18T21:13:45.811Z"
   },
   {
    "duration": 604,
    "start_time": "2024-06-18T21:13:46.422Z"
   },
   {
    "duration": 9,
    "start_time": "2024-06-18T21:13:47.029Z"
   },
   {
    "duration": 5,
    "start_time": "2024-06-18T21:13:47.040Z"
   },
   {
    "duration": 380,
    "start_time": "2024-06-18T21:13:47.048Z"
   },
   {
    "duration": 532,
    "start_time": "2024-06-18T21:13:47.432Z"
   },
   {
    "duration": 8,
    "start_time": "2024-06-18T21:13:47.967Z"
   },
   {
    "duration": 29,
    "start_time": "2024-06-18T21:13:47.978Z"
   },
   {
    "duration": 16,
    "start_time": "2024-06-18T21:13:48.010Z"
   },
   {
    "duration": 255,
    "start_time": "2024-06-18T21:13:48.029Z"
   },
   {
    "duration": 19,
    "start_time": "2024-06-18T21:13:48.288Z"
   },
   {
    "duration": 5,
    "start_time": "2024-06-18T21:13:48.310Z"
   },
   {
    "duration": 11,
    "start_time": "2024-06-18T21:13:48.320Z"
   },
   {
    "duration": 246,
    "start_time": "2024-06-18T21:13:48.334Z"
   },
   {
    "duration": 8,
    "start_time": "2024-06-18T21:13:48.583Z"
   },
   {
    "duration": 18,
    "start_time": "2024-06-18T21:13:48.593Z"
   },
   {
    "duration": 12,
    "start_time": "2024-06-18T21:13:48.614Z"
   },
   {
    "duration": 274,
    "start_time": "2024-06-18T21:13:48.629Z"
   },
   {
    "duration": 13,
    "start_time": "2024-06-18T21:13:48.907Z"
   },
   {
    "duration": 5,
    "start_time": "2024-06-18T21:13:48.924Z"
   },
   {
    "duration": 11,
    "start_time": "2024-06-18T21:13:48.932Z"
   },
   {
    "duration": 247,
    "start_time": "2024-06-18T21:13:48.946Z"
   },
   {
    "duration": 20,
    "start_time": "2024-06-18T21:13:49.196Z"
   },
   {
    "duration": 5,
    "start_time": "2024-06-18T21:13:49.218Z"
   },
   {
    "duration": 11,
    "start_time": "2024-06-18T21:13:49.226Z"
   },
   {
    "duration": 269,
    "start_time": "2024-06-18T21:13:49.239Z"
   },
   {
    "duration": 8,
    "start_time": "2024-06-18T21:13:49.511Z"
   },
   {
    "duration": 5,
    "start_time": "2024-06-18T21:13:49.522Z"
   },
   {
    "duration": 10,
    "start_time": "2024-06-18T21:13:49.530Z"
   },
   {
    "duration": 259,
    "start_time": "2024-06-18T21:13:49.543Z"
   },
   {
    "duration": 9,
    "start_time": "2024-06-18T21:13:49.804Z"
   },
   {
    "duration": 5,
    "start_time": "2024-06-18T21:13:49.816Z"
   },
   {
    "duration": 10,
    "start_time": "2024-06-18T21:13:49.824Z"
   },
   {
    "duration": 285,
    "start_time": "2024-06-18T21:13:49.838Z"
   },
   {
    "duration": 7,
    "start_time": "2024-06-18T21:13:50.126Z"
   },
   {
    "duration": 5,
    "start_time": "2024-06-18T21:13:50.136Z"
   },
   {
    "duration": 10,
    "start_time": "2024-06-18T21:13:50.144Z"
   },
   {
    "duration": 260,
    "start_time": "2024-06-18T21:13:50.157Z"
   },
   {
    "duration": 9,
    "start_time": "2024-06-18T21:13:50.420Z"
   },
   {
    "duration": 4,
    "start_time": "2024-06-18T21:13:50.432Z"
   },
   {
    "duration": 11,
    "start_time": "2024-06-18T21:13:50.439Z"
   },
   {
    "duration": 285,
    "start_time": "2024-06-18T21:13:50.453Z"
   },
   {
    "duration": 12,
    "start_time": "2024-06-18T21:13:50.741Z"
   },
   {
    "duration": 13,
    "start_time": "2024-06-18T21:13:50.756Z"
   }
  ],
  "kernelspec": {
   "display_name": "Python 3 (ipykernel)",
   "language": "python",
   "name": "python3"
  },
  "language_info": {
   "codemirror_mode": {
    "name": "ipython",
    "version": 3
   },
   "file_extension": ".py",
   "mimetype": "text/x-python",
   "name": "python",
   "nbconvert_exporter": "python",
   "pygments_lexer": "ipython3",
   "version": "3.9.19"
  },
  "toc": {
   "base_numbering": 1,
   "nav_menu": {},
   "number_sections": true,
   "sideBar": true,
   "skip_h1_title": true,
   "title_cell": "Table of Contents",
   "title_sidebar": "Contents",
   "toc_cell": false,
   "toc_position": {},
   "toc_section_display": true,
   "toc_window_display": true
  }
 },
 "nbformat": 4,
 "nbformat_minor": 2
}
